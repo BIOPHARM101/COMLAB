{
 "cells": [
  {
   "cell_type": "markdown",
   "metadata": {
    "deletable": false,
    "editable": false,
    "id": "EU95rzNGHRP5",
    "nbgrader": {
     "cell_type": "markdown",
     "checksum": "b67eb204146ce7e3bc81739b41475f69",
     "grade": false,
     "grade_id": "cell-dbf37dcea5d7dc5c",
     "locked": true,
     "schema_version": 3,
     "solution": false,
     "task": false
    }
   },
   "source": [
    "## Q1 (2 points)\n",
    "จงเขียนฟังก์ชัน `get_dict(file_name)` ที่รับ parameter เป็นชื่อไฟล์ แล้วสร้างและคืน dictionary ซึ่งมี\n",
    "- key เป็นตัวเลขของรหัสสินค้า และ มี \n",
    "- value เป็น dictionary ที่มี \n",
    "    - key เป็นสตริงของขนาด (`S`, `M`,  `L` หรือ `XL`) และ \n",
    "    - value เป็นตัวเลขจำนวนของสินค้า\n",
    "    \n",
    "และแสดงผลลัพธ์เป็นข้อมูลใน dictionary ตามตัวอย่างการทำงาน"
   ]
  },
  {
   "cell_type": "markdown",
   "metadata": {
    "deletable": false,
    "editable": false,
    "id": "V1a0jQVXHRQC",
    "nbgrader": {
     "cell_type": "markdown",
     "checksum": "42cf225a4a3c1896c65b5590039b500e",
     "grade": false,
     "grade_id": "cell-7ae57c7b0fc2869d",
     "locked": true,
     "schema_version": 3,
     "solution": false,
     "task": false
    }
   },
   "source": [
    "### ตัวอย่างการทำงาน: \n",
    "get_dict(**'stock1.txt'**) <br>\n",
    "{4125: {'M': 4}, 5645: {'L': 7}, 7845: {'XL': 3}}"
   ]
  },
  {
   "cell_type": "markdown",
   "metadata": {
    "deletable": false,
    "editable": false,
    "id": "mrKQrUwQHRQD",
    "nbgrader": {
     "cell_type": "markdown",
     "checksum": "db649a3920c8d67fdcb5ff429ce1420c",
     "grade": false,
     "grade_id": "cell-ab9308f5dbb737a2",
     "locked": true,
     "schema_version": 3,
     "solution": false,
     "task": false
    }
   },
   "source": [
    "### ตัวอย่างการทำงาน: \n",
    "get_dict(**'stock2.txt'**)<br>\n",
    "{7845: {'XL': 3}, 4125: {'S': 1, 'M': 4}, 5645: {'L': 7}, 9874: {'S': 3}}"
   ]
  },
  {
   "cell_type": "markdown",
   "metadata": {
    "deletable": false,
    "editable": false,
    "id": "xu8uV_PYHRQE",
    "nbgrader": {
     "cell_type": "markdown",
     "checksum": "37b4b6529dbf55c64fe88a556da381fd",
     "grade": false,
     "grade_id": "cell-f7c8bee0599df624",
     "locked": true,
     "schema_version": 3,
     "solution": false,
     "task": false
    }
   },
   "source": [
    "### ตัวอย่างการทำงาน: \n",
    "get_dict('**stock3.txt**')<br>\n",
    "{4125: {'S': 1, 'M': 4}, 5645: {'L': 7}, 9874: {'S': 8}, 9875: {'M': 8}, 7845: {'S': 10, 'XL': 3}}"
   ]
  },
  {
   "cell_type": "code",
   "execution_count": null,
   "metadata": {
    "deletable": false,
    "id": "Gu013atKHRQE",
    "nbgrader": {
     "cell_type": "code",
     "checksum": "81e0c99faa12672d250c9ba8d3ee684a",
     "grade": false,
     "grade_id": "name",
     "locked": false,
     "schema_version": 3,
     "solution": true
    }
   },
   "outputs": [],
   "source": [
    "def get_dict(file_name):\n",
    "    '''สร้าง dictionary ของรหัสและจำนวนสินค้า คืนค่าเป็น dictionary'''\n",
    "    # YOUR CODE HERE\n",
    "    file_name = open(file_name,'r')\n",
    "    all_data = {}\n",
    "    for i in file_name:\n",
    "        a,b,c = i.strip().split()\n",
    "        if int(a) not in all_data:\n",
    "            all_data.update({int(a):{b:int(c)}})\n",
    "        elif int(a) in all_data:\n",
    "            if b in all_data[int(a)]:\n",
    "                all_data[int(a)][b] += int(c)\n",
    "            else:\n",
    "                all_data[int(a)].update({b:int(c)})\n",
    "    return all_data\n",
    "\n"
   ]
  },
  {
   "cell_type": "code",
   "execution_count": null,
   "metadata": {
    "colab": {
     "base_uri": "https://localhost:8080/",
     "height": 321
    },
    "id": "UwuTP22DHRQG",
    "outputId": "89020aa1-4f99-4fb8-9068-85d872de075c"
   },
   "outputs": [],
   "source": [
    "'''ตรวจสอบผลลัพธ์ของโปรแกรมด้วยการรันที่ cell นี้'''\n",
    "'''ตัวอย่าง get_dict(\"ใส่ชื่อไฟล์.txt\")'''\n",
    "get_dict('stock1.txt')"
   ]
  },
  {
   "cell_type": "code",
   "execution_count": null,
   "metadata": {
    "deletable": false,
    "editable": false,
    "id": "sQO_P6S-HRQJ",
    "nbgrader": {
     "cell_type": "code",
     "checksum": "6b1cd2dec0e40f07b5b5c7c9f00997fb",
     "grade": true,
     "grade_id": "exact",
     "locked": false,
     "points": 1,
     "schema_version": 3,
     "solution": false
    }
   },
   "outputs": [],
   "source": [
    "'''ตรวจสอบผลการคำนวณและการแสดงผลลัพธ์ให้เหมือนกับโจทย์ที่กำหนดให้'''\n",
    "'''Test 1'''\n",
    "assert get_dict('stock1.txt') == {4125: {'M': 4}, 5645: {'L': 7}, 7845: {'XL': 3}}, get_dict('stock1.txt')\n",
    "assert get_dict('stock2.txt') == {7845: {'XL': 3}, 4125: {'S': 1, 'M': 4}, 5645: {'L': 7}, 9874: {'S': 3}}, get_dict('stock2.txt')"
   ]
  },
  {
   "cell_type": "code",
   "execution_count": null,
   "metadata": {
    "deletable": false,
    "editable": false,
    "id": "HWIrQ93PHRQK",
    "nbgrader": {
     "cell_type": "code",
     "checksum": "29a5f4cfa76b060728876ced8296d6a7",
     "grade": true,
     "grade_id": "cell-c73870cae5a59dfa",
     "locked": true,
     "points": 1,
     "schema_version": 3,
     "solution": false,
     "task": false
    }
   },
   "outputs": [],
   "source": [
    "'''ตรวจสอบผลการคำนวณและการแสดงผลลัพธ์ให้เหมือนกับโจทย์ที่กำหนดให้'''\n",
    "'''Test  ลับ'''\n",
    "\n",
    "assert get_dict('stock4.txt') == {4125: {'S': 2, 'M': 8}, 5645: {'L': 14}, 9874: {'S': 16}, 9875: {'M': 16}, 7845: {'S': 20, 'XL': 6}}, get_dict('stock4.txt')"
   ]
  }
 ],
 "metadata": {
  "colab": {
   "collapsed_sections": [],
   "provenance": []
  },
  "kernelspec": {
   "display_name": "Python 3 (ipykernel)",
   "language": "python",
   "name": "python3"
  },
  "language_info": {
   "codemirror_mode": {
    "name": "ipython",
    "version": 3
   },
   "file_extension": ".py",
   "mimetype": "text/x-python",
   "name": "python",
   "nbconvert_exporter": "python",
   "pygments_lexer": "ipython3",
   "version": "3.9.12"
  },
  "vscode": {
   "interpreter": {
    "hash": "477227f617c98602bbef7991e84d6610b7b1741295eb15dad1f126b87d6adc5b"
   }
  }
 },
 "nbformat": 4,
 "nbformat_minor": 1
}
