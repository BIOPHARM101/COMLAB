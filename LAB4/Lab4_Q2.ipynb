{
 "cells": [
  {
   "cell_type": "markdown",
   "metadata": {
    "deletable": false,
    "editable": false,
    "nbgrader": {
     "cell_type": "markdown",
     "checksum": "7eacae1e2fe7e1f53300f75b75d8c159",
     "grade": false,
     "grade_id": "cell-dbf37dcea5d7dc5c",
     "locked": true,
     "schema_version": 3,
     "solution": false,
     "task": false
    }
   },
   "source": [
    "## Q2 (5 points)\n",
    "จงเขียนโปรแกรมที่รับน้ำหนัก และส่วนสูง จากผู้ใช้ มาคำนวณ bmi โดยให้ระบุหน่วยของน้ำหนักเป็น kg\n",
    "หรือ lbs และ หน่วยของส่วนสูงเป็น cm หรือ m หรือ ft แล้วไปแปลงเป็น kg และ m และคำนวณแสดงผลลัพธ์ว่าผู้ใช้มีรูปร่างในระดับใด <br>\n",
    "(1 kg. = 2.205 lbs, 1 m. = 3.2808399 feet)"
   ]
  },
  {
   "cell_type": "markdown",
   "metadata": {
    "deletable": false,
    "editable": false,
    "nbgrader": {
     "cell_type": "markdown",
     "checksum": "1ec1f24dc4a9df61e62d203873055fc1",
     "grade": false,
     "grade_id": "cell-7ae57c7b0fc2869d",
     "locked": true,
     "schema_version": 3,
     "solution": false,
     "task": false
    }
   },
   "source": [
    "### ตัวอย่างการทำงาน: \n",
    "\n",
    "Weight : **61.3 kg**<br>\n",
    "Height : **1.65 m**<br>\n",
    "รูปร่างปกติ"
   ]
  },
  {
   "cell_type": "markdown",
   "metadata": {
    "deletable": false,
    "editable": false,
    "nbgrader": {
     "cell_type": "markdown",
     "checksum": "78fffb602db981fdad692d3048d66eb8",
     "grade": false,
     "grade_id": "cell-1b10c564484fa711",
     "locked": true,
     "schema_version": 3,
     "solution": false,
     "task": false
    }
   },
   "source": [
    "### ตัวอย่างการทำงาน: \n",
    "\n",
    "Weight : **159.3 lbs** <br>\n",
    "Height : **4.92 ft**<br>\n",
    "อ้วนระดับ 2"
   ]
  },
  {
   "cell_type": "markdown",
   "metadata": {
    "deletable": false,
    "editable": false,
    "nbgrader": {
     "cell_type": "markdown",
     "checksum": "7f88f7b21bfddcec0a12c62a095360ab",
     "grade": false,
     "grade_id": "cell-8d6f849a001e7146",
     "locked": true,
     "schema_version": 3,
     "solution": false,
     "task": false
    }
   },
   "source": [
    "### ตัวอย่างการทำงาน:\n",
    "\n",
    "Weight : **110.8 lbs** <br> Height : **167 cm**<br>ผอม\n"
   ]
  },
  {
   "cell_type": "code",
   "execution_count": 11,
   "metadata": {
    "deletable": false,
    "nbgrader": {
     "cell_type": "code",
     "checksum": "5b8187b67dc069f760a91b5e7feef521",
     "grade": false,
     "grade_id": "bmi",
     "locked": false,
     "schema_version": 3,
     "solution": true
    }
   },
   "outputs": [],
   "source": [
    "def run():\n",
    "    W,T = input().split()\n",
    "    H,E = input().split()\n",
    "    a=float(W)\n",
    "    b=float(H)\n",
    "    if T == \"lbs\":\n",
    "        a = a/2.205\n",
    "    if E == \"ft\":\n",
    "        b = b/3.2808399\n",
    "    elif E == \"cm\":\n",
    "        b = b/100\n",
    "    c= a/ (b**2)\n",
    "    if c < 18.5  :\n",
    "        print(\"ผอม\")\n",
    "    elif c >= 18.5 and c <23:\n",
    "        print(\"รูปร่างปกติ\")\n",
    "    elif c>= 23 and  c<25:\n",
    "        print(\"รูปร่างอ้วน\")\n",
    "    elif c>=25 and c< 30:\n",
    "        print(\"อ้วนระดับ 1\")\n",
    "    else :\n",
    "        print(\"อ้วนระดับ 2\")\n",
    "    \n",
    "        "
   ]
  },
  {
   "cell_type": "code",
   "execution_count": 12,
   "metadata": {
    "deletable": false,
    "editable": false,
    "nbgrader": {
     "cell_type": "code",
     "checksum": "b7b03893ed0aaf1a2af60ae612b4be37",
     "grade": false,
     "grade_id": "cell-befa13e6c82bd29b",
     "locked": true,
     "schema_version": 3,
     "solution": false,
     "task": false
    }
   },
   "outputs": [
    {
     "name": "stdout",
     "output_type": "stream",
     "text": [
      "91.5 lbs\n",
      "128 cm\n",
      "1.28\n",
      "41.49659863945578\n",
      "25.32751381802721\n",
      "อ้วนระดับ 1\n"
     ]
    }
   ],
   "source": [
    "'''ตรวจสอบผลลัพธ์ของโปรแกรมด้วยการรันที่ cell นี้'''\n",
    "run()"
   ]
  },
  {
   "cell_type": "code",
   "execution_count": null,
   "metadata": {
    "deletable": false,
    "editable": false,
    "nbgrader": {
     "cell_type": "code",
     "checksum": "558b9681515f0eaca41b32e0c2df80e7",
     "grade": true,
     "grade_id": "partial",
     "locked": true,
     "points": 0,
     "schema_version": 3,
     "solution": false,
     "task": false
    }
   },
   "outputs": [],
   "source": [
    "'''ตรวจสอบผลการคำนวณ'''\n",
    "from unittest.mock import patch\n",
    "from io import StringIO\n",
    "import math\n",
    "\n",
    "def test(inputs,expected_output,exact_output): \n",
    "    with patch('builtins.input', side_effect=inputs), patch('sys.stdout', new_callable=StringIO) as mock_stdout:\n",
    "        run()\n",
    "        if exact_output:\n",
    "            assert mock_stdout.getvalue() == expected_output,mock_stdout.getvalue()\n",
    "            "
   ]
  },
  {
   "cell_type": "code",
   "execution_count": null,
   "metadata": {
    "deletable": false,
    "editable": false,
    "nbgrader": {
     "cell_type": "code",
     "checksum": "fbd9c998ec10cca82db3d46dedb68c1e",
     "grade": true,
     "grade_id": "exact",
     "locked": false,
     "points": 1,
     "schema_version": 3,
     "solution": false
    }
   },
   "outputs": [],
   "source": [
    "'''ตรวจสอบผลการคำนวณและการแสดงผลลัพธ์ให้เหมือนกับโจทย์ที่กำหนดให้'''\n",
    "test(['61.3 kg','1.65 m'],'รูปร่างปกติ\\n',exact_output=True)  \n",
    "test(['61.3 kg','165 cm'],'รูปร่างปกติ\\n',exact_output=True) \n",
    "test(['49.5 kg','5 ft'],'รูปร่างปกติ\\n',exact_output=True) \n",
    "test(['110.8 lbs','150 cm'],'รูปร่างปกติ\\n',exact_output=True) \n",
    "test(['110.8 lbs','1.50 m'],'รูปร่างปกติ\\n',exact_output=True) \n",
    "test(['92.5 lbs','4.8 ft'],'รูปร่างปกติ\\n',exact_output=True) "
   ]
  },
  {
   "cell_type": "code",
   "execution_count": null,
   "metadata": {
    "deletable": false,
    "editable": false,
    "nbgrader": {
     "cell_type": "code",
     "checksum": "ab3255a59f025088a4a533d4b50d40b3",
     "grade": true,
     "grade_id": "cell-7074c62b5ac8ac0c",
     "locked": true,
     "points": 1,
     "schema_version": 3,
     "solution": false,
     "task": false
    }
   },
   "outputs": [],
   "source": [
    "'''ตรวจสอบผลการคำนวณและการแสดงผลลัพธ์ให้เหมือนกับโจทย์ที่กำหนดให้'''\n",
    "test(['94 kg','167.64 cm'],'อ้วนระดับ 2\\n',exact_output=True)\n",
    "test(['94.2 kg','1.67 m'],'อ้วนระดับ 2\\n',exact_output=True)\n",
    "test(['61.3 kg','1.5 ft'],'อ้วนระดับ 2\\n',exact_output=True)\n",
    "test(['159.4215 lbs','155 cm'],'อ้วนระดับ 2\\n',exact_output=True)\n",
    "test(['159.4215 lbs','1.5 m'],'อ้วนระดับ 2\\n',exact_output=True)\n",
    "test(['159.3 lbs','4.92 ft'],'อ้วนระดับ 2\\n',exact_output=True) "
   ]
  },
  {
   "cell_type": "code",
   "execution_count": null,
   "metadata": {
    "deletable": false,
    "editable": false,
    "nbgrader": {
     "cell_type": "code",
     "checksum": "1982a1f1b90f30157339c9890860fa35",
     "grade": true,
     "grade_id": "cell-edf90ee888ed0103",
     "locked": true,
     "points": 1,
     "schema_version": 3,
     "solution": false,
     "task": false
    }
   },
   "outputs": [],
   "source": [
    "'''ตรวจสอบผลการคำนวณและการแสดงผลลัพธ์ให้เหมือนกับโจทย์ที่กำหนดให้'''\n",
    "test(['51.5 kg','167.0 cm'],'ผอม\\n',exact_output=True) \n",
    "test(['51.3 kg','1.67 m'],'ผอม\\n',exact_output=True) \n",
    "test(['50.3 kg','5.479002633 ft'],'ผอม\\n',exact_output=True) \n",
    "test(['110.8 lbs','167 cm'],'ผอม\\n',exact_output=True) \n",
    "test(['110.8 lbs','1.67 m'],'ผอม\\n',exact_output=True) \n",
    "test(['24 lbs','5 ft'],'ผอม\\n',exact_output=True)"
   ]
  },
  {
   "cell_type": "code",
   "execution_count": null,
   "metadata": {
    "deletable": false,
    "editable": false,
    "nbgrader": {
     "cell_type": "code",
     "checksum": "a81f6d85ab98c6f6377d342be3c675da",
     "grade": true,
     "grade_id": "cell-401eb542bb74a444",
     "locked": true,
     "points": 1,
     "schema_version": 3,
     "solution": false,
     "task": false
    }
   },
   "outputs": [],
   "source": [
    "'''ตรวจสอบผลการคำนวณและการแสดงผลลัพธ์ให้เหมือนกับโจทย์ที่กำหนดให้'''\n",
    "test(['92 kg','198 cm'],'รูปร่างอ้วน\\n',exact_output=True)\n",
    "test(['92 kg','2.0 m'],'รูปร่างอ้วน\\n',exact_output=True)\n",
    "test(['92 kg','6.56 ft'],'รูปร่างอ้วน\\n',exact_output=True)\n",
    "test(['150 lbs','165 cm'],'รูปร่างอ้วน\\n',exact_output=True)\n",
    "test(['150 lbs','1.65 m'],'รูปร่างอ้วน\\n',exact_output=True)\n",
    "test(['120 lbs','5 ft'],'รูปร่างอ้วน\\n',exact_output=True)"
   ]
  },
  {
   "cell_type": "code",
   "execution_count": null,
   "metadata": {
    "deletable": false,
    "editable": false,
    "nbgrader": {
     "cell_type": "code",
     "checksum": "602dc4eeab92f37bc86429dd6aff3f50",
     "grade": true,
     "grade_id": "cell-0497fd880a4d8063",
     "locked": true,
     "points": 1,
     "schema_version": 3,
     "solution": false,
     "task": false
    }
   },
   "outputs": [],
   "source": [
    "'''ตรวจสอบผลการคำนวณและการแสดงผลลัพธ์ให้เหมือนกับโจทย์ที่กำหนดให้'''\n",
    "test(['100 kg','2.0 m'],'อ้วนระดับ 1\\n',exact_output=True)\n",
    "test(['100 kg','198 cm'],'อ้วนระดับ 1\\n',exact_output=True)\n",
    "test(['100 kg','6.49 ft'],'อ้วนระดับ 1\\n',exact_output=True)\n",
    "test(['91.5 lbs','128 cm'],'อ้วนระดับ 1\\n',exact_output=True)\n",
    "test(['91.5 lbs','1.28 m'],'อ้วนระดับ 1\\n',exact_output=True)\n",
    "test(['92.5 lbs','4.2 ft'],'อ้วนระดับ 1\\n',exact_output=True)"
   ]
  }
 ],
 "metadata": {
  "kernelspec": {
   "display_name": "Python 3 (ipykernel)",
   "language": "python",
   "name": "python3"
  },
  "language_info": {
   "codemirror_mode": {
    "name": "ipython",
    "version": 3
   },
   "file_extension": ".py",
   "mimetype": "text/x-python",
   "name": "python",
   "nbconvert_exporter": "python",
   "pygments_lexer": "ipython3",
   "version": "3.9.12"
  }
 },
 "nbformat": 4,
 "nbformat_minor": 1
}
