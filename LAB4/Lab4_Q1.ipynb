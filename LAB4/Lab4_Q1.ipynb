{
 "cells": [
  {
   "cell_type": "markdown",
   "metadata": {
    "deletable": false,
    "editable": false,
    "nbgrader": {
     "cell_type": "markdown",
     "checksum": "4cbf97435e877f43c414d2365ab3bbd9",
     "grade": false,
     "grade_id": "cell-dbf37dcea5d7dc5c",
     "locked": true,
     "schema_version": 3,
     "solution": false,
     "task": false
    }
   },
   "source": [
    "## Q1 (4 points)\n",
    "จงเขียนโปรแกรมที่รับตัวเลือก ( circle, square, rectangle ) จากผู้ใช้ แล้วรับความยาวรัศมีของ\n",
    "วงกลม หรือ ความยาวด้านของสี่เหลี่ยมจัตุรัส หรือ สี่เหลี่ยมผืนผ้า แล้วคำนวณหาพื้นที่และแสดงผลลัพธ์ดัง\n",
    "ตัวอย่างข้างล่างนี้ <br>\n",
    "(กำหนดให้ใช้ค่า pi จาก module math)"
   ]
  },
  {
   "cell_type": "markdown",
   "metadata": {
    "deletable": false,
    "editable": false,
    "nbgrader": {
     "cell_type": "markdown",
     "checksum": "d1867af043b9f0ebc10c65db7d71fe2c",
     "grade": false,
     "grade_id": "cell-7ae57c7b0fc2869d",
     "locked": true,
     "schema_version": 3,
     "solution": false,
     "task": false
    }
   },
   "source": [
    "### ตัวอย่างการทำงาน: \n",
    "\n",
    "Choose circle, square or rectangle : **circle** <br>\n",
    "Length of the radius of the circle : **3.6** <br>\n",
    "Area is 40.71504079052372"
   ]
  },
  {
   "cell_type": "markdown",
   "metadata": {
    "deletable": false,
    "editable": false,
    "nbgrader": {
     "cell_type": "markdown",
     "checksum": "a18bb1d6833a0f5d449e0106d4e4b56e",
     "grade": false,
     "grade_id": "cell-1b10c564484fa711",
     "locked": true,
     "schema_version": 3,
     "solution": false,
     "task": false
    }
   },
   "source": [
    "### ตัวอย่างการทำงาน: \n",
    "\n",
    "Choose circle, square or rectangle : **square** <br>\n",
    "Length of the side of the square : **3.6** <br>\n",
    "Area is 12.96"
   ]
  },
  {
   "cell_type": "markdown",
   "metadata": {
    "deletable": false,
    "editable": false,
    "nbgrader": {
     "cell_type": "markdown",
     "checksum": "b0f4c9911840936cc22cbb77ea506123",
     "grade": false,
     "grade_id": "cell-fc86ada0a7d9d7ee",
     "locked": true,
     "schema_version": 3,
     "solution": false,
     "task": false
    }
   },
   "source": [
    "### ตัวอย่างการทำงาน: \n",
    "\n",
    "Choose circle, square or rectangle : **rectangle** <br>\n",
    "Length of two sides of the rectangle : **2.5, 3.6** <br>\n",
    "Area is 9.0"
   ]
  },
  {
   "cell_type": "markdown",
   "metadata": {
    "deletable": false,
    "editable": false,
    "nbgrader": {
     "cell_type": "markdown",
     "checksum": "e57ab9860c594efa87aa26d19547af02",
     "grade": false,
     "grade_id": "cell-7756331ade47aa76",
     "locked": true,
     "schema_version": 3,
     "solution": false,
     "task": false
    }
   },
   "source": [
    "### ตัวอย่างการทำงาน: \n",
    "\n",
    "Choose circle, square or rectangle : **xx** <br>\n",
    "Invalid choice."
   ]
  },
  {
   "cell_type": "code",
   "execution_count": 30,
   "metadata": {
    "deletable": false,
    "nbgrader": {
     "cell_type": "code",
     "checksum": "00b4f29d142119c6df600285bfcbb9ed",
     "grade": false,
     "grade_id": "quardatic",
     "locked": false,
     "schema_version": 3,
     "solution": true
    }
   },
   "outputs": [
    {
     "ename": "SyntaxError",
     "evalue": "invalid syntax (3163193191.py, line 7)",
     "output_type": "error",
     "traceback": [
      "\u001b[0;36m  Input \u001b[0;32mIn [30]\u001b[0;36m\u001b[0m\n\u001b[0;31m    print(\"Area is \"x)\u001b[0m\n\u001b[0m                    ^\u001b[0m\n\u001b[0;31mSyntaxError\u001b[0m\u001b[0;31m:\u001b[0m invalid syntax\n"
     ]
    }
   ],
   "source": [
    "import math\n",
    "def run():\n",
    "    Ch = input(\"ch : \")\n",
    "    if Ch == \"circle\" :\n",
    "        x =float(input())\n",
    "        x = math.pi * (x**2)\n",
    "        print(\"Area is \"+str(x))\n",
    "    elif Ch == \"square\":\n",
    "        x =float(input())\n",
    "        x = x**2\n",
    "        print(\"Area is \"+str(x))\n",
    "    elif Ch == \"rectangle\":\n",
    "        x,y =(float(u) for u in(input().split(\",\")))\n",
    "        print(\"Area is \"+str(x*y))\n",
    "    else :\n",
    "        print(\"Invalid choice.\")"
   ]
  },
  {
   "cell_type": "code",
   "execution_count": 29,
   "metadata": {
    "deletable": false,
    "editable": false,
    "nbgrader": {
     "cell_type": "code",
     "checksum": "b7b03893ed0aaf1a2af60ae612b4be37",
     "grade": false,
     "grade_id": "cell-befa13e6c82bd29b",
     "locked": true,
     "schema_version": 3,
     "solution": false,
     "task": false
    }
   },
   "outputs": [
    {
     "name": "stdout",
     "output_type": "stream",
     "text": [
      "ch : rectangle\n",
      "2.5,3.6\n",
      "9.0\n"
     ]
    }
   ],
   "source": [
    "'''ตรวจสอบผลลัพธ์ของโปรแกรมด้วยการรันที่ cell นี้'''\n",
    "run()"
   ]
  },
  {
   "cell_type": "code",
   "execution_count": null,
   "metadata": {
    "deletable": false,
    "editable": false,
    "nbgrader": {
     "cell_type": "code",
     "checksum": "2f88a758d6ba8ee57e469966f2951b2d",
     "grade": true,
     "grade_id": "partial",
     "locked": true,
     "points": 0,
     "schema_version": 3,
     "solution": false,
     "task": false
    }
   },
   "outputs": [],
   "source": [
    "'''ตรวจสอบผลการคำนวณ'''\n",
    "from unittest.mock import patch\n",
    "from io import StringIO\n",
    "import math\n",
    "\n",
    "def isfloat(num):\n",
    "    try:\n",
    "        float(num)\n",
    "        return True\n",
    "    except ValueError:\n",
    "        return False\n",
    "    \n",
    "def test(inputs,expected_output,exact_output): \n",
    "    with patch('builtins.input', side_effect=inputs), patch('sys.stdout', new_callable=StringIO) as mock_stdout:\n",
    "        run()\n",
    "        assert expected_output==mock_stdout.getvalue(),mock_stdout.getvalue()\n",
    "                "
   ]
  },
  {
   "cell_type": "code",
   "execution_count": null,
   "metadata": {
    "deletable": false,
    "editable": false,
    "nbgrader": {
     "cell_type": "code",
     "checksum": "ec588dfd6fe0dcb23747d3853fff05b3",
     "grade": true,
     "grade_id": "exact",
     "locked": false,
     "points": 1,
     "schema_version": 3,
     "solution": false
    }
   },
   "outputs": [],
   "source": [
    "'''ตรวจสอบผลการคำนวณและการแสดงผลลัพธ์ให้เหมือนกับโจทย์ที่กำหนดให้'''\n",
    "test(['circle','3.6'],'Area is 40.71504079052372\\n',exact_output=True)   \n",
    "test(['circle','3.578'],'Area is 40.21893304503943\\n',exact_output=True) \n",
    "test(['circle','5'],'Area is 78.53981633974483\\n',exact_output=True)     \n",
    "test(['circle','9'],'Area is 254.46900494077323\\n',exact_output=True)   "
   ]
  },
  {
   "cell_type": "code",
   "execution_count": null,
   "metadata": {
    "deletable": false,
    "editable": false,
    "nbgrader": {
     "cell_type": "code",
     "checksum": "be2fe33b28f1e1c382a926069d73c741",
     "grade": true,
     "grade_id": "cell-40d500747966a4b4",
     "locked": true,
     "points": 1,
     "schema_version": 3,
     "solution": false,
     "task": false
    }
   },
   "outputs": [],
   "source": [
    "'''ตรวจสอบผลการคำนวณและการแสดงผลลัพธ์ให้เหมือนกับโจทย์ที่กำหนดให้'''\n",
    "test(['square','3.6'],'Area is 12.96\\n',exact_output=True) \n",
    "test(['square','3.578'],'Area is 12.802083999999999\\n',exact_output=True)  \n",
    "test(['square','5'],'Area is 25.0\\n',exact_output=True)  \n",
    "test(['square','9'],'Area is 81.0\\n',exact_output=True)  "
   ]
  },
  {
   "cell_type": "code",
   "execution_count": null,
   "metadata": {
    "deletable": false,
    "editable": false,
    "nbgrader": {
     "cell_type": "code",
     "checksum": "8c2690a7f66478c91b1191300c8fe45a",
     "grade": true,
     "grade_id": "cell-8ed24f7a3c6c9b8b",
     "locked": true,
     "points": 1,
     "schema_version": 3,
     "solution": false,
     "task": false
    }
   },
   "outputs": [],
   "source": [
    "'''ตรวจสอบผลการคำนวณและการแสดงผลลัพธ์ให้เหมือนกับโจทย์ที่กำหนดให้'''\n",
    "test(['rectangle','2.5, 3.6'],'Area is 9.0\\n',exact_output=True)   \n",
    "test(['rectangle','3, 4'],'Area is 12.0\\n',exact_output=True)      \n",
    "test(['rectangle','2.5, 4'],'Area is 10.0\\n',exact_output=True)    \n",
    "test(['rectangle','5, 3.6'],'Area is 18.0\\n',exact_output=True)    "
   ]
  },
  {
   "cell_type": "code",
   "execution_count": null,
   "metadata": {
    "deletable": false,
    "editable": false,
    "nbgrader": {
     "cell_type": "code",
     "checksum": "41d9f2b99f335ffa714272de8d763e7c",
     "grade": true,
     "grade_id": "cell-5ea63f69411d8cea",
     "locked": true,
     "points": 1,
     "schema_version": 3,
     "solution": false,
     "task": false
    }
   },
   "outputs": [],
   "source": [
    "'''ตรวจสอบผลการคำนวณและการแสดงผลลัพธ์ให้เหมือนกับโจทย์ที่กำหนดให้'''\n",
    "test(['xx',' '],'Invalid choice.\\n',exact_output=True)\n",
    "test(['test',' '],'Invalid choice.\\n',exact_output=True)\n",
    "test(['cir',' '],'Invalid choice.\\n',exact_output=True)"
   ]
  }
 ],
 "metadata": {
  "kernelspec": {
   "display_name": "Python 3 (ipykernel)",
   "language": "python",
   "name": "python3"
  },
  "language_info": {
   "codemirror_mode": {
    "name": "ipython",
    "version": 3
   },
   "file_extension": ".py",
   "mimetype": "text/x-python",
   "name": "python",
   "nbconvert_exporter": "python",
   "pygments_lexer": "ipython3",
   "version": "3.9.12"
  }
 },
 "nbformat": 4,
 "nbformat_minor": 1
}
