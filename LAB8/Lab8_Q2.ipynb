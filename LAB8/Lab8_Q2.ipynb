{
 "cells": [
  {
   "cell_type": "markdown",
   "metadata": {
    "deletable": false,
    "editable": false,
    "nbgrader": {
     "cell_type": "markdown",
     "checksum": "71e02cc8ab005653fbf35de15ade8d0d",
     "grade": false,
     "grade_id": "cell-dbf37dcea5d7dc5c",
     "locked": true,
     "schema_version": 3,
     "solution": false,
     "task": false
    }
   },
   "source": [
    "## Q2 (4 points)\n",
    "จงเขียนโปรแกรมที่อ่านเฉลยของข้อสอบปรนัยจากไฟล์ sol\\<n\\>.txt (ข้อสอบมี 10 ข้อ ) \n",
    "และอ่านคำตอบของนักเรียนจากไฟล์ exam\\<n\\>.txt ที่มีคำตอบจากนักเรียนแต่ละคนอยู่ใน 1 บรรทัด\n",
    "(ถือว่านักเรียนต้องตอบข้อสอบทุกข้อ)\n",
    "และมีนักเรียนอยู่ 8 คน จากนั้นให้ตรวจคำตอบของนักเรียนทุกคน แล้วหา\n",
    "- คะแนนของนักเรียนแต่ละคน\n",
    "- คะแนนเฉลี่ยของข้อสอบแต่ละข้อ\n",
    "- ข้อสอบข้อที่นักเรียนทำคะแนนได้น้อยสุด (แสดงให้ครบทุกข้อ หากคะแนนเท่ากันหลายข้อ )\n",
    "- ข้อสอบข้อที่นักเรียนทำคะแนนได้มากสุด (แสดงให้ครบทุกข้อ หากคะแนนเท่ากันหลายข้อ )\n",
    "\n",
    "**หมายเหตุ ให้ใช้ลิสต์ในข้อนี้ และสามารถใช้ฟังก์ชัน min และ max เพื่อหาค่าน้อยสุดและมากสุดในลิสต์ได้**"
   ]
  },
  {
   "cell_type": "markdown",
   "metadata": {
    "deletable": false,
    "editable": false,
    "nbgrader": {
     "cell_type": "markdown",
     "checksum": "a70a4e7cbda8c186989eb046f3320c57",
     "grade": false,
     "grade_id": "cell-7ae57c7b0fc2869d",
     "locked": true,
     "schema_version": 3,
     "solution": false,
     "task": false
    }
   },
   "source": [
    "### ตัวอย่างไฟล์: \n",
    "ไฟล์ sol1.txt: <br>\n",
    "A A B A D C C D A B<br>\n",
    "---\n",
    "ไฟล์ exam1.txt: <br>\n",
    "A A D A D C C D A B <br>\n",
    "C A C A D C C D B C <br>\n",
    "A A B A D C B D A B <br>\n",
    "B A B A D C C C A B <br>\n",
    "A A D B D C B D A B <br> \n",
    "B A B A D C C C A C <br>\n",
    "A A D A D C C D A B <br>\n",
    "A A B A C C C D B B <br>\n",
    "---\n",
    "ไฟล์ sol2.txt: <br>\n",
    "C A B A D A C C A B <br>\n",
    "---\n",
    "ไฟล์ exam2.txt: <br>\n",
    "A A B A C C C D B B <br>\n",
    "A A B A D C B D A B <br>\n",
    "B A C A D B C D B C <br>\n",
    "A A D B D C B D A B <br>\n",
    "A A B A D C C D A B <br>\n",
    "A A D A D C C D A B <br>\n",
    "C A B A D A C C A C <br>\n",
    "A A D A D C C D A B <br>"
   ]
  },
  {
   "cell_type": "markdown",
   "metadata": {
    "deletable": false,
    "editable": false,
    "nbgrader": {
     "cell_type": "markdown",
     "checksum": "fec3f4adcae6509760e02dde5cf35005",
     "grade": false,
     "grade_id": "cell-28c9c5a1fd452032",
     "locked": true,
     "schema_version": 3,
     "solution": false,
     "task": false
    }
   },
   "source": [
    "### ตัวอย่างการทำงาน: \n",
    "Choose your solution file: **sol1.txt** <br>\n",
    "Choose your exam file: **exam1.txt** <br>\n",
    "\n",
    "Student score : [9, 6, 9, 8, 7, 7, 9, 8]<br>\n",
    "\n",
    "Question 1 : 0.625 <br>\n",
    "Question 2 : 1.0 <br>\n",
    "Question 3 : 0.5 <br>\n",
    "Question 4 : 0.875 <br>\n",
    "Question 5 : 0.875 <br>\n",
    "Question 6 : 1.0 <br>\n",
    "Question 7 : 0.75 <br>\n",
    "Question 8 : 0.75 <br>\n",
    "Question 9 : 0.75 <br>\n",
    "Question 10 : 0.75 <br>\n",
    "\n",
    "Hardest : 3 <br>\n",
    "Easiest : 2 6 <br>"
   ]
  },
  {
   "cell_type": "code",
   "execution_count": null,
   "metadata": {
    "deletable": false,
    "nbgrader": {
     "cell_type": "code",
     "checksum": "d1bb78e108a87113447db30f862f4f2c",
     "grade": false,
     "grade_id": "score",
     "locked": false,
     "schema_version": 3,
     "solution": true
    }
   },
   "outputs": [],
   "source": [
    "def run():\n",
    "    cho_sol = input(\"เลือกเฉลยทีขอร้อง: \")\n",
    "    cho_ex = input('เลือกคำตอบนะ: ')\n",
    "    cho_sol = open(cho_sol,'r')\n",
    "    cho_ex = open(cho_ex,'r')\n",
    "    student_score = []\n",
    "    question =[]\n",
    "    minn =[]\n",
    "    maxx =[]\n",
    "    cho_sol = cho_sol.readline().split()\n",
    "    cho_ex = cho_ex.readlines()\n",
    "    n = 0\n",
    "    numbera = 0\n",
    "    for i in range(0,8):\n",
    "        for j in range(0,10):\n",
    "            if cho_sol[j] == cho_ex[i].split()[j]:\n",
    "                n += 1\n",
    "        student_score.append(n)\n",
    "        n =0\n",
    "    for i in range(0,8):\n",
    "        for j in range(0,10):\n",
    "            for h in range(0,8):\n",
    "                if cho_sol[j] == cho_ex[h].split()[j]:\n",
    "                    n +=1 \n",
    "            if numbera <10:\n",
    "                question.append(n/8)\n",
    "                n=0\n",
    "                numbera +=1\n",
    "    print('Student score :',student_score)\n",
    "    print('')\n",
    "    for i in range(1,11):\n",
    "        print('Question',i,':',question[i-1])\n",
    "    print('')\n",
    "    n=0\n",
    "    for i in range(0,10):\n",
    "        n+=1\n",
    "        if max(question) == question[i]:\n",
    "            maxx.append(n)\n",
    "        elif min(question) == question[i]:\n",
    "            minn.append(n)\n",
    "    print('Hardest :',end='')\n",
    "    for i in minn:\n",
    "        print('',i,end='')\n",
    "    print('')\n",
    "    print(\"Easiest :\",end='')\n",
    "    for i in maxx:\n",
    "        print('',i, end='')\n",
    "    print(\"\")\n",
    "run()"
   ]
  },
  {
   "cell_type": "code",
   "execution_count": null,
   "metadata": {
    "deletable": false,
    "editable": false,
    "nbgrader": {
     "cell_type": "code",
     "checksum": "b7b03893ed0aaf1a2af60ae612b4be37",
     "grade": false,
     "grade_id": "cell-befa13e6c82bd29b",
     "locked": true,
     "schema_version": 3,
     "solution": false,
     "task": false
    },
    "scrolled": true
   },
   "outputs": [],
   "source": [
    "'''ตรวจสอบผลลัพธ์ของโปรแกรมด้วยการรันที่ cell นี้'''\n",
    "run()"
   ]
  },
  {
   "cell_type": "code",
   "execution_count": null,
   "metadata": {
    "deletable": false,
    "editable": false,
    "nbgrader": {
     "cell_type": "code",
     "checksum": "8251f84af1171f8d80c1df24ef7261a9",
     "grade": true,
     "grade_id": "partial",
     "locked": true,
     "points": 0,
     "schema_version": 3,
     "solution": false,
     "task": false
    }
   },
   "outputs": [],
   "source": [
    "'''ตรวจสอบผลการคำนวณ'''\n",
    "from unittest.mock import patch\n",
    "from io import StringIO\n",
    "import math\n",
    "\n",
    "def test(inputs,expected_output,exact_output): \n",
    "    with patch('builtins.input', side_effect=inputs), patch('sys.stdout', new_callable=StringIO) as mock_stdout:\n",
    "        run()\n",
    "        assert mock_stdout.getvalue() == expected_output,mock_stdout.getvalue()\n",
    "        "
   ]
  },
  {
   "cell_type": "code",
   "execution_count": null,
   "metadata": {
    "deletable": false,
    "editable": false,
    "nbgrader": {
     "cell_type": "code",
     "checksum": "5104d466dbb9bccaeddfdfb59c5b6ef6",
     "grade": true,
     "grade_id": "exact",
     "locked": false,
     "points": 1,
     "schema_version": 3,
     "solution": false
    }
   },
   "outputs": [],
   "source": [
    "'''ตรวจสอบผลการคำนวณและการแสดงผลลัพธ์ให้เหมือนกับโจทย์ที่กำหนดให้'''\n",
    "'''sol1-exam1'''\n",
    "test(['sol1.txt','exam1.txt'],'Student score : [9, 6, 9, 8, 7, 7, 9, 8]\\n\\n\\\n",
    "Question 1 : 0.625\\nQuestion 2 : 1.0\\nQuestion 3 : 0.5\\nQuestion 4 : 0.875\\n\\\n",
    "Question 5 : 0.875\\nQuestion 6 : 1.0\\nQuestion 7 : 0.75\\nQuestion 8 : 0.75\\n\\\n",
    "Question 9 : 0.75\\nQuestion 10 : 0.75\\n\\nHardest : 3\\n\\\n",
    "Easiest : 2 6\\n',exact_output=True) "
   ]
  },
  {
   "cell_type": "code",
   "execution_count": null,
   "metadata": {
    "deletable": false,
    "editable": false,
    "nbgrader": {
     "cell_type": "code",
     "checksum": "ef403907122e7bd10cdf9056c1574a2b",
     "grade": true,
     "grade_id": "cell-0c38a636281d4f0d",
     "locked": true,
     "points": 1,
     "schema_version": 3,
     "solution": false,
     "task": false
    }
   },
   "outputs": [],
   "source": [
    "'''ตรวจสอบผลการคำนวณและการแสดงผลลัพธ์ให้เหมือนกับโจทย์ที่กำหนดให้'''\n",
    "'''sol1-exam2'''\n",
    "test(['sol1.txt','exam2.txt'],'Student score : [8, 9, 5, 7, 10, 9, 6, 9]\\n\\n\\\n",
    "Question 1 : 0.75\\nQuestion 2 : 1.0\\nQuestion 3 : 0.5\\nQuestion 4 : 0.875\\n\\\n",
    "Question 5 : 0.875\\nQuestion 6 : 0.75\\nQuestion 7 : 0.75\\n\\\n",
    "Question 8 : 0.875\\nQuestion 9 : 0.75\\nQuestion 10 : 0.75\\n\\n\\\n",
    "Hardest : 3\\nEasiest : 2\\n',exact_output=True) "
   ]
  },
  {
   "cell_type": "code",
   "execution_count": null,
   "metadata": {
    "deletable": false,
    "editable": false,
    "nbgrader": {
     "cell_type": "code",
     "checksum": "47244fa3906909b2349faa4b9961a7b4",
     "grade": true,
     "grade_id": "cell-fd46675f2047b1a8",
     "locked": true,
     "points": 1,
     "schema_version": 3,
     "solution": false,
     "task": false
    }
   },
   "outputs": [],
   "source": [
    "'''ตรวจสอบผลการคำนวณและการแสดงผลลัพธ์ให้เหมือนกับโจทย์ที่กำหนดให้'''\n",
    "'''sol2-exam1'''\n",
    "test(['sol2.txt','exam1.txt'],'Student score : [6, 5, 6, 8, 4, 7, 6, 5]\\n\\n\\\n",
    "Question 1 : 0.125\\nQuestion 2 : 1.0\\nQuestion 3 : 0.5\\nQuestion 4 : 0.875\\n\\\n",
    "Question 5 : 0.875\\nQuestion 6 : 0.0\\nQuestion 7 : 0.75\\nQuestion 8 : 0.25\\n\\\n",
    "Question 9 : 0.75\\nQuestion 10 : 0.75\\n\\nHardest : 6\\n\\\n",
    "Easiest : 2\\n',exact_output=True) "
   ]
  },
  {
   "cell_type": "code",
   "execution_count": null,
   "metadata": {
    "deletable": false,
    "editable": false,
    "nbgrader": {
     "cell_type": "code",
     "checksum": "bed123a33e56dab8fc997f53304adc1c",
     "grade": true,
     "grade_id": "cell-bdf63c4f416d44e6",
     "locked": true,
     "points": 1,
     "schema_version": 3,
     "solution": false,
     "task": false
    }
   },
   "outputs": [],
   "source": [
    "'''ตรวจสอบผลการคำนวณและการแสดงผลลัพธ์ให้เหมือนกับโจทย์ที่กำหนดให้'''\n",
    "'''sol2-exam2'''\n",
    "test(['sol2.txt','exam2.txt'],'Student score : [5, 6, 4, 4, 7, 6, 9, 6]\\n\\n\\\n",
    "Question 1 : 0.125\\nQuestion 2 : 1.0\\nQuestion 3 : 0.5\\nQuestion 4 : 0.875\\n\\\n",
    "Question 5 : 0.875\\nQuestion 6 : 0.125\\nQuestion 7 : 0.75\\nQuestion 8 : 0.125\\n\\\n",
    "Question 9 : 0.75\\nQuestion 10 : 0.75\\n\\nHardest : 1 6 8\\n\\\n",
    "Easiest : 2\\n',exact_output=True) "
   ]
  }
 ],
 "metadata": {
  "kernelspec": {
   "display_name": "Python 3 (ipykernel)",
   "language": "python",
   "name": "python3"
  },
  "language_info": {
   "codemirror_mode": {
    "name": "ipython",
    "version": 3
   },
   "file_extension": ".py",
   "mimetype": "text/x-python",
   "name": "python",
   "nbconvert_exporter": "python",
   "pygments_lexer": "ipython3",
   "version": "3.9.12"
  }
 },
 "nbformat": 4,
 "nbformat_minor": 1
}
