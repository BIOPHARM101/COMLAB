{
 "cells": [
  {
   "cell_type": "markdown",
   "metadata": {
    "deletable": false,
    "editable": false,
    "nbgrader": {
     "cell_type": "markdown",
     "checksum": "a5800dfd5b52e22217ccff4cf7b1c49a",
     "grade": false,
     "grade_id": "cell-dbf37dcea5d7dc5c",
     "locked": true,
     "schema_version": 3,
     "solution": false,
     "task": false
    }
   },
   "source": [
    "## Q1 (2 points)\n",
    "จงเขียนโปรแกรมที่อ่านเวกเตอร์ 2 เวกเตอร์จากไฟล์ vectors\\<n\\>.txt แล้วตรวจสอบว่ามีขนาดเท่ากันหรือไม่\n",
    "- ถ้าไม่เท่ากัน จะแสดงข้อความว่า Incompatible size\n",
    "- ถ้าเท่ากัน จะหา dot product ของเวกเตอร์ทั้งสอง\n",
    "และแสดงผลลัพธ์ดังตัวอย่างข้างล่างนี้"
   ]
  },
  {
   "cell_type": "markdown",
   "metadata": {
    "deletable": false,
    "editable": false,
    "nbgrader": {
     "cell_type": "markdown",
     "checksum": "a6af44926ff69e8fbc76fbe6733bd7d3",
     "grade": false,
     "grade_id": "cell-7ae57c7b0fc2869d",
     "locked": true,
     "schema_version": 3,
     "solution": false,
     "task": false
    }
   },
   "source": [
    "### ตัวอย่างการทำงาน: \n",
    "\n",
    "ไฟล์ vectors1.txt:  <br>\n",
    "6 4 9 6 -4 7 <br>\n",
    "3 7 -3 9 -5 1 <br>\n",
    "---\n",
    "Choose your vector file: **vectors1.txt** <br>\n",
    "v1 = [6.0, 4.0, 9.0, 6.0, -4.0, 7.0] <br>\n",
    "v2 = [3.0, 7.0, -3.0, 9.0, -5.0, 1.0] <br>\n",
    "v1*v2 = 100.0"
   ]
  },
  {
   "cell_type": "markdown",
   "metadata": {
    "deletable": false,
    "editable": false,
    "nbgrader": {
     "cell_type": "markdown",
     "checksum": "f8a0c2c8ffe43980fb1c57982941bea9",
     "grade": false,
     "grade_id": "cell-1b10c564484fa711",
     "locked": true,
     "schema_version": 3,
     "solution": false,
     "task": false
    }
   },
   "source": [
    "### ตัวอย่างการทำงาน: \n",
    "\n",
    "ไฟล์ vectors2.txt: <br>\n",
    "6 4 9 6 -4 7 <br>\n",
    "3 7 -3 <br>\n",
    "---\n",
    "Choose your vector file: **vectors2.txt** <br>\n",
    "v1 = [6.0, 4.0, 9.0, 6.0, -4.0, 7.0] <br>\n",
    "v2 = [3.0, 7.0, -3.0] <br>\n",
    "Incompatible size"
   ]
  },
  {
   "cell_type": "markdown",
   "metadata": {
    "deletable": false,
    "editable": false,
    "nbgrader": {
     "cell_type": "markdown",
     "checksum": "c0438778fd26c00c65a41a8ee1c5fb39",
     "grade": false,
     "grade_id": "cell-f2a61b7ae4fb334b",
     "locked": true,
     "schema_version": 3,
     "solution": false,
     "task": false
    }
   },
   "source": [
    "### ตัวอย่างการทำงาน: \n",
    "\n",
    "ไฟล์ vectors3.txt: <br>\n",
    "5.5 4.5 9.5 6 -4 7 <br>\n",
    "3 7.1 -3.5 5 6 9 <br>\n",
    "\n",
    "Choose your vector file: **vectors3.txt** <br>\n",
    "v1 = [5.5, 4.5, 9.5, 6.0, -4.0, 7.0] <br>\n",
    "v2 = [3.0, 7.1, -3.5, 5.0, 6.0, 9.0] <br>\n",
    "v1*v2 = 84.2"
   ]
  },
  {
   "cell_type": "markdown",
   "metadata": {
    "deletable": false,
    "editable": false,
    "nbgrader": {
     "cell_type": "markdown",
     "checksum": "1c53f15e57b367800296b8b78f60fe81",
     "grade": false,
     "grade_id": "cell-3c3965a8716444b1",
     "locked": true,
     "schema_version": 3,
     "solution": false,
     "task": false
    }
   },
   "source": [
    "### ตัวอย่างการทำงาน: \n",
    "\n",
    "ไฟล์ vectors4.txt: <br>\n",
    "5.5 4 -9 6 -4 <br>\n",
    "3 -7.1 0  <br>\n",
    "\n",
    "Choose your vector file: **vectors4.txt** <br>\n",
    "v1 = [5.5, 4.0, -9.0, 6.0, -4.0] <br>\n",
    "v2 = [3.0, -7.1, 0.0] <br>\n",
    "Incompatible size <br>"
   ]
  },
  {
   "cell_type": "code",
   "execution_count": 10,
   "metadata": {
    "deletable": false,
    "nbgrader": {
     "cell_type": "code",
     "checksum": "cbe6647e55c316e5e5ac5aa26a5c6a9a",
     "grade": false,
     "grade_id": "vector",
     "locked": false,
     "schema_version": 3,
     "solution": true
    }
   },
   "outputs": [],
   "source": [
    "def run():\n",
    "    cho_file = input(\"ชื่อไฟล์ไรอะ :\")\n",
    "    df = open(cho_file,'r')\n",
    "    df = df.readlines()\n",
    "    total = 0 \n",
    "    print('v1 =',list(float(i) for i in (df[0].split())))\n",
    "    print('v2 =',list(float(i) for i in (df[1].split())))\n",
    "    if len(df[0].split()) == len(df[1].split()):\n",
    "        for i in range(len(df[0].split())):\n",
    "            suma = float((df[0].split())[i])*float((df[1].split())[i])\n",
    "            total += suma\n",
    "        print('v1*v2 =',total) \n",
    "    else :\n",
    "        print('Incompatible size')"
   ]
  },
  {
   "cell_type": "code",
   "execution_count": 11,
   "metadata": {
    "deletable": false,
    "editable": false,
    "nbgrader": {
     "cell_type": "code",
     "checksum": "b7b03893ed0aaf1a2af60ae612b4be37",
     "grade": false,
     "grade_id": "cell-befa13e6c82bd29b",
     "locked": true,
     "schema_version": 3,
     "solution": false,
     "task": false
    }
   },
   "outputs": [
    {
     "name": "stdout",
     "output_type": "stream",
     "text": [
      "ชื่อไฟล์ไรอะ :vector2.txt\n",
      "Incompatible size \n"
     ]
    }
   ],
   "source": [
    "'''ตรวจสอบผลลัพธ์ของโปรแกรมด้วยการรันที่ cell นี้'''\n",
    "run()"
   ]
  },
  {
   "cell_type": "code",
   "execution_count": null,
   "metadata": {
    "deletable": false,
    "editable": false,
    "nbgrader": {
     "cell_type": "code",
     "checksum": "b4e38bff05d3a7fa3d6eca960b5139a4",
     "grade": true,
     "grade_id": "partial",
     "locked": true,
     "points": 0,
     "schema_version": 3,
     "solution": false,
     "task": false
    }
   },
   "outputs": [],
   "source": [
    "'''ตรวจสอบผลการคำนวณ'''\n",
    "from unittest.mock import patch\n",
    "from io import StringIO\n",
    "import math\n",
    "\n",
    "def test(inputs,expected_output,exact_output): \n",
    "    with patch('builtins.input', side_effect=inputs), patch('sys.stdout', new_callable=StringIO) as mock_stdout:\n",
    "        run()\n",
    "        assert mock_stdout.getvalue() == expected_output,mock_stdout.getvalue()"
   ]
  },
  {
   "cell_type": "code",
   "execution_count": null,
   "metadata": {
    "deletable": false,
    "editable": false,
    "nbgrader": {
     "cell_type": "code",
     "checksum": "15cb3753f4865189ccf5bdc8f27eee42",
     "grade": true,
     "grade_id": "exact",
     "locked": false,
     "points": 1,
     "schema_version": 3,
     "solution": false
    }
   },
   "outputs": [],
   "source": [
    "'''ตรวจสอบผลการคำนวณและการแสดงผลลัพธ์ให้เหมือนกับโจทย์ที่กำหนดให้'''\n",
    "'''Vector dot product'''\n",
    "test(['vector1.txt'],'v1 = [6.0, 4.0, 9.0, 6.0, -4.0, 7.0]\\nv2 = [3.0, 7.0, -3.0, 9.0, -5.0, 1.0]\\nv1*v2 = 100.0\\n',exact_output=True)\n",
    "test(['vector3.txt'],'v1 = [5.5, 4.5, 9.5, 6.0, -4.0, 7.0]\\nv2 = [3.0, 7.1, -3.5, 5.0, 6.0, 9.0]\\nv1*v2 = 84.2\\n',exact_output=True)"
   ]
  },
  {
   "cell_type": "code",
   "execution_count": null,
   "metadata": {
    "deletable": false,
    "editable": false,
    "nbgrader": {
     "cell_type": "code",
     "checksum": "2a1453dad95b5e6a26a13a26ed44afdb",
     "grade": true,
     "grade_id": "cell-cbc47179f27fefee",
     "locked": true,
     "points": 1,
     "schema_version": 3,
     "solution": false,
     "task": false
    }
   },
   "outputs": [],
   "source": [
    "'''ตรวจสอบผลการคำนวณและการแสดงผลลัพธ์ให้เหมือนกับโจทย์ที่กำหนดให้'''\n",
    "'''Incompatible size'''\n",
    "test(['vector2.txt'],'v1 = [6.0, 4.0, 9.0, 6.0, -4.0, 7.0]\\nv2 = [3.0, 7.0, -3.0]\\nIncompatible size\\n',exact_output=True)\n",
    "test(['vector4.txt'],'v1 = [5.5, 4.0, -9.0, 6.0, -4.0]\\nv2 = [3.0, -7.1, 0.0]\\nIncompatible size\\n',exact_output=True)"
   ]
  }
 ],
 "metadata": {
  "kernelspec": {
   "display_name": "Python 3 (ipykernel)",
   "language": "python",
   "name": "python3"
  },
  "language_info": {
   "codemirror_mode": {
    "name": "ipython",
    "version": 3
   },
   "file_extension": ".py",
   "mimetype": "text/x-python",
   "name": "python",
   "nbconvert_exporter": "python",
   "pygments_lexer": "ipython3",
   "version": "3.9.12"
  }
 },
 "nbformat": 4,
 "nbformat_minor": 1
}
