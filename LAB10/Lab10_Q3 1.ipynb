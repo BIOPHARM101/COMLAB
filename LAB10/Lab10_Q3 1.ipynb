{
 "cells": [
  {
   "cell_type": "markdown",
   "metadata": {
    "deletable": false,
    "editable": false,
    "nbgrader": {
     "cell_type": "markdown",
     "checksum": "0e50e6667ddc131aea85b0455e64e190",
     "grade": false,
     "grade_id": "cell-dbf37dcea5d7dc5c",
     "locked": true,
     "schema_version": 3,
     "solution": false,
     "task": false
    }
   },
   "source": [
    "## Q3 (4 points)\n",
    "จงเขียนโปรแกรมที่อ่านไฟล์ studentScore.txt ที่มีรายชื่อนักเรียนและคะแนนสอบดังแสดงในตัวอย่างข้างล่างเก็บเป็น dictionary แล้วแสดงชื่อนักเรียนเรียงจากคะแนนสูงสุดไปต่ำสุด กำหนดให้ ไม่มีใครได้คะแนนเท่ากัน"
   ]
  },
  {
   "cell_type": "markdown",
   "metadata": {
    "deletable": false,
    "editable": false,
    "nbgrader": {
     "cell_type": "markdown",
     "checksum": "980b638d8757dd229231d51b2dab95f1",
     "grade": false,
     "grade_id": "cell-03f39e4ccd9fcca1",
     "locked": true,
     "schema_version": 3,
     "solution": false,
     "task": false
    }
   },
   "source": [
    "### ตัวอย่างไฟล์ studentScore1.txt: \n",
    "\n",
    "Piti 25 <br>\n",
    "Mana 32 <br>\n",
    "Ari 19 <br>\n",
    "Suda 28 <br>\n",
    "Somsak 26 <br>"
   ]
  },
  {
   "cell_type": "markdown",
   "metadata": {
    "deletable": false,
    "editable": false,
    "nbgrader": {
     "cell_type": "markdown",
     "checksum": "10c9137f261d24528e220eab2e0554e7",
     "grade": false,
     "grade_id": "cell-c5c873cd4b0d9800",
     "locked": true,
     "schema_version": 3,
     "solution": false,
     "task": false
    }
   },
   "source": [
    "### ตัวอย่างไฟล์ studentScore2.txt: \n",
    "\n",
    "Manee 22 <br>\n",
    "Piti 32 <br>\n",
    "Ton 35 <br>\n",
    "Tree 21 <br>\n",
    "Siri 23 <br>\n",
    "Mon 20 <br>"
   ]
  },
  {
   "cell_type": "markdown",
   "metadata": {
    "deletable": false,
    "editable": false,
    "nbgrader": {
     "cell_type": "markdown",
     "checksum": "50d59113feabc5480970f904acf10f7f",
     "grade": false,
     "grade_id": "cell-e02bd30c7ce943f0",
     "locked": true,
     "schema_version": 3,
     "solution": false,
     "task": false
    }
   },
   "source": [
    "### ตัวอย่างการทำงาน: \n",
    "Choose your studentScore: **studentScore1.txt** <br>\n",
    "Mana <br>\n",
    "Suda <br>\n",
    "Somsak <br>\n",
    "Piti <br>\n",
    "Ari <br>"
   ]
  },
  {
   "cell_type": "markdown",
   "metadata": {
    "deletable": false,
    "editable": false,
    "nbgrader": {
     "cell_type": "markdown",
     "checksum": "2828593ab7264f78beed375df7b56b59",
     "grade": false,
     "grade_id": "cell-807edfbdea063af2",
     "locked": true,
     "schema_version": 3,
     "solution": false,
     "task": false
    }
   },
   "source": [
    "### ตัวอย่างการทำงาน: \n",
    "Choose your studentScore: **studentScore2.txt** <br>\n",
    "Ton <br>\n",
    "Piti <br>\n",
    "Siri <br>\n",
    "Manee <br>\n",
    "Tree <br>"
   ]
  },
  {
   "cell_type": "code",
   "execution_count": null,
   "metadata": {
    "deletable": false,
    "nbgrader": {
     "cell_type": "code",
     "checksum": "87d9b295539318aa9221aa375c6b053c",
     "grade": false,
     "grade_id": "name",
     "locked": false,
     "schema_version": 3,
     "solution": true
    }
   },
   "outputs": [],
   "source": [
    "def get_dict(file_name):\n",
    "    file_name = open(file_name)\n",
    "    all_score = {}\n",
    "    for i in file_name:\n",
    "        i = i.split()\n",
    "        all_score[i[0]] = int(i[1])\n",
    "    return all_score\n",
    "\n",
    "def run():\n",
    "    input_name = input()\n",
    "    data = get_dict(input_name)\n",
    "    score=list(data.values())\n",
    "    score.sort(reverse=True)\n",
    "    for i in score:\n",
    "        for NN,SS_ in data.items():\n",
    "            if i == SS_:\n",
    "                print(NN)\n",
    "    \n"
   ]
  },
  {
   "cell_type": "code",
   "execution_count": null,
   "metadata": {
    "deletable": false,
    "editable": false,
    "nbgrader": {
     "cell_type": "code",
     "checksum": "b7b03893ed0aaf1a2af60ae612b4be37",
     "grade": false,
     "grade_id": "cell-befa13e6c82bd29b",
     "locked": true,
     "schema_version": 3,
     "solution": false,
     "task": false
    }
   },
   "outputs": [],
   "source": [
    "'''ตรวจสอบผลลัพธ์ของโปรแกรมด้วยการรันที่ cell นี้'''\n",
    "run()"
   ]
  },
  {
   "cell_type": "code",
   "execution_count": null,
   "metadata": {
    "deletable": false,
    "editable": false,
    "nbgrader": {
     "cell_type": "code",
     "checksum": "15d2dd08a3ebe858d47874eebd6295ba",
     "grade": false,
     "grade_id": "partial3",
     "locked": true,
     "schema_version": 3,
     "solution": false,
     "task": false
    }
   },
   "outputs": [],
   "source": [
    "'''ตรวจสอบผลการคำนวณ'''\n",
    "from unittest.mock import patch\n",
    "from io import StringIO\n",
    "\n",
    "def test(inputs,expected_output): \n",
    "    with patch('builtins.input', side_effect=inputs), patch('sys.stdout', new_callable=StringIO) as mock_stdout:\n",
    "        run()\n",
    "        assert mock_stdout.getvalue() == expected_output,mock_stdout.getvalue()       "
   ]
  },
  {
   "cell_type": "code",
   "execution_count": null,
   "metadata": {
    "deletable": false,
    "editable": false,
    "nbgrader": {
     "cell_type": "code",
     "checksum": "055bce6b753784f962d46daf8e18a841",
     "grade": true,
     "grade_id": "cell-159cd7c85a0c7a54",
     "locked": true,
     "points": 1,
     "schema_version": 3,
     "solution": false,
     "task": false
    }
   },
   "outputs": [],
   "source": [
    "'''ตรวจสอบผลการคำนวณและการแสดงผลลัพธ์ให้เหมือนกับโจทย์ที่กำหนดให้'''\n",
    "assert get_dict('studentScore1.txt') == {'Piti': 25, 'Mana': 32, 'Ari': 19, 'Suda': 28, 'Somsak': 26},get_dict('studentScore1.txt')"
   ]
  },
  {
   "cell_type": "code",
   "execution_count": null,
   "metadata": {
    "deletable": false,
    "editable": false,
    "nbgrader": {
     "cell_type": "code",
     "checksum": "c8164337c12186da9c232412f873e5a5",
     "grade": true,
     "grade_id": "exact",
     "locked": false,
     "points": 3,
     "schema_version": 3,
     "solution": false
    }
   },
   "outputs": [],
   "source": [
    "'''ตรวจสอบผลการคำนวณและการแสดงผลลัพธ์ให้เหมือนกับโจทย์ที่กำหนดให้'''\n",
    "'''Example 1'''\n",
    "test(['studentScore1.txt'],'Mana\\nSuda\\nSomsak\\nPiti\\nAri\\n') \n",
    "test(['studentScore2.txt'],'Ton\\nPiti\\nSiri\\nManee\\nTree\\nMon\\n') "
   ]
  }
 ],
 "metadata": {
  "kernelspec": {
   "display_name": "Python 3 (ipykernel)",
   "language": "python",
   "name": "python3"
  },
  "language_info": {
   "codemirror_mode": {
    "name": "ipython",
    "version": 3
   },
   "file_extension": ".py",
   "mimetype": "text/x-python",
   "name": "python",
   "nbconvert_exporter": "python",
   "pygments_lexer": "ipython3",
   "version": "3.9.12"
  },
  "vscode": {
   "interpreter": {
    "hash": "477227f617c98602bbef7991e84d6610b7b1741295eb15dad1f126b87d6adc5b"
   }
  }
 },
 "nbformat": 4,
 "nbformat_minor": 1
}
