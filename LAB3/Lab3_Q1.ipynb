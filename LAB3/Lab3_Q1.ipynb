{
 "cells": [
  {
   "cell_type": "markdown",
   "metadata": {
    "deletable": false,
    "editable": false,
    "nbgrader": {
     "cell_type": "markdown",
     "checksum": "8b8a896f08b3c19b0200e2d14a9f773d",
     "grade": false,
     "grade_id": "cell-dbf37dcea5d7dc5c",
     "locked": true,
     "schema_version": 3,
     "solution": false,
     "task": false
    }
   },
   "source": [
    "---\n",
    "## Q1 (4 points)\n",
    "จงเขียนโปรแกรมที่คำนวณหาผลเฉลยของสมการกำลังสอง (quadratic equation) โดยให้รับสัมประสิทธิ์\n",
    "$𝑎, 𝑏, 𝑐$ ในสมการ $𝑎𝑥^2 + 𝑏𝑥 + 𝑐 = 0$ จากผู้ใช้แล้วคำนวณหาผลเฉลยจากสูตร $𝑥 = \\frac{−𝑏± \\sqrt{b^2-4ac}} {2a} $ ได้ให้\n",
    "คำนวณและพิมพ์ผลเฉลย \n",
    "\n",
    "ถ้าไม่สามารถหาได้ให้พิมพ์ข้อความ 'No real solution.' ดังตัวอย่างข้างล่างนี้"
   ]
  },
  {
   "cell_type": "markdown",
   "metadata": {
    "deletable": false,
    "editable": false,
    "nbgrader": {
     "cell_type": "markdown",
     "checksum": "499233daf64ba226fbe4d6b77c02bf4e",
     "grade": false,
     "grade_id": "cell-7ae57c7b0fc2869d",
     "locked": true,
     "schema_version": 3,
     "solution": false,
     "task": false
    }
   },
   "source": [
    "### ตัวอย่างการทำงาน: \n",
    "\n",
    "Enter coefficients a, b, c : **1, 4, 3** <br>\n",
    "x = -1.0 , -3.0"
   ]
  },
  {
   "cell_type": "markdown",
   "metadata": {
    "deletable": false,
    "editable": false,
    "nbgrader": {
     "cell_type": "markdown",
     "checksum": "b4ea9719e9ff85c52423b55aea4d47e0",
     "grade": false,
     "grade_id": "cell-1b10c564484fa711",
     "locked": true,
     "schema_version": 3,
     "solution": false,
     "task": false
    }
   },
   "source": [
    "### ตัวอย่างการทำงาน: \n",
    "\n",
    "Enter coefficients a, b, c : **2.3, -1.5, 1.5** <br>\n",
    "No real solution."
   ]
  },
  {
   "cell_type": "markdown",
   "metadata": {
    "deletable": false,
    "editable": false,
    "nbgrader": {
     "cell_type": "markdown",
     "checksum": "7d0788faf8bb3657060160cada1c3e59",
     "grade": false,
     "grade_id": "cell-fc86ada0a7d9d7ee",
     "locked": true,
     "schema_version": 3,
     "solution": false,
     "task": false
    }
   },
   "source": [
    "### ตัวอย่างการทำงาน: \n",
    "\n",
    "Enter coefficients a, b, c : **2.5, -8.7, 2.1** <br>x = 3.219053751558745 , 0.26094624844125425"
   ]
  },
  {
   "cell_type": "markdown",
   "metadata": {
    "deletable": false,
    "editable": false,
    "nbgrader": {
     "cell_type": "markdown",
     "checksum": "20d0423e8977af9cacd5d46ce8249496",
     "grade": false,
     "grade_id": "cell-7756331ade47aa76",
     "locked": true,
     "schema_version": 3,
     "solution": false,
     "task": false
    }
   },
   "source": [
    "### ตัวอย่างการทำงาน: \n",
    "\n",
    "Enter coefficients a, b, c : **0, 1, 5**<br>No real solution."
   ]
  },
  {
   "cell_type": "code",
   "execution_count": 14,
   "metadata": {
    "deletable": false,
    "nbgrader": {
     "cell_type": "code",
     "checksum": "00b4f29d142119c6df600285bfcbb9ed",
     "grade": false,
     "grade_id": "quardatic",
     "locked": false,
     "schema_version": 3,
     "solution": true
    }
   },
   "outputs": [],
   "source": [
    "def run():\n",
    "    a,b,c = [float(x) for x in (input().split(\",\"))]\n",
    "\n",
    "\n",
    "    if a != 0 and b**2 >= 4*a*c:\n",
    "        x1 = (-b+(((b**2)-4*a*c)**0.5))/(2*a)\n",
    "        x2 = (-b-(((b**2)-4*a*c)**0.5))/(2*a)\n",
    "        print('x =',x1,',',x2)\n",
    "    else :\n",
    "        print(\"No real solution.\")"
   ]
  },
  {
   "cell_type": "code",
   "execution_count": 15,
   "metadata": {
    "deletable": false,
    "editable": false,
    "nbgrader": {
     "cell_type": "code",
     "checksum": "b7b03893ed0aaf1a2af60ae612b4be37",
     "grade": false,
     "grade_id": "cell-befa13e6c82bd29b",
     "locked": true,
     "schema_version": 3,
     "solution": false,
     "task": false
    }
   },
   "outputs": [
    {
     "name": "stdout",
     "output_type": "stream",
     "text": [
      "1,2,1\n",
      "No real solution.\n"
     ]
    }
   ],
   "source": [
    "'''ตรวจสอบผลลัพธ์ของโปรแกรมด้วยการรันที่ cell นี้'''\n",
    "run()"
   ]
  },
  {
   "cell_type": "code",
   "execution_count": 10,
   "metadata": {
    "deletable": false,
    "editable": false,
    "nbgrader": {
     "cell_type": "code",
     "checksum": "37b3197ef874a208b41373001f39d2e1",
     "grade": true,
     "grade_id": "partial",
     "locked": true,
     "points": 0,
     "schema_version": 3,
     "solution": false,
     "task": false
    }
   },
   "outputs": [],
   "source": [
    "'''ตรวจสอบผลการคำนวณ'''\n",
    "from unittest.mock import patch\n",
    "from io import StringIO\n",
    "import math\n",
    "\n",
    "def test(inputs,expected_output,exact_output): \n",
    "    with patch('builtins.input', side_effect=inputs), patch('sys.stdout', new_callable=StringIO) as mock_stdout:\n",
    "        run()\n",
    "        if exact_output:\n",
    "            assert mock_stdout.getvalue() == expected_output,mock_stdout.getvalue()\n",
    "        else:\n",
    "            assert expected_output in mock_stdout.getvalue(),mock_stdout.getvalue()\n"
   ]
  },
  {
   "cell_type": "code",
   "execution_count": null,
   "metadata": {
    "deletable": false,
    "editable": false,
    "nbgrader": {
     "cell_type": "code",
     "checksum": "1afeb239c4c2475ec91b23ae66a0206b",
     "grade": true,
     "grade_id": "cell-b2366c75c5a74b94",
     "locked": true,
     "points": 1,
     "schema_version": 3,
     "solution": false,
     "task": false
    }
   },
   "outputs": [],
   "source": [
    "'''ตรวจสอบผลการคำนวณและการแสดงผลลัพธ์ให้เหมือนกับโจทย์ที่กำหนดให้'''\n",
    "test(['1,4,3'],'x = -1.0 , -3.0\\n',exact_output=True)\n",
    "test(['2.5,-8.7,2.1'],'x = 3.219053751558745 , 0.26094624844125425\\n',exact_output=True)\n",
    "test(['1,1,-1'],'x = 0.6180339887498949 , -1.618033988749895\\n',exact_output=True)"
   ]
  },
  {
   "cell_type": "code",
   "execution_count": null,
   "metadata": {
    "deletable": false,
    "editable": false,
    "nbgrader": {
     "cell_type": "code",
     "checksum": "5ffe05a835cbbf19248fb81ab7dbc1c0",
     "grade": true,
     "grade_id": "cell-e62a31b4fb175ffd",
     "locked": true,
     "points": 1,
     "schema_version": 3,
     "solution": false,
     "task": false
    }
   },
   "outputs": [],
   "source": [
    "'''ตรวจสอบผลการคำนวณและการแสดงผลลัพธ์ให้เหมือนกับโจทย์ที่กำหนดให้'''\n",
    "test(['1,2,1'],'x = -1.0 , -1.0\\n',exact_output=True)"
   ]
  },
  {
   "cell_type": "code",
   "execution_count": null,
   "metadata": {
    "deletable": false,
    "editable": false,
    "nbgrader": {
     "cell_type": "code",
     "checksum": "0405e2ef6c0e1c259411d0c71a153bd0",
     "grade": true,
     "grade_id": "cell-599d9cfd5a440e1d",
     "locked": true,
     "points": 1,
     "schema_version": 3,
     "solution": false,
     "task": false
    }
   },
   "outputs": [],
   "source": [
    "'''ตรวจสอบผลการคำนวณและการแสดงผลลัพธ์ให้เหมือนกับโจทย์ที่กำหนดให้'''\n",
    "test(['2.3,-1.5,1.5'],'No real solution.\\n',exact_output=True)\n",
    "test(['1,1,1'],'No real solution.\\n',exact_output=True)"
   ]
  },
  {
   "cell_type": "code",
   "execution_count": null,
   "metadata": {
    "deletable": false,
    "editable": false,
    "nbgrader": {
     "cell_type": "code",
     "checksum": "f00068f98f7cb088e5516a76a77fd57f",
     "grade": true,
     "grade_id": "cell-cba01a7135589187",
     "locked": true,
     "points": 1,
     "schema_version": 3,
     "solution": false,
     "task": false
    }
   },
   "outputs": [],
   "source": [
    "'''ตรวจสอบผลการคำนวณและการแสดงผลลัพธ์ให้เหมือนกับโจทย์ที่กำหนดให้'''\n",
    "test(['0,1,5'],'No real solution.\\n',exact_output=True)"
   ]
  }
 ],
 "metadata": {
  "kernelspec": {
   "display_name": "Python 3 (ipykernel)",
   "language": "python",
   "name": "python3"
  },
  "language_info": {
   "codemirror_mode": {
    "name": "ipython",
    "version": 3
   },
   "file_extension": ".py",
   "mimetype": "text/x-python",
   "name": "python",
   "nbconvert_exporter": "python",
   "pygments_lexer": "ipython3",
   "version": "3.9.12"
  }
 },
 "nbformat": 4,
 "nbformat_minor": 1
}
