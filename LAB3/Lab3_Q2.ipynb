{
 "cells": [
  {
   "cell_type": "markdown",
   "metadata": {
    "deletable": false,
    "editable": false,
    "nbgrader": {
     "cell_type": "markdown",
     "checksum": "a100e6cb089f686d8f957ca8d1753197",
     "grade": false,
     "grade_id": "cell-dbf37dcea5d7dc5c",
     "locked": true,
     "schema_version": 3,
     "solution": false,
     "task": false
    }
   },
   "source": [
    "---\n",
    "## Q2 (5 points)\n",
    "จงเขียนโปรแกรมที่รับน้ำหนัก (kg.) และส่วนสูง (m.) จากผู้ใช้มาคำนวณ bmi จาก น้ำหนัก (kg.)/ส่วนสูง\n",
    "(m.) ยกกำลัง 2 แล้วแสดงผลลัพธ์ว่าผู้ใช้มีรูปร่างในระดับใดดังนี้\n",
    "\n",
    "ต่ำกว่า 18.5 ผอม\n",
    "\n",
    "ไม่น้อยกว่า 18.5 แต่ต่ำกว่า 23.0 รูปร่างปกติ\n",
    "\n",
    "ไม่น้อยกว่า 23.0 แต่ต่ำกว่า 25.0 รูปร่างอ้วน\n",
    "\n",
    "ไม่น้อยกว่า 25.0 แต่ต่ำกว่า 30.0 อ้วนระดับ 1\n",
    "\n",
    "ไม่น้อยกว่า 30.0 อ้วนระดับ 2"
   ]
  },
  {
   "cell_type": "markdown",
   "metadata": {
    "deletable": false,
    "editable": false,
    "nbgrader": {
     "cell_type": "markdown",
     "checksum": "ab7448bfc8c76b19164b617e6f7bd348",
     "grade": false,
     "grade_id": "cell-7ae57c7b0fc2869d",
     "locked": true,
     "schema_version": 3,
     "solution": false,
     "task": false
    }
   },
   "source": [
    "### ตัวอย่างการทำงาน: \n",
    "\n",
    "Weight (kg.) : **61.3** <br>\n",
    "Height (m.) : **1.65** <br>\n",
    "รูปร่างปกติ"
   ]
  },
  {
   "cell_type": "markdown",
   "metadata": {
    "deletable": false,
    "editable": false,
    "nbgrader": {
     "cell_type": "markdown",
     "checksum": "18829858b5388625a406d901ddaa9d0f",
     "grade": false,
     "grade_id": "cell-1b10c564484fa711",
     "locked": true,
     "schema_version": 3,
     "solution": false,
     "task": false
    }
   },
   "source": [
    "### ตัวอย่างการทำงาน: \n",
    "\n",
    "Weight (kg.) : **50.3** <br>\n",
    "Height (m.) : **1.67**<br>\n",
    "ผอม"
   ]
  },
  {
   "cell_type": "markdown",
   "metadata": {
    "deletable": false,
    "editable": false,
    "nbgrader": {
     "cell_type": "markdown",
     "checksum": "6f1a06bf5a4cccc5422b84f0a0939b6d",
     "grade": false,
     "grade_id": "cell-8d6f849a001e7146",
     "locked": true,
     "schema_version": 3,
     "solution": false,
     "task": false
    }
   },
   "source": [
    "### ตัวอย่างการทำงาน:\n",
    "\n",
    "Weight (kg.) : **72.3** <br> Height (m.) : 1.5<br>อ้วนระดับ 2\n"
   ]
  },
  {
   "cell_type": "code",
   "execution_count": 15,
   "metadata": {
    "deletable": false,
    "nbgrader": {
     "cell_type": "code",
     "checksum": "5b8187b67dc069f760a91b5e7feef521",
     "grade": false,
     "grade_id": "bmi",
     "locked": false,
     "schema_version": 3,
     "solution": true
    }
   },
   "outputs": [],
   "source": [
    "def run():\n",
    "    a =float(input())\n",
    "    b = float(input())\n",
    "    c= a/ (b**2)\n",
    "    if c < 18.5  :\n",
    "        print(\"ผอม\")\n",
    "    elif c >= 18.5 and c <23:\n",
    "        print(\"รูปร่างปกติ\")\n",
    "    elif c>= 23 and  c<25:\n",
    "        print(\"รูปร่างอ้วน\")\n",
    "    elif c>=25 and c< 30:\n",
    "        print(\"อ้วนระดับ 1\")\n",
    "    else :\n",
    "        print(\"อ้วนระดับ 2\")\n",
    "    "
   ]
  },
  {
   "cell_type": "code",
   "execution_count": 17,
   "metadata": {
    "deletable": false,
    "editable": false,
    "nbgrader": {
     "cell_type": "code",
     "checksum": "b7b03893ed0aaf1a2af60ae612b4be37",
     "grade": false,
     "grade_id": "cell-befa13e6c82bd29b",
     "locked": true,
     "schema_version": 3,
     "solution": false,
     "task": false
    }
   },
   "outputs": [
    {
     "name": "stdout",
     "output_type": "stream",
     "text": [
      "75\n",
      "1.75\n",
      "24.489795918367346\n",
      "รูปร่างอ้วน\n"
     ]
    }
   ],
   "source": [
    "'''ตรวจสอบผลลัพธ์ของโปรแกรมด้วยการรันที่ cell นี้'''\n",
    "run()"
   ]
  },
  {
   "cell_type": "code",
   "execution_count": 10,
   "metadata": {
    "deletable": false,
    "editable": false,
    "nbgrader": {
     "cell_type": "code",
     "checksum": "6458b7beee7bcdcc76525dc73cc13e79",
     "grade": true,
     "grade_id": "partial",
     "locked": true,
     "points": 0,
     "schema_version": 3,
     "solution": false,
     "task": false
    }
   },
   "outputs": [],
   "source": [
    "'''ตรวจสอบผลการคำนวณ'''\n",
    "from unittest.mock import patch\n",
    "from io import StringIO\n",
    "import math\n",
    "\n",
    "def test(inputs,expected_output,exact_output): \n",
    "    with patch('builtins.input', side_effect=inputs), patch('sys.stdout', new_callable=StringIO) as mock_stdout:\n",
    "        run()\n",
    "        if exact_output:\n",
    "            assert mock_stdout.getvalue() == expected_output,mock_stdout.getvalue()\n",
    "        else:\n",
    "            assert expected_output in mock_stdout.getvalue(),mock_stdout.getvalue()"
   ]
  },
  {
   "cell_type": "code",
   "execution_count": 11,
   "metadata": {
    "deletable": false,
    "editable": false,
    "nbgrader": {
     "cell_type": "code",
     "checksum": "50879aefd4564913e619464aa36f6e32",
     "grade": true,
     "grade_id": "exact",
     "locked": false,
     "points": 1,
     "schema_version": 3,
     "solution": false
    }
   },
   "outputs": [
    {
     "ename": "AssertionError",
     "evalue": "ผอม\n",
     "output_type": "error",
     "traceback": [
      "\u001b[0;31m---------------------------------------------------------------------------\u001b[0m",
      "\u001b[0;31mAssertionError\u001b[0m                            Traceback (most recent call last)",
      "Input \u001b[0;32mIn [11]\u001b[0m, in \u001b[0;36m<cell line: 3>\u001b[0;34m()\u001b[0m\n\u001b[1;32m      1\u001b[0m \u001b[38;5;124;03m'''ตรวจสอบผลการคำนวณและการแสดงผลลัพธ์ให้เหมือนกับโจทย์ที่กำหนดให้'''\u001b[39;00m\n\u001b[1;32m      2\u001b[0m test([\u001b[38;5;124m'\u001b[39m\u001b[38;5;124m61.3\u001b[39m\u001b[38;5;124m'\u001b[39m,\u001b[38;5;124m'\u001b[39m\u001b[38;5;124m1.65\u001b[39m\u001b[38;5;124m'\u001b[39m],\u001b[38;5;124m'\u001b[39m\u001b[38;5;124mรูปร่างปกติ\u001b[39m\u001b[38;5;130;01m\\n\u001b[39;00m\u001b[38;5;124m'\u001b[39m,exact_output\u001b[38;5;241m=\u001b[39m\u001b[38;5;28;01mTrue\u001b[39;00m) \n\u001b[0;32m----> 3\u001b[0m \u001b[43mtest\u001b[49m\u001b[43m(\u001b[49m\u001b[43m[\u001b[49m\u001b[38;5;124;43m'\u001b[39;49m\u001b[38;5;124;43m74\u001b[39;49m\u001b[38;5;124;43m'\u001b[39;49m\u001b[43m,\u001b[49m\u001b[38;5;124;43m'\u001b[39;49m\u001b[38;5;124;43m2.0\u001b[39;49m\u001b[38;5;124;43m'\u001b[39;49m\u001b[43m]\u001b[49m\u001b[43m,\u001b[49m\u001b[38;5;124;43m'\u001b[39;49m\u001b[38;5;124;43mรูปร่างปกติ\u001b[39;49m\u001b[38;5;130;43;01m\\n\u001b[39;49;00m\u001b[38;5;124;43m'\u001b[39;49m\u001b[43m,\u001b[49m\u001b[43mexact_output\u001b[49m\u001b[38;5;241;43m=\u001b[39;49m\u001b[38;5;28;43;01mTrue\u001b[39;49;00m\u001b[43m)\u001b[49m\n",
      "Input \u001b[0;32mIn [10]\u001b[0m, in \u001b[0;36mtest\u001b[0;34m(inputs, expected_output, exact_output)\u001b[0m\n\u001b[1;32m      8\u001b[0m run()\n\u001b[1;32m      9\u001b[0m \u001b[38;5;28;01mif\u001b[39;00m exact_output:\n\u001b[0;32m---> 10\u001b[0m     \u001b[38;5;28;01massert\u001b[39;00m mock_stdout\u001b[38;5;241m.\u001b[39mgetvalue() \u001b[38;5;241m==\u001b[39m expected_output,mock_stdout\u001b[38;5;241m.\u001b[39mgetvalue()\n\u001b[1;32m     11\u001b[0m \u001b[38;5;28;01melse\u001b[39;00m:\n\u001b[1;32m     12\u001b[0m     \u001b[38;5;28;01massert\u001b[39;00m expected_output \u001b[38;5;129;01min\u001b[39;00m mock_stdout\u001b[38;5;241m.\u001b[39mgetvalue(),mock_stdout\u001b[38;5;241m.\u001b[39mgetvalue()\n",
      "\u001b[0;31mAssertionError\u001b[0m: ผอม\n"
     ]
    }
   ],
   "source": [
    "'''ตรวจสอบผลการคำนวณและการแสดงผลลัพธ์ให้เหมือนกับโจทย์ที่กำหนดให้'''\n",
    "test(['61.3','1.65'],'รูปร่างปกติ\\n',exact_output=True) \n",
    "test(['74','2.0'],'รูปร่างปกติ\\n',exact_output=True)   "
   ]
  },
  {
   "cell_type": "code",
   "execution_count": null,
   "metadata": {
    "deletable": false,
    "editable": false,
    "nbgrader": {
     "cell_type": "code",
     "checksum": "f34b0184a783766949ba43ed429e362d",
     "grade": true,
     "grade_id": "cell-015b162bcc29603f",
     "locked": true,
     "points": 1,
     "schema_version": 3,
     "solution": false,
     "task": false
    }
   },
   "outputs": [],
   "source": [
    "'''ตรวจสอบผลการคำนวณและการแสดงผลลัพธ์ให้เหมือนกับโจทย์ที่กำหนดให้'''\n",
    "test(['50.3','1.67'],'ผอม\\n',exact_output=True) "
   ]
  },
  {
   "cell_type": "code",
   "execution_count": null,
   "metadata": {
    "deletable": false,
    "editable": false,
    "nbgrader": {
     "cell_type": "code",
     "checksum": "df8d95d551400bced245352156302a99",
     "grade": true,
     "grade_id": "cell-b40afe32dd830024",
     "locked": true,
     "points": 1,
     "schema_version": 3,
     "solution": false,
     "task": false
    }
   },
   "outputs": [],
   "source": [
    "'''ตรวจสอบผลการคำนวณและการแสดงผลลัพธ์ให้เหมือนกับโจทย์ที่กำหนดให้'''\n",
    "test(['72.3','1.5'],'อ้วนระดับ 2\\n',exact_output=True)"
   ]
  },
  {
   "cell_type": "code",
   "execution_count": null,
   "metadata": {
    "deletable": false,
    "editable": false,
    "nbgrader": {
     "cell_type": "code",
     "checksum": "09c93d245ac05893af1028c88fd10b97",
     "grade": true,
     "grade_id": "cell-8ae0f1eee35b9354",
     "locked": true,
     "points": 1,
     "schema_version": 3,
     "solution": false,
     "task": false
    }
   },
   "outputs": [],
   "source": [
    "'''ตรวจสอบผลการคำนวณและการแสดงผลลัพธ์ให้เหมือนกับโจทย์ที่กำหนดให้'''\n",
    "test(['73','1.68'],'อ้วนระดับ 1\\n',exact_output=True) \n",
    "test(['100','2.0'],'อ้วนระดับ 1\\n',exact_output=True)"
   ]
  },
  {
   "cell_type": "code",
   "execution_count": null,
   "metadata": {
    "deletable": false,
    "editable": false,
    "nbgrader": {
     "cell_type": "code",
     "checksum": "e1528b31cca2bf7c69cf5798922dafe4",
     "grade": true,
     "grade_id": "cell-0b1407a34c6f1456",
     "locked": true,
     "points": 1,
     "schema_version": 3,
     "solution": false,
     "task": false
    }
   },
   "outputs": [],
   "source": [
    "'''ตรวจสอบผลการคำนวณและการแสดงผลลัพธ์ให้เหมือนกับโจทย์ที่กำหนดให้'''\n",
    "test(['75','1.75'],'รูปร่างอ้วน\\n',exact_output=True) \n",
    "test(['92','2.0'],'รูปร่างอ้วน\\n',exact_output=True)"
   ]
  }
 ],
 "metadata": {
  "kernelspec": {
   "display_name": "Python 3 (ipykernel)",
   "language": "python",
   "name": "python3"
  },
  "language_info": {
   "codemirror_mode": {
    "name": "ipython",
    "version": 3
   },
   "file_extension": ".py",
   "mimetype": "text/x-python",
   "name": "python",
   "nbconvert_exporter": "python",
   "pygments_lexer": "ipython3",
   "version": "3.9.12"
  }
 },
 "nbformat": 4,
 "nbformat_minor": 1
}
