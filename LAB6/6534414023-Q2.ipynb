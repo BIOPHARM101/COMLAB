{
 "cells": [
  {
   "cell_type": "markdown",
   "metadata": {
    "deletable": false,
    "editable": false,
    "id": "vWK-TC5jpMy1",
    "nbgrader": {
     "cell_type": "markdown",
     "checksum": "ca320a8f15f825d8019045ed8585f59f",
     "grade": false,
     "grade_id": "cell-dbf37dcea5d7dc5c",
     "locked": true,
     "schema_version": 3,
     "solution": false,
     "task": false
    }
   },
   "source": [
    "## Q2 (4 points)\n",
    "จงเขียนโปรแกรมที่รับจำนวนเต็มบวก n แล้วหาจำนวนเต็มบวกที่หาร n ลงตัว"
   ]
  },
  {
   "cell_type": "markdown",
   "metadata": {
    "deletable": false,
    "editable": false,
    "id": "qX54o_QCpMy4",
    "nbgrader": {
     "cell_type": "markdown",
     "checksum": "d11757c2c71920dbcabbb162abdb7977",
     "grade": false,
     "grade_id": "cell-7ae57c7b0fc2869d",
     "locked": true,
     "schema_version": 3,
     "solution": false,
     "task": false
    }
   },
   "source": [
    "### ตัวอย่างการทำงาน: \n",
    "\n",
    "Enter an integer : **1** <br>\n",
    "1 is divisible by:<br>\n",
    "1<br>"
   ]
  },
  {
   "cell_type": "markdown",
   "metadata": {
    "deletable": false,
    "editable": false,
    "id": "44EkwOBzpMy4",
    "nbgrader": {
     "cell_type": "markdown",
     "checksum": "308043a61b54475ae01770ab85acbe03",
     "grade": false,
     "grade_id": "cell-89fa11d51cba8b35",
     "locked": true,
     "schema_version": 3,
     "solution": false,
     "task": false
    }
   },
   "source": [
    "### ตัวอย่างการทำงาน: \n",
    "\n",
    "Enter an integer : **12** <br>\n",
    "12 is divisible by: <br>\n",
    "1 <br>\n",
    "2 <br>\n",
    "3 <br>\n",
    "4 <br>\n",
    "6 <br>\n",
    "12 <br>"
   ]
  },
  {
   "cell_type": "markdown",
   "metadata": {
    "deletable": false,
    "editable": false,
    "id": "Dft44WpOpMy4",
    "nbgrader": {
     "cell_type": "markdown",
     "checksum": "56ee541deed15f190ce45ee75e768ee7",
     "grade": false,
     "grade_id": "cell-8d6f849a001e7146",
     "locked": true,
     "schema_version": 3,
     "solution": false,
     "task": false
    }
   },
   "source": [
    "### ตัวอย่างการทำงาน:\n",
    "\n",
    "Enter an integer : **65** <br>\n",
    "65 is divisible by: <br>\n",
    "1 <br>\n",
    "5 <br>\n",
    "13 <br>\n",
    "65 <br>"
   ]
  },
  {
   "cell_type": "markdown",
   "metadata": {
    "deletable": false,
    "editable": false,
    "id": "_KRbUvsspMy5",
    "nbgrader": {
     "cell_type": "markdown",
     "checksum": "9ab0cf1971d8b385dcdcba77918bcf3b",
     "grade": false,
     "grade_id": "cell-1b10c564484fa711",
     "locked": true,
     "schema_version": 3,
     "solution": false,
     "task": false
    }
   },
   "source": [
    "### ตัวอย่างการทำงาน: \n",
    "\n",
    "Enter an integer : **211** <br>\n",
    "211 is divisible by: <br>\n",
    "1 <br>\n",
    "211 <br>"
   ]
  },
  {
   "cell_type": "code",
   "execution_count": 13,
   "metadata": {
    "deletable": false,
    "id": "VhTVM1S5pMy5",
    "nbgrader": {
     "cell_type": "code",
     "checksum": "f0fd23efd767673f9d334b17f22e1987",
     "grade": false,
     "grade_id": "division",
     "locked": false,
     "schema_version": 3,
     "solution": true
    }
   },
   "outputs": [],
   "source": [
    "def run():\n",
    "    x = int(input())\n",
    "    print(str(x),\"is divisible by:\")\n",
    "    for i in range(1,x+1):\n",
    "        if x%i ==0:\n",
    "            print(int(i))"
   ]
  },
  {
   "cell_type": "code",
   "execution_count": 14,
   "metadata": {
    "deletable": false,
    "editable": false,
    "id": "B-fm1MNjpMy6",
    "nbgrader": {
     "cell_type": "code",
     "checksum": "b7b03893ed0aaf1a2af60ae612b4be37",
     "grade": false,
     "grade_id": "cell-befa13e6c82bd29b",
     "locked": true,
     "schema_version": 3,
     "solution": false,
     "task": false
    }
   },
   "outputs": [
    {
     "name": "stdout",
     "output_type": "stream",
     "text": [
      "211\n",
      "1\n",
      "211\n"
     ]
    }
   ],
   "source": [
    "'''ตรวจสอบผลลัพธ์ของโปรแกรมด้วยการรันที่ cell นี้'''\n",
    "run()"
   ]
  },
  {
   "cell_type": "code",
   "execution_count": null,
   "metadata": {
    "deletable": false,
    "editable": false,
    "id": "dgVPLrlWpMy7",
    "nbgrader": {
     "cell_type": "code",
     "checksum": "b4e38bff05d3a7fa3d6eca960b5139a4",
     "grade": true,
     "grade_id": "partial",
     "locked": true,
     "points": 0,
     "schema_version": 3,
     "solution": false,
     "task": false
    }
   },
   "outputs": [],
   "source": [
    "'''ตรวจสอบผลการคำนวณ'''\n",
    "from unittest.mock import patch\n",
    "from io import StringIO\n",
    "import math\n",
    "\n",
    "def test(inputs,expected_output,exact_output): \n",
    "    with patch('builtins.input', side_effect=inputs), patch('sys.stdout', new_callable=StringIO) as mock_stdout:\n",
    "        run()\n",
    "        assert mock_stdout.getvalue() == expected_output,mock_stdout.getvalue()"
   ]
  },
  {
   "cell_type": "code",
   "execution_count": null,
   "metadata": {
    "deletable": false,
    "editable": false,
    "id": "LBFxc_MEpMy7",
    "nbgrader": {
     "cell_type": "code",
     "checksum": "2cde50e6fe9d20aa5969fd0d99a1cd33",
     "grade": true,
     "grade_id": "exact",
     "locked": false,
     "points": 1,
     "schema_version": 3,
     "solution": false
    }
   },
   "outputs": [],
   "source": [
    "'''ตรวจสอบผลการคำนวณและการแสดงผลลัพธ์ให้เหมือนกับโจทย์ที่กำหนดให้'''\n",
    "'''Even numbers'''\n",
    "test(['12'],'12 is divisible by:\\n1\\n2\\n3\\n4\\n6\\n12\\n',exact_output=True) \n",
    "test(['128'],'128 is divisible by:\\n1\\n2\\n4\\n8\\n16\\n32\\n64\\n128\\n',exact_output=True) \n",
    "test(['1024'],'1024 is divisible by:\\n1\\n2\\n4\\n8\\n16\\n32\\n64\\n128\\n256\\n512\\n1024\\n',exact_output=True) "
   ]
  },
  {
   "cell_type": "code",
   "execution_count": null,
   "metadata": {
    "deletable": false,
    "editable": false,
    "id": "7bZyINc2pMy8",
    "nbgrader": {
     "cell_type": "code",
     "checksum": "4a6b3872427a93eaefcf7c15f1fc3802",
     "grade": true,
     "grade_id": "cell-a07ef84aa3313800",
     "locked": true,
     "points": 1,
     "schema_version": 3,
     "solution": false,
     "task": false
    }
   },
   "outputs": [],
   "source": [
    "'''ตรวจสอบผลการคำนวณและการแสดงผลลัพธ์ให้เหมือนกับโจทย์ที่กำหนดให้'''\n",
    "'''Odd numbers'''\n",
    "test(['1'],'1 is divisible by:\\n1\\n',exact_output=True) \n",
    "test(['65'],'65 is divisible by:\\n1\\n5\\n13\\n65\\n',exact_output=True) \n",
    "test(['111'],'111 is divisible by:\\n1\\n3\\n37\\n111\\n',exact_output=True) \n",
    "test(['1537'],'1537 is divisible by:\\n1\\n29\\n53\\n1537\\n',exact_output=True) "
   ]
  },
  {
   "cell_type": "code",
   "execution_count": null,
   "metadata": {
    "deletable": false,
    "editable": false,
    "id": "VTY3Nkz5pMy8",
    "nbgrader": {
     "cell_type": "code",
     "checksum": "b8d6be137ade6aee6450dcbf9870b942",
     "grade": true,
     "grade_id": "cell-ad91ccd55eeb0c2f",
     "locked": true,
     "points": 1,
     "schema_version": 3,
     "solution": false,
     "task": false
    }
   },
   "outputs": [],
   "source": [
    "'''ตรวจสอบผลการคำนวณและการแสดงผลลัพธ์ให้เหมือนกับโจทย์ที่กำหนดให้'''\n",
    "'''Prime numbers'''\n",
    "test(['211'],'211 is divisible by:\\n1\\n211\\n',exact_output=True)\n",
    "test(['557'],'557 is divisible by:\\n1\\n557\\n',exact_output=True)\n",
    "test(['941'],'941 is divisible by:\\n1\\n941\\n',exact_output=True)"
   ]
  },
  {
   "cell_type": "code",
   "execution_count": null,
   "metadata": {
    "deletable": false,
    "editable": false,
    "id": "PW_mtGU3pMy8",
    "nbgrader": {
     "cell_type": "code",
     "checksum": "deb6ee93b7212b74d677abef979e5759",
     "grade": true,
     "grade_id": "cell-9d4df4635fcf41eb",
     "locked": true,
     "points": 1,
     "schema_version": 3,
     "solution": false,
     "task": false
    }
   },
   "outputs": [],
   "source": [
    "'''เทสลับ'''"
   ]
  }
 ],
 "metadata": {
  "colab": {
   "provenance": []
  },
  "kernelspec": {
   "display_name": "Python 3 (ipykernel)",
   "language": "python",
   "name": "python3"
  },
  "language_info": {
   "codemirror_mode": {
    "name": "ipython",
    "version": 3
   },
   "file_extension": ".py",
   "mimetype": "text/x-python",
   "name": "python",
   "nbconvert_exporter": "python",
   "pygments_lexer": "ipython3",
   "version": "3.9.12"
  }
 },
 "nbformat": 4,
 "nbformat_minor": 1
}
