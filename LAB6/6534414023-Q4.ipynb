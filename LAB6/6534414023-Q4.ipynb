{
 "cells": [
  {
   "cell_type": "markdown",
   "metadata": {
    "deletable": false,
    "editable": false,
    "id": "E1B6KGElpT0J",
    "nbgrader": {
     "cell_type": "markdown",
     "checksum": "4f75922668d5fb64a3c4955b683b57d0",
     "grade": false,
     "grade_id": "cell-dbf37dcea5d7dc5c",
     "locked": true,
     "schema_version": 3,
     "solution": false,
     "task": false
    }
   },
   "source": [
    "## Q4 (4 points)\n",
    "จงเขียนโปรแกรมที่วนรับจำนวนเงินที่ต้องการเบิกจากบัญชี โดยจะยอมให้เบิกถ้ายังมีเงินในบัญชีพอ และวนรับจำนวนเงินที่ต้องการเบิกไปจนเงินในบัญชีหมดพอดี (กำหนดให้เริ่มต้นมีเงินในบัญชี 50,000 บาท)\n"
   ]
  },
  {
   "cell_type": "markdown",
   "metadata": {
    "deletable": false,
    "editable": false,
    "id": "gipy2PnTpT0L",
    "nbgrader": {
     "cell_type": "markdown",
     "checksum": "211b7c6b5ef3aaf59c4c5ea9ee29e845",
     "grade": false,
     "grade_id": "cell-7ae57c7b0fc2869d",
     "locked": true,
     "schema_version": 3,
     "solution": false,
     "task": false
    }
   },
   "source": [
    "### ตัวอย่างการทำงาน: \n",
    "\n",
    "withdraw : **50000** <br>\n",
    "Balance is 0"
   ]
  },
  {
   "cell_type": "markdown",
   "metadata": {
    "deletable": false,
    "editable": false,
    "id": "fwziWeorpT0L",
    "nbgrader": {
     "cell_type": "markdown",
     "checksum": "df537268356b03183807824ac837f4ff",
     "grade": false,
     "grade_id": "cell-679ab39eeac1b48a",
     "locked": true,
     "schema_version": 3,
     "solution": false,
     "task": false
    }
   },
   "source": [
    "### ตัวอย่างการทำงาน: \n",
    "\n",
    "withdraw : **45000**  <br>\n",
    "withdraw : **5000**  <br>\n",
    "Balance is 0"
   ]
  },
  {
   "cell_type": "markdown",
   "metadata": {
    "deletable": false,
    "editable": false,
    "id": "6DEdy4gtpT0M",
    "nbgrader": {
     "cell_type": "markdown",
     "checksum": "70fb1440ec1e491305f41fc057db54e0",
     "grade": false,
     "grade_id": "cell-400409b302bb64e5",
     "locked": true,
     "schema_version": 3,
     "solution": false,
     "task": false
    }
   },
   "source": [
    "### ตัวอย่างการทำงาน: \n",
    "\n",
    "withdraw : **60000**  <br>\n",
    "Insufficient fund. <br>\n",
    "withdraw : **40000**  <br>\n",
    "withdraw : **20000**  <br>\n",
    "Insufficient fund.<br>\n",
    "withdraw : **10000**  <br>\n",
    "Balance is 0"
   ]
  },
  {
   "cell_type": "code",
   "execution_count": 11,
   "metadata": {
    "deletable": false,
    "id": "PGfGMzlbpT0M",
    "nbgrader": {
     "cell_type": "code",
     "checksum": "2f66308565ed6accc90cc02c77df7cb5",
     "grade": false,
     "grade_id": "withdraw",
     "locked": false,
     "schema_version": 3,
     "solution": true
    }
   },
   "outputs": [],
   "source": [
    "def run():\n",
    "    Ba = 50000\n",
    "    while Ba > 0:\n",
    "        x = int(input())\n",
    "        if x > Ba:\n",
    "            print(\"Insufficient fund.\")\n",
    "        else:\n",
    "            Ba = Ba - x\n",
    "    print(\"Balance is 0\")\n",
    "        "
   ]
  },
  {
   "cell_type": "code",
   "execution_count": null,
   "metadata": {
    "deletable": false,
    "editable": false,
    "id": "epEQVYUrpT0N",
    "nbgrader": {
     "cell_type": "code",
     "checksum": "b7b03893ed0aaf1a2af60ae612b4be37",
     "grade": false,
     "grade_id": "cell-befa13e6c82bd29b",
     "locked": true,
     "schema_version": 3,
     "solution": false,
     "task": false
    }
   },
   "outputs": [
    {
     "name": "stdout",
     "output_type": "stream",
     "text": [
      "4000\n",
      "46000\n",
      "50000\n",
      "Insufficient fund.\n",
      "20000\n",
      "26000\n"
     ]
    }
   ],
   "source": [
    "'''ตรวจสอบผลลัพธ์ของโปรแกรมด้วยการรันที่ cell นี้'''\n",
    "run()"
   ]
  },
  {
   "cell_type": "code",
   "execution_count": null,
   "metadata": {
    "deletable": false,
    "editable": false,
    "id": "tDpk19ZgpT0N",
    "nbgrader": {
     "cell_type": "code",
     "checksum": "b4e38bff05d3a7fa3d6eca960b5139a4",
     "grade": true,
     "grade_id": "partial",
     "locked": true,
     "points": 0,
     "schema_version": 3,
     "solution": false,
     "task": false
    }
   },
   "outputs": [],
   "source": [
    "'''ตรวจสอบผลการคำนวณ'''\n",
    "from unittest.mock import patch\n",
    "from io import StringIO\n",
    "import math\n",
    "\n",
    "def test(inputs,expected_output,exact_output): \n",
    "    with patch('builtins.input', side_effect=inputs), patch('sys.stdout', new_callable=StringIO) as mock_stdout:\n",
    "        run()\n",
    "        assert mock_stdout.getvalue() == expected_output,mock_stdout.getvalue()"
   ]
  },
  {
   "cell_type": "code",
   "execution_count": null,
   "metadata": {
    "deletable": false,
    "editable": false,
    "id": "CJqB9yr3pT0N",
    "nbgrader": {
     "cell_type": "code",
     "checksum": "2e9c6895abcae2f8513f686332cc6030",
     "grade": true,
     "grade_id": "exact",
     "locked": false,
     "points": 1,
     "schema_version": 3,
     "solution": false
    }
   },
   "outputs": [],
   "source": [
    "'''ตรวจสอบผลการคำนวณและการแสดงผลลัพธ์ให้เหมือนกับโจทย์ที่กำหนดให้'''\n",
    "test(['50000'],'Balance is 0\\n',exact_output=True) \n",
    "test(['25000','0','25000'],'Balance is 0\\n',exact_output=True) "
   ]
  },
  {
   "cell_type": "code",
   "execution_count": null,
   "metadata": {
    "deletable": false,
    "editable": false,
    "id": "VWrbIKYXpT0O",
    "nbgrader": {
     "cell_type": "code",
     "checksum": "e8709639d1a082f5d35464b4e4ea397e",
     "grade": true,
     "grade_id": "cell-5646d4ae088951fe",
     "locked": true,
     "points": 1,
     "schema_version": 3,
     "solution": false,
     "task": false
    }
   },
   "outputs": [],
   "source": [
    "'''ตรวจสอบผลการคำนวณและการแสดงผลลัพธ์ให้เหมือนกับโจทย์ที่กำหนดให้'''\n",
    "test(['45000','5000'],'Balance is 0\\n',exact_output=True)  \n",
    "test(['20000','30000'],'Balance is 0\\n',exact_output=True)  \n",
    "test(['98723','50000'],'Insufficient fund.\\nBalance is 0\\n',exact_output=True)  \n",
    "test(['73568','50000'],'Insufficient fund.\\nBalance is 0\\n',exact_output=True) "
   ]
  },
  {
   "cell_type": "code",
   "execution_count": null,
   "metadata": {
    "deletable": false,
    "editable": false,
    "id": "iPLtCp68pT0O",
    "nbgrader": {
     "cell_type": "code",
     "checksum": "69cbd237e74b5f10a1da5670adc2eefc",
     "grade": true,
     "grade_id": "cell-cbc47179f27fefee",
     "locked": true,
     "points": 1,
     "schema_version": 3,
     "solution": false,
     "task": false
    }
   },
   "outputs": [],
   "source": [
    "'''ตรวจสอบผลการคำนวณและการแสดงผลลัพธ์ให้เหมือนกับโจทย์ที่กำหนดให้'''\n",
    "test(['60000','40000','20000','10000'],'Insufficient fund.\\nInsufficient fund.\\nBalance is 0\\n',exact_output=True)\n",
    "test(['100000','60000','30000','20000'],'Insufficient fund.\\nInsufficient fund.\\nBalance is 0\\n',exact_output=True)\n",
    "test(['98765','56789','43210','6790'],'Insufficient fund.\\nInsufficient fund.\\nBalance is 0\\n',exact_output=True)\n",
    "test(['98765','43210','12345','6660','130'],'Insufficient fund.\\nInsufficient fund.\\nBalance is 0\\n',exact_output=True)"
   ]
  },
  {
   "cell_type": "code",
   "execution_count": null,
   "metadata": {
    "deletable": false,
    "editable": false,
    "id": "_mJiGP-XpT0O",
    "nbgrader": {
     "cell_type": "code",
     "checksum": "b97a7c9e8baeb3d9994e69b4c36c30ff",
     "grade": true,
     "grade_id": "cell-d4781a6782b18bd3",
     "locked": true,
     "points": 1,
     "schema_version": 3,
     "solution": false,
     "task": false
    }
   },
   "outputs": [],
   "source": [
    "'''เทสลับ'''"
   ]
  }
 ],
 "metadata": {
  "colab": {
   "provenance": []
  },
  "kernelspec": {
   "display_name": "Python 3 (ipykernel)",
   "language": "python",
   "name": "python3"
  },
  "language_info": {
   "codemirror_mode": {
    "name": "ipython",
    "version": 3
   },
   "file_extension": ".py",
   "mimetype": "text/x-python",
   "name": "python",
   "nbconvert_exporter": "python",
   "pygments_lexer": "ipython3",
   "version": "3.9.12"
  }
 },
 "nbformat": 4,
 "nbformat_minor": 1
}
