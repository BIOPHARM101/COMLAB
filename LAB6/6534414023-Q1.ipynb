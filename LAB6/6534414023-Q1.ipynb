{
 "cells": [
  {
   "cell_type": "markdown",
   "metadata": {
    "deletable": false,
    "editable": false,
    "id": "pwM2-SBMorNM",
    "nbgrader": {
     "cell_type": "markdown",
     "checksum": "854fcb332c40b1c94cc95b1f0e1c2823",
     "grade": false,
     "grade_id": "cell-dbf37dcea5d7dc5c",
     "locked": true,
     "schema_version": 3,
     "solution": false,
     "task": false
    }
   },
   "source": [
    "## Q1 (4 points)\n",
    "จงเขียนโปรแกรมที่รับคำมาต่อกันเป็นประโยค โดยจะหยุดรับเมื่อรับ . มา"
   ]
  },
  {
   "cell_type": "markdown",
   "metadata": {
    "deletable": false,
    "editable": false,
    "id": "iz_fRc-OorNO",
    "nbgrader": {
     "cell_type": "markdown",
     "checksum": "f1a9571b071d167fe4e779716d838bae",
     "grade": false,
     "grade_id": "cell-7ae57c7b0fc2869d",
     "locked": true,
     "schema_version": 3,
     "solution": false,
     "task": false
    }
   },
   "source": [
    "### ตัวอย่างการทำงาน: \n",
    "\n",
    "Next word : **.** <br>\n",
    "Sentence:"
   ]
  },
  {
   "cell_type": "markdown",
   "metadata": {
    "deletable": false,
    "editable": false,
    "id": "BX9M6_1SorNO",
    "nbgrader": {
     "cell_type": "markdown",
     "checksum": "c9b8fdb4e715a90974f4539a3d150d74",
     "grade": false,
     "grade_id": "cell-1b10c564484fa711",
     "locked": true,
     "schema_version": 3,
     "solution": false,
     "task": false
    }
   },
   "source": [
    "### ตัวอย่างการทำงาน: \n",
    "\n",
    "Next word : **Bye** <br>\n",
    "Next word : **bye** <br>\n",
    "Next word : **.** <br>\n",
    "Sentence: Bye bye"
   ]
  },
  {
   "cell_type": "markdown",
   "metadata": {
    "deletable": false,
    "editable": false,
    "id": "IId9AnaSorNP",
    "nbgrader": {
     "cell_type": "markdown",
     "checksum": "5c75840d0c609d9a6690f05b211ef1b9",
     "grade": false,
     "grade_id": "cell-fc86ada0a7d9d7ee",
     "locked": true,
     "schema_version": 3,
     "solution": false,
     "task": false
    }
   },
   "source": [
    "### ตัวอย่างการทำงาน: \n",
    "\n",
    "Next word : **My** <br>\n",
    "Next word : **name** <br>\n",
    "Next word : **is** <br>\n",
    "Next word : **next** <br>\n",
    "Next word : **word** <br>\n",
    "Next word : **.** <br>\n",
    "Sentence: My name is next word"
   ]
  },
  {
   "cell_type": "markdown",
   "metadata": {
    "deletable": false,
    "editable": false,
    "id": "nXULtMYqorNP",
    "nbgrader": {
     "cell_type": "markdown",
     "checksum": "338cf90dc9883b8961610dd3c12709ec",
     "grade": false,
     "grade_id": "cell-7756331ade47aa76",
     "locked": true,
     "schema_version": 3,
     "solution": false,
     "task": false
    }
   },
   "source": [
    "### ตัวอย่างการทำงาน: \n",
    "\n",
    "Next word : **My** <br>\n",
    "Next word : **name** <br>\n",
    "Next word : **is** <br>\n",
    "Next word : **Chicky** <br>\n",
    "Next word : **Chicky!** <br>\n",
    "Next word : **.** <br>\n",
    "Sentence: My name is Chicky Chicky!"
   ]
  },
  {
   "cell_type": "code",
   "execution_count": 43,
   "metadata": {
    "deletable": false,
    "id": "O5rTKO6ZorNP",
    "nbgrader": {
     "cell_type": "code",
     "checksum": "b200d6e6b1dcb53db9c7782614ea5d49",
     "grade": false,
     "grade_id": "name",
     "locked": false,
     "schema_version": 3,
     "solution": true
    }
   },
   "outputs": [
    {
     "ename": "SyntaxError",
     "evalue": "invalid syntax (241088464.py, line 8)",
     "output_type": "error",
     "traceback": [
      "\u001b[0;36m  Input \u001b[0;32mIn [43]\u001b[0;36m\u001b[0m\n\u001b[0;31m    if x==[.]:\u001b[0m\n\u001b[0m           ^\u001b[0m\n\u001b[0;31mSyntaxError\u001b[0m\u001b[0;31m:\u001b[0m invalid syntax\n"
     ]
    }
   ],
   "source": [
    "def run():\n",
    "    x = []\n",
    "    n = input()\n",
    "    dot = True\n",
    "    while n != \".\" :\n",
    "        x.append(n)\n",
    "        n = input()\n",
    "        dot = False\n",
    "    if dot == True :\n",
    "        print(\"Sentence:\")\n",
    "    else :\n",
    "        print(\"Sentence: \"+ \" \".join(x))\n",
    "        \n",
    "            "
   ]
  },
  {
   "cell_type": "code",
   "execution_count": 42,
   "metadata": {
    "deletable": false,
    "editable": false,
    "id": "YGuwU3D2orNQ",
    "nbgrader": {
     "cell_type": "code",
     "checksum": "b7b03893ed0aaf1a2af60ae612b4be37",
     "grade": false,
     "grade_id": "cell-befa13e6c82bd29b",
     "locked": true,
     "schema_version": 3,
     "solution": false,
     "task": false
    }
   },
   "outputs": [
    {
     "name": "stdout",
     "output_type": "stream",
     "text": [
      "k\n",
      "u\n",
      "y\n",
      ".\n",
      "Sentence:\n"
     ]
    }
   ],
   "source": [
    "'''ตรวจสอบผลลัพธ์ของโปรแกรมด้วยการรันที่ cell นี้'''\n",
    "run()"
   ]
  },
  {
   "cell_type": "code",
   "execution_count": 27,
   "metadata": {
    "deletable": false,
    "editable": false,
    "id": "LRnZDzFaorNQ",
    "nbgrader": {
     "cell_type": "code",
     "checksum": "b4e38bff05d3a7fa3d6eca960b5139a4",
     "grade": true,
     "grade_id": "partial",
     "locked": true,
     "points": 0,
     "schema_version": 3,
     "solution": false,
     "task": false
    }
   },
   "outputs": [],
   "source": [
    "'''ตรวจสอบผลการคำนวณ'''\n",
    "from unittest.mock import patch\n",
    "from io import StringIO\n",
    "import math\n",
    "\n",
    "def test(inputs,expected_output,exact_output): \n",
    "    with patch('builtins.input', side_effect=inputs), patch('sys.stdout', new_callable=StringIO) as mock_stdout:\n",
    "        run()\n",
    "        assert mock_stdout.getvalue() == expected_output,mock_stdout.getvalue()"
   ]
  },
  {
   "cell_type": "code",
   "execution_count": null,
   "metadata": {
    "deletable": false,
    "editable": false,
    "id": "ZNAWhiQcorNR",
    "nbgrader": {
     "cell_type": "code",
     "checksum": "4bf9c6cd2031cc2f7e2b34fb94ae93c5",
     "grade": true,
     "grade_id": "exact",
     "locked": false,
     "points": 1,
     "schema_version": 3,
     "solution": false
    }
   },
   "outputs": [],
   "source": [
    "'''ตรวจสอบผลการคำนวณและการแสดงผลลัพธ์ให้เหมือนกับโจทย์ที่กำหนดให้'''\n",
    "test(['.'],'Sentence:\\n',exact_output=True) \n",
    "test(['Welcome','.'],'Sentence: Welcome\\n',exact_output=True)\n",
    "test(['Comprog','.'],'Sentence: Comprog\\n',exact_output=True)"
   ]
  },
  {
   "cell_type": "code",
   "execution_count": null,
   "metadata": {
    "deletable": false,
    "editable": false,
    "id": "BJU5Vx1gorNR",
    "nbgrader": {
     "cell_type": "code",
     "checksum": "21267c9ea9a45580c2ea0822ca0d5a96",
     "grade": true,
     "grade_id": "cell-cbc47179f27fefee",
     "locked": true,
     "points": 1,
     "schema_version": 3,
     "solution": false,
     "task": false
    }
   },
   "outputs": [],
   "source": [
    "'''ตรวจสอบผลการคำนวณและการแสดงผลลัพธ์ให้เหมือนกับโจทย์ที่กำหนดให้'''\n",
    "test(['Bye','bye','.'],'Sentence: Bye bye\\n',exact_output=True) \n",
    "test(['I','love','Comprog','.'],'Sentence: I love Comprog\\n',exact_output=True) "
   ]
  },
  {
   "cell_type": "code",
   "execution_count": null,
   "metadata": {
    "deletable": false,
    "editable": false,
    "id": "n6bbMMkZorNR",
    "nbgrader": {
     "cell_type": "code",
     "checksum": "f35ba28659ef0af6e12b39d4e3b38341",
     "grade": true,
     "grade_id": "cell-4c547bf9d492d10f",
     "locked": true,
     "points": 1,
     "schema_version": 3,
     "solution": false,
     "task": false
    }
   },
   "outputs": [],
   "source": [
    "'''ตรวจสอบผลการคำนวณและการแสดงผลลัพธ์ให้เหมือนกับโจทย์ที่กำหนดให้'''\n",
    "test(['My','name','is','next','word','.'],'Sentence: My name is next word\\n',exact_output=True)  \n",
    "test(['My','name','is','Chicky','Chicky!','.'],'Sentence: My name is Chicky Chicky!\\n',exact_output=True)"
   ]
  },
  {
   "cell_type": "code",
   "execution_count": null,
   "metadata": {
    "deletable": false,
    "editable": false,
    "id": "px65Xi26orNR",
    "nbgrader": {
     "cell_type": "code",
     "checksum": "4e10ecac42a009841636be30bce52140",
     "grade": true,
     "grade_id": "cell-63c7bc3d8547f871",
     "locked": true,
     "points": 1,
     "schema_version": 3,
     "solution": false,
     "task": false
    }
   },
   "outputs": [],
   "source": [
    "'''เทสลับ'''"
   ]
  }
 ],
 "metadata": {
  "colab": {
   "provenance": []
  },
  "kernelspec": {
   "display_name": "Python 3 (ipykernel)",
   "language": "python",
   "name": "python3"
  },
  "language_info": {
   "codemirror_mode": {
    "name": "ipython",
    "version": 3
   },
   "file_extension": ".py",
   "mimetype": "text/x-python",
   "name": "python",
   "nbconvert_exporter": "python",
   "pygments_lexer": "ipython3",
   "version": "3.9.12"
  }
 },
 "nbformat": 4,
 "nbformat_minor": 1
}
