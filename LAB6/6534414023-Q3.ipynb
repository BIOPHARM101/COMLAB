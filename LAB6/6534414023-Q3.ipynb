{
 "cells": [
  {
   "cell_type": "markdown",
   "metadata": {
    "deletable": false,
    "editable": false,
    "id": "OCjm5iIUpQsl",
    "nbgrader": {
     "cell_type": "markdown",
     "checksum": "4dc0b35fe037545a9724df23d8a2f6a6",
     "grade": false,
     "grade_id": "cell-dbf37dcea5d7dc5c",
     "locked": true,
     "schema_version": 3,
     "solution": false,
     "task": false
    }
   },
   "source": [
    "## Q3 (4 points)\n",
    "จงเขียนโปรแกรมที่วนรับอุณหภูมิสูงสุดของแต่ละวันในหนึ่งสัปดาห์ แล้วแสดงว่าวันใดมีอุณหภูมิลดลงจากวันก่อนหน้า"
   ]
  },
  {
   "cell_type": "markdown",
   "metadata": {
    "deletable": false,
    "editable": false,
    "id": "jEeKwPIKpQso",
    "nbgrader": {
     "cell_type": "markdown",
     "checksum": "138d7870c12e3e77775952354969a951",
     "grade": false,
     "grade_id": "cell-941573f39dc645a7",
     "locked": true,
     "schema_version": 3,
     "solution": false,
     "task": false
    }
   },
   "source": [
    "### ตัวอย่างการทำงาน:\n",
    "\n",
    "Day 1 : **32.6** <br>\n",
    "Day 2 : **34.4** <br>\n",
    "Day 3 : **35.0** <br>\n",
    "Day 4 : **34.6** <br>\n",
    "Temperature dropped on day 4 <br>\n",
    "Day 5 : **35.0** <br>\n",
    "Day 6 : **35.6** <br>\n",
    "Day 7 : **36** <br>"
   ]
  },
  {
   "cell_type": "markdown",
   "metadata": {
    "deletable": false,
    "editable": false,
    "id": "swa91zKzpQso",
    "nbgrader": {
     "cell_type": "markdown",
     "checksum": "a41b2fdbaecb0cf94b33883ea2a119fe",
     "grade": false,
     "grade_id": "cell-ba4526b034884cc7",
     "locked": true,
     "schema_version": 3,
     "solution": false,
     "task": false
    }
   },
   "source": [
    "### ตัวอย่างการทำงาน: \n",
    "\n",
    "Day 1 : **32.6** <br>\n",
    "Day 2 : **34.4** <br>\n",
    "Day 3 : **35.0** <br>\n",
    "Day 4 : **34.6** <br>\n",
    "Temperature dropped on day 4 <br>\n",
    "Day 5 : **35.2** <br>\n",
    "Day 6 : **35.6** <br>\n",
    "Day 7 : **34** <br>\n",
    "Temperature dropped on day 7"
   ]
  },
  {
   "cell_type": "markdown",
   "metadata": {
    "deletable": false,
    "editable": false,
    "id": "Ez0L3sRtpQsp",
    "nbgrader": {
     "cell_type": "markdown",
     "checksum": "eb4f9a443b31a2c1fa8302d8fafc5795",
     "grade": false,
     "grade_id": "cell-679ab39eeac1b48a",
     "locked": true,
     "schema_version": 3,
     "solution": false,
     "task": false
    }
   },
   "source": [
    "### ตัวอย่างการทำงาน: \n",
    "\n",
    "Day 1 : **32.6** <br>\n",
    "Day 2 : **34.4** <br>\n",
    "Day 3 : **35.0** <br>\n",
    "Day 4 : **34.6** <br>\n",
    "Temperature dropped on day 4 <br>\n",
    "Day 5 : **34.0** <br>\n",
    "Temperature dropped on day 5 <br>\n",
    "Day 6 : **35.6** <br>\n",
    "Day 7 : **34** <br>\n",
    "Temperature dropped on day 7"
   ]
  },
  {
   "cell_type": "code",
   "execution_count": 5,
   "metadata": {
    "deletable": false,
    "id": "FcDFT8stpQsp",
    "nbgrader": {
     "cell_type": "code",
     "checksum": "1b9d6a43210314c09c650d2c13fecad0",
     "grade": false,
     "grade_id": "temp",
     "locked": false,
     "schema_version": 3,
     "solution": true
    }
   },
   "outputs": [],
   "source": [
    "def run():\n",
    "    i=0\n",
    "    t =0\n",
    "    while i <= 6:\n",
    "        x = float(input())\n",
    "        i += 1\n",
    "        if x - t >= 0:\n",
    "            t = x\n",
    "        else:\n",
    "            print(\"Temperature dropped on day \"+str(i))\n",
    "            t = x\n",
    "        \n",
    "        "
   ]
  },
  {
   "cell_type": "code",
   "execution_count": 6,
   "metadata": {
    "deletable": false,
    "editable": false,
    "id": "r64pon1IpQsq",
    "nbgrader": {
     "cell_type": "code",
     "checksum": "b7b03893ed0aaf1a2af60ae612b4be37",
     "grade": false,
     "grade_id": "cell-befa13e6c82bd29b",
     "locked": true,
     "schema_version": 3,
     "solution": false,
     "task": false
    }
   },
   "outputs": [
    {
     "name": "stdout",
     "output_type": "stream",
     "text": [
      "1\n",
      "2\n",
      "3\n",
      "4\n",
      "5\n",
      "6\n",
      "7\n"
     ]
    }
   ],
   "source": [
    "'''ตรวจสอบผลลัพธ์ของโปรแกรมด้วยการรันที่ cell นี้'''\n",
    "run()"
   ]
  },
  {
   "cell_type": "code",
   "execution_count": null,
   "metadata": {
    "deletable": false,
    "editable": false,
    "id": "83AyAaVIpQsq",
    "nbgrader": {
     "cell_type": "code",
     "checksum": "b4e38bff05d3a7fa3d6eca960b5139a4",
     "grade": true,
     "grade_id": "partial",
     "locked": true,
     "points": 0,
     "schema_version": 3,
     "solution": false,
     "task": false
    }
   },
   "outputs": [],
   "source": [
    "'''ตรวจสอบผลการคำนวณ'''\n",
    "from unittest.mock import patch\n",
    "from io import StringIO\n",
    "import math\n",
    "\n",
    "def test(inputs,expected_output,exact_output): \n",
    "    with patch('builtins.input', side_effect=inputs), patch('sys.stdout', new_callable=StringIO) as mock_stdout:\n",
    "        run()\n",
    "        assert mock_stdout.getvalue() == expected_output,mock_stdout.getvalue()"
   ]
  },
  {
   "cell_type": "code",
   "execution_count": null,
   "metadata": {
    "deletable": false,
    "editable": false,
    "id": "AGdjPR9XpQsr",
    "nbgrader": {
     "cell_type": "code",
     "checksum": "994c1d8cf8a5a3d50fd3e442ae7df6b7",
     "grade": true,
     "grade_id": "cell-cbc47179f27fefee",
     "locked": true,
     "points": 1,
     "schema_version": 3,
     "solution": false,
     "task": false
    }
   },
   "outputs": [],
   "source": [
    "'''ตรวจสอบผลการคำนวณและการแสดงผลลัพธ์ให้เหมือนกับโจทย์ที่กำหนดให้'''\n",
    "'''Drop 1 day'''\n",
    "test(['32.6','34.4','35.0','34.6','35','35.6','36'],'Temperature dropped on day 4\\n',exact_output=True) \n",
    "test(['32.6','31.4','35.0','35.6','35.8','35.9','36'],'Temperature dropped on day 2\\n',exact_output=True) \n",
    "test(['32.6','33.4','35.0','35.6','35.8','35.9','34'],'Temperature dropped on day 7\\n',exact_output=True) "
   ]
  },
  {
   "cell_type": "code",
   "execution_count": null,
   "metadata": {
    "deletable": false,
    "editable": false,
    "id": "umcU1rxqpQsr",
    "nbgrader": {
     "cell_type": "code",
     "checksum": "88fe26b426906349d53e02f3539d2903",
     "grade": true,
     "grade_id": "exact",
     "locked": false,
     "points": 1,
     "schema_version": 3,
     "solution": false
    }
   },
   "outputs": [],
   "source": [
    "'''ตรวจสอบผลการคำนวณและการแสดงผลลัพธ์ให้เหมือนกับโจทย์ที่กำหนดให้'''\n",
    "'''Drop 2 days'''\n",
    "test(['32.6','34.4','35.0','34.6','35.2','35.6','34'],'Temperature dropped on day 4\\nTemperature dropped on day 7\\n',exact_output=True) \n",
    "test(['33.6','34.4','32.0','35.6','37.2','31.6','35'],'Temperature dropped on day 3\\nTemperature dropped on day 6\\n',exact_output=True) \n",
    "test(['43.6','40.4','42.0','45.6','30.2','31.6','35'],'Temperature dropped on day 2\\nTemperature dropped on day 5\\n',exact_output=True) "
   ]
  },
  {
   "cell_type": "code",
   "execution_count": null,
   "metadata": {
    "deletable": false,
    "editable": false,
    "id": "bbnf9a-OpQss",
    "nbgrader": {
     "cell_type": "code",
     "checksum": "eb6d290f5f05ea5f7fcd20dbe592b065",
     "grade": true,
     "grade_id": "cell-5646d4ae088951fe",
     "locked": true,
     "points": 1,
     "schema_version": 3,
     "solution": false,
     "task": false
    }
   },
   "outputs": [],
   "source": [
    "'''ตรวจสอบผลการคำนวณและการแสดงผลลัพธ์ให้เหมือนกับโจทย์ที่กำหนดให้'''\n",
    "'''Drop 3 days'''\n",
    "test(['32.6','34.4','35.0','34.6','34','35.6','34'],'Temperature dropped on day 4\\nTemperature dropped on day 5\\nTemperature dropped on day 7\\n',exact_output=True) \n",
    "test(['43.6','40.4','39.0','45.6','30.2','31.6','35'],'Temperature dropped on day 2\\nTemperature dropped on day 3\\nTemperature dropped on day 5\\n',exact_output=True)\n",
    "test(['33.6','34.4','32.0','31.5','37.2','31.6','35'],'Temperature dropped on day 3\\nTemperature dropped on day 4\\nTemperature dropped on day 6\\n',exact_output=True) \n",
    "test(['45','45','45','45','45','45','45'],'',exact_output=True)"
   ]
  },
  {
   "cell_type": "code",
   "execution_count": null,
   "metadata": {
    "deletable": false,
    "editable": false,
    "id": "PGKTHWG2pQss",
    "nbgrader": {
     "cell_type": "code",
     "checksum": "bf8d6f136825960836b13f3cd9994233",
     "grade": true,
     "grade_id": "cell-4cf323a44b865e68",
     "locked": true,
     "points": 1,
     "schema_version": 3,
     "solution": false,
     "task": false
    }
   },
   "outputs": [],
   "source": [
    "'''เทสลับ'''"
   ]
  }
 ],
 "metadata": {
  "colab": {
   "provenance": []
  },
  "kernelspec": {
   "display_name": "Python 3 (ipykernel)",
   "language": "python",
   "name": "python3"
  },
  "language_info": {
   "codemirror_mode": {
    "name": "ipython",
    "version": 3
   },
   "file_extension": ".py",
   "mimetype": "text/x-python",
   "name": "python",
   "nbconvert_exporter": "python",
   "pygments_lexer": "ipython3",
   "version": "3.9.12"
  }
 },
 "nbformat": 4,
 "nbformat_minor": 1
}
