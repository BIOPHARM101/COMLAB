{
 "cells": [
  {
   "cell_type": "markdown",
   "metadata": {
    "deletable": false,
    "editable": false,
    "nbgrader": {
     "cell_type": "markdown",
     "checksum": "8113ca8740ce2495b1c797505173031c",
     "grade": false,
     "grade_id": "cell-dbf37dcea5d7dc5c",
     "locked": true,
     "schema_version": 3,
     "solution": false,
     "task": false
    }
   },
   "source": [
    "## Q4 (5 points)\n",
    "จงเขียนโปรแกรมที่รับจำนวนนักเรียนที่เข้าสอบ (เป็นจำนวนบวกเท่านั้น) แล้ววนรับคะแนนของนักเรียนที่เข้าสอบให้ครบและหา \n",
    "- คะแนนเฉลี่ยของนักเรียนทั้งหมด\n",
    "- คะแนนเฉลี่ยของนักเรียนที่สอบผ่าน (ได้คะแนนอย่างน้อย 5)\n",
    "- คะแนนเฉลี่ยของนักเรียนทั้งหมด (ได้คะแนนต่ำกว่า 5)\n",
    "- คะแนนสูงสุดของนักเรียนทั้งหมด"
   ]
  },
  {
   "cell_type": "markdown",
   "metadata": {
    "deletable": false,
    "editable": false,
    "nbgrader": {
     "cell_type": "markdown",
     "checksum": "868e05360256a8967d8de23c9df9c9b6",
     "grade": false,
     "grade_id": "cell-679ab39eeac1b48a",
     "locked": true,
     "schema_version": 3,
     "solution": false,
     "task": false
    }
   },
   "source": [
    "### ตัวอย่างการทำงาน: \n",
    "\n",
    "Number of students : **3** <br>\n",
    "Student 1 : **10** <br>\n",
    "Student 2 : **6.5** <br>\n",
    "Student 3 : **0** <br>\n",
    "Average score : 5.5 <br>\n",
    "Average passing score : 8.25 <br>\n",
    "Average failing score : 0.0 <br>\n",
    "Highest score : 10.0 <br>"
   ]
  },
  {
   "cell_type": "markdown",
   "metadata": {
    "deletable": false,
    "editable": false,
    "nbgrader": {
     "cell_type": "markdown",
     "checksum": "568123a806242a59c64bceb93539df37",
     "grade": false,
     "grade_id": "cell-7ae57c7b0fc2869d",
     "locked": true,
     "schema_version": 3,
     "solution": false,
     "task": false
    }
   },
   "source": [
    "### ตัวอย่างการทำงาน: \n",
    "\n",
    "Number of students : **5** <br>\n",
    "Student 1 : **10** <br>\n",
    "Student 2 : **6.5** <br>\n",
    "Student 3 : **0** <br>\n",
    "Student 4 : **9** <br>\n",
    "Student 5 : **8.25** <br>\n",
    "Average score : 6.75 <br>\n",
    "Average passing score : 8.4375<br>\n",
    "Average failing score : 0.0 <br>\n",
    "Highest score : 10.0"
   ]
  },
  {
   "cell_type": "markdown",
   "metadata": {
    "deletable": false,
    "editable": false,
    "nbgrader": {
     "cell_type": "markdown",
     "checksum": "922622b3f861ce3c8bfe3ec957e75c4c",
     "grade": false,
     "grade_id": "cell-400409b302bb64e5",
     "locked": true,
     "schema_version": 3,
     "solution": false,
     "task": false
    }
   },
   "source": [
    "### ตัวอย่างการทำงาน: \n",
    "\n",
    "Number of students : **7** <br>\n",
    "Student 1 : **10** <br>\n",
    "Student 2 : **6.5** <br>\n",
    "Student 3 : **0** <br>\n",
    "Student 4 : **9** <br>\n",
    "Student 5 : **8.25** <br>\n",
    "Student 6 : **9.50** <br>\n",
    "Student 7 : **7.25** <br>\n",
    "Average score : 7.214285714285714 <br>\n",
    "Average passing score : 8.416666666666666 <br>\n",
    "Average failing score : 0.0 <br>\n",
    "Highest score : 10.0 <br>"
   ]
  },
  {
   "cell_type": "markdown",
   "metadata": {
    "deletable": false,
    "editable": false,
    "nbgrader": {
     "cell_type": "markdown",
     "checksum": "5c4c33732cdd3e64e1032eef112412bf",
     "grade": false,
     "grade_id": "cell-41c8a13433b77612",
     "locked": true,
     "schema_version": 3,
     "solution": false,
     "task": false
    }
   },
   "source": [
    "### ตัวอย่างการทำงาน: \n",
    "\n",
    "Number of students : **-1** <br>\n",
    "Incorrect Input. Number of students : **7** <br>\n",
    "Student 1 : **10** <br>\n",
    "Student 2 : **6.5** <br>\n",
    "Student 3 : **0** <br>\n",
    "Student 4 : **9** <br>\n",
    "Student 5 : **8.25** <br>\n",
    "Student 6 : **9.50** <br>\n",
    "Student 7 : **7.25** <br>\n",
    "Average score : 7.214285714285714 <br>\n",
    "Average passing score : 8.416666666666666 <br>\n",
    "Average failing score : 0.0 <br>\n",
    "Highest score : 10.0 <br>"
   ]
  },
  {
   "cell_type": "code",
   "execution_count": 35,
   "metadata": {
    "deletable": false,
    "nbgrader": {
     "cell_type": "code",
     "checksum": "b200d6e6b1dcb53db9c7782614ea5d49",
     "grade": false,
     "grade_id": "name",
     "locked": false,
     "schema_version": 3,
     "solution": true
    }
   },
   "outputs": [],
   "source": [
    "def run():\n",
    "    # YOUR CODE HERE\n",
    "    s = input(\"Enter :\")\n",
    "    i =0 \n",
    "    suma = 0\n",
    "    sumb = 0\n",
    "    sumc = 0\n",
    "    maxx = 0\n",
    "    a = 0\n",
    "    b = 0\n",
    "    while True:\n",
    "        if int(s) < 0 :\n",
    "            s =float(input(\"Incorrect Input. Number of students:\"))\n",
    "        if int(s)>0:\n",
    "            break\n",
    "    while int(s)>0:\n",
    "        if i <= int(s)-1 :\n",
    "            i+=1\n",
    "            score = float(input(\"Student :\"))\n",
    "            suma += score\n",
    "        if maxx <= float(score):\n",
    "            maxx = score\n",
    "        if score >= 5 :\n",
    "            sumb += score\n",
    "            a += 1 \n",
    "        if score < 5:\n",
    "            sumc += score\n",
    "            b += 1\n",
    "        if i==int(s):\n",
    "            break\n",
    "    print(\"Average score :\",float(suma)/float(s))\n",
    "    if a ==0:\n",
    "        print(\"Average passing score :\",sumb)\n",
    "    elif a>0:\n",
    "        print(\"Average passing score :\",float(sumb)/int(a))\n",
    "    if b==0:\n",
    "        print(\"Average failing score :\",sumc)\n",
    "    elif b>0:\n",
    "        print(\"Average failing score :\",float(sumc)/float(b))\n",
    "    print(\"Highest score :\",float(maxx))\n",
    "                     "
   ]
  },
  {
   "cell_type": "code",
   "execution_count": 36,
   "metadata": {
    "deletable": false,
    "editable": false,
    "nbgrader": {
     "cell_type": "code",
     "checksum": "b7b03893ed0aaf1a2af60ae612b4be37",
     "grade": false,
     "grade_id": "cell-befa13e6c82bd29b",
     "locked": true,
     "schema_version": 3,
     "solution": false,
     "task": false
    }
   },
   "outputs": [
    {
     "name": "stdout",
     "output_type": "stream",
     "text": [
      "Enter :1\n",
      "Student :1\n",
      "Average score : 1.0\n",
      "Average passing score : 0\n",
      "Average failing score : 1.0\n",
      "Highest score : 1.0\n"
     ]
    }
   ],
   "source": [
    "'''ตรวจสอบผลลัพธ์ของโปรแกรมด้วยการรันที่ cell นี้'''\n",
    "run()"
   ]
  },
  {
   "cell_type": "code",
   "execution_count": 8,
   "metadata": {
    "deletable": false,
    "editable": false,
    "nbgrader": {
     "cell_type": "code",
     "checksum": "6458b7beee7bcdcc76525dc73cc13e79",
     "grade": true,
     "grade_id": "partial",
     "locked": true,
     "points": 0,
     "schema_version": 3,
     "solution": false,
     "task": false
    }
   },
   "outputs": [],
   "source": [
    "'''ตรวจสอบผลการคำนวณ'''\n",
    "from unittest.mock import patch\n",
    "from io import StringIO\n",
    "import math\n",
    "\n",
    "def test(inputs,expected_output,exact_output): \n",
    "    with patch('builtins.input', side_effect=inputs), patch('sys.stdout', new_callable=StringIO) as mock_stdout:\n",
    "        run()\n",
    "        if exact_output:\n",
    "            assert mock_stdout.getvalue() == expected_output,mock_stdout.getvalue()\n",
    "        else:\n",
    "            assert expected_output in mock_stdout.getvalue(),mock_stdout.getvalue()"
   ]
  },
  {
   "cell_type": "code",
   "execution_count": null,
   "metadata": {
    "deletable": false,
    "editable": false,
    "nbgrader": {
     "cell_type": "code",
     "checksum": "a38c24e2dea07852cd4b174370d7a86c",
     "grade": true,
     "grade_id": "cell-5646d4ae088951fe",
     "locked": true,
     "points": 1,
     "schema_version": 3,
     "solution": false,
     "task": false
    }
   },
   "outputs": [],
   "source": [
    "'''ตรวจสอบผลการคำนวณและการแสดงผลลัพธ์ให้เหมือนกับโจทย์ที่กำหนดให้'''\n",
    "'''Number of students is 3'''\n",
    "test(['3','10','6.5','0'],'Average score : 5.5\\nAverage passing score : 8.25\\nAverage failing score : 0.0\\nHighest score : 10.0\\n',exact_output=True) \n",
    "test(['3','7','4','9'],'Average score : 6.666666666666667\\nAverage passing score : 8.0\\nAverage failing score : 4.0\\nHighest score : 9.0\\n',exact_output=True) \n",
    "test(['3','6','5.5','9.8'],'Average score : 7.1000000000000005\\nAverage passing score : 7.1000000000000005\\nAverage failing score : 0\\nHighest score : 9.8\\n',exact_output=True) \n",
    "test(['3','1.5','4.5','6.5'],'Average score : 4.166666666666667\\nAverage passing score : 6.5\\nAverage failing score : 3.0\\nHighest score : 6.5\\n',exact_output=True) "
   ]
  },
  {
   "cell_type": "code",
   "execution_count": null,
   "metadata": {
    "deletable": false,
    "editable": false,
    "nbgrader": {
     "cell_type": "code",
     "checksum": "4ce48428c54ad165cefd076528feb8fb",
     "grade": true,
     "grade_id": "exact",
     "locked": false,
     "points": 1,
     "schema_version": 3,
     "solution": false
    }
   },
   "outputs": [],
   "source": [
    "'''ตรวจสอบผลการคำนวณและการแสดงผลลัพธ์ให้เหมือนกับโจทย์ที่กำหนดให้'''\n",
    "'''Number of students is 5'''\n",
    "test(['5','10','6.5','0','9','8.25'],'Average score : 6.75\\nAverage passing score : 8.4375\\nAverage failing score : 0.0\\nHighest score : 10.0\\n',exact_output=True) \n",
    "test(['5','6','8','9','4','10'],'Average score : 7.4\\nAverage passing score : 8.25\\nAverage failing score : 4.0\\nHighest score : 10.0\\n',exact_output=True) \n",
    "test(['5','4.25','6.25','1.25','8.75','9.25'],'Average score : 5.95\\nAverage passing score : 8.083333333333334\\nAverage failing score : 2.75\\nHighest score : 9.25\\n',exact_output=True) \n",
    "test(['5','4.25','1','0','8.75','9.25'],'Average score : 4.65\\nAverage passing score : 9.0\\nAverage failing score : 1.75\\nHighest score : 9.25\\n',exact_output=True) "
   ]
  },
  {
   "cell_type": "code",
   "execution_count": null,
   "metadata": {
    "deletable": false,
    "editable": false,
    "nbgrader": {
     "cell_type": "code",
     "checksum": "1399a06366ee5fb42d0a1c330702f82c",
     "grade": true,
     "grade_id": "cell-cbc47179f27fefee",
     "locked": true,
     "points": 1,
     "schema_version": 3,
     "solution": false,
     "task": false
    }
   },
   "outputs": [],
   "source": [
    "'''ตรวจสอบผลการคำนวณและการแสดงผลลัพธ์ให้เหมือนกับโจทย์ที่กำหนดให้'''\n",
    "'''Number of students is 7'''\n",
    "test(['7','10','6.5','0','9','8.25','9.50','7.25'],'Average score : 7.214285714285714\\nAverage passing score : 8.416666666666666\\nAverage failing score : 0.0\\nHighest score : 10.0\\n',exact_output=True) \n",
    "test(['7','4.25','6.25','1.25','8.75','9.25','7.25','9.75'],'Average score : 6.678571428571429\\nAverage passing score : 8.25\\nAverage failing score : 2.75\\nHighest score : 9.75\\n',exact_output=True) \n",
    "test(['7','6','8','9','4','10','3','4'],'Average score : 6.285714285714286\\nAverage passing score : 8.25\\nAverage failing score : 3.6666666666666665\\nHighest score : 10.0\\n',exact_output=True) "
   ]
  },
  {
   "cell_type": "code",
   "execution_count": null,
   "metadata": {
    "deletable": false,
    "editable": false,
    "nbgrader": {
     "cell_type": "code",
     "checksum": "db23208bbe4f474b1fd621e2cc19278a",
     "grade": true,
     "grade_id": "cell-f6917d088df9d576",
     "locked": true,
     "points": 1,
     "schema_version": 3,
     "solution": false,
     "task": false
    }
   },
   "outputs": [],
   "source": [
    "'''ตรวจสอบเคส inputs ติด ลบ'''\n",
    "test(['-1','7','10','6.5','0','9','8.25','9.50','7.25'],'Average score : 7.214285714285714\\nAverage passing score : 8.416666666666666\\nAverage failing score : 0.0\\nHighest score : 10.0\\n',exact_output=True) \n",
    "test(['-7','-1','7','4.25','6.25','1.25','8.75','9.25','7.25','9.75'],'Average score : 6.678571428571429\\nAverage passing score : 8.25\\nAverage failing score : 2.75\\nHighest score : 9.75\\n',exact_output=True) "
   ]
  },
  {
   "cell_type": "code",
   "execution_count": null,
   "metadata": {
    "deletable": false,
    "editable": false,
    "nbgrader": {
     "cell_type": "code",
     "checksum": "3d96f8b78246e380151eeab428537308",
     "grade": true,
     "grade_id": "cell-eb75a0ec803a867e",
     "locked": true,
     "points": 1,
     "schema_version": 3,
     "solution": false,
     "task": false
    }
   },
   "outputs": [],
   "source": [
    "'''เทส ลับ'''"
   ]
  }
 ],
 "metadata": {
  "kernelspec": {
   "display_name": "Python 3 (ipykernel)",
   "language": "python",
   "name": "python3"
  },
  "language_info": {
   "codemirror_mode": {
    "name": "ipython",
    "version": 3
   },
   "file_extension": ".py",
   "mimetype": "text/x-python",
   "name": "python",
   "nbconvert_exporter": "python",
   "pygments_lexer": "ipython3",
   "version": "3.9.12"
  }
 },
 "nbformat": 4,
 "nbformat_minor": 1
}
