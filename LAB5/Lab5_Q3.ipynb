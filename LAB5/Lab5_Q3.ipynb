{
 "cells": [
  {
   "cell_type": "markdown",
   "metadata": {
    "deletable": false,
    "editable": false,
    "nbgrader": {
     "cell_type": "markdown",
     "checksum": "241ccbe4db8cf85635dc1fc5525a2e99",
     "grade": false,
     "grade_id": "cell-dbf37dcea5d7dc5c",
     "locked": true,
     "schema_version": 3,
     "solution": false,
     "task": false
    }
   },
   "source": [
    "## Q3 (7 points)\n",
    "จงเขียนโปรแกรมที่รับจำนวนนักเรียนที่เข้าสอบ แล้ววนรับคะแนนของนักเรียนที่เข้าสอบให้ครบและจงหาผลรวมคะแนน "
   ]
  },
  {
   "cell_type": "markdown",
   "metadata": {
    "deletable": false,
    "editable": false,
    "nbgrader": {
     "cell_type": "markdown",
     "checksum": "c10e4e70be4403fc465ba4a008db77ee",
     "grade": false,
     "grade_id": "cell-679ab39eeac1b48a",
     "locked": true,
     "schema_version": 3,
     "solution": false,
     "task": false
    }
   },
   "source": [
    "### ตัวอย่างการทำงาน: \n",
    "\n",
    "Number of students : **3** <br>\n",
    "Student 1 : **10** <br>\n",
    "Student 2 : **6.5** <br>\n",
    "Student 3 : **0** <br>\n",
    "Total score : 16.5 <br>"
   ]
  },
  {
   "cell_type": "markdown",
   "metadata": {
    "deletable": false,
    "editable": false,
    "nbgrader": {
     "cell_type": "markdown",
     "checksum": "d2c17929478d06bc9e4dafbf4ddb42ed",
     "grade": false,
     "grade_id": "cell-7ae57c7b0fc2869d",
     "locked": true,
     "schema_version": 3,
     "solution": false,
     "task": false
    }
   },
   "source": [
    "### ตัวอย่างการทำงาน: \n",
    "\n",
    "Number of students : **5** <br>\n",
    "Student 1 : **10** <br>\n",
    "Student 2 : **6.5** <br>\n",
    "Student 3 : **0** <br>\n",
    "Student 4 : **9** <br>\n",
    "Student 5 : **8.25** <br>\n",
    "Total score : 33.75 <br>"
   ]
  },
  {
   "cell_type": "markdown",
   "metadata": {
    "deletable": false,
    "editable": false,
    "nbgrader": {
     "cell_type": "markdown",
     "checksum": "03f3365ebdec700fdd416950df36d874",
     "grade": false,
     "grade_id": "cell-400409b302bb64e5",
     "locked": true,
     "schema_version": 3,
     "solution": false,
     "task": false
    }
   },
   "source": [
    "### ตัวอย่างการทำงาน: \n",
    "\n",
    "Number of students : **7** <br>\n",
    "Student 1 : **10** <br>\n",
    "Student 2 : **6.5** <br>\n",
    "Student 3 : **0** <br>\n",
    "Student 4 : **9** <br>\n",
    "Student 5 : **8.25** <br>\n",
    "Student 6 : **9.50** <br>\n",
    "Student 7 : **7.25** <br>\n",
    "Total score : 50.5 <br>"
   ]
  },
  {
   "cell_type": "markdown",
   "metadata": {
    "deletable": false,
    "editable": false,
    "nbgrader": {
     "cell_type": "markdown",
     "checksum": "c0bc437338c085a58eeb115367c44a0b",
     "grade": false,
     "grade_id": "cell-11943afdf702650c",
     "locked": true,
     "schema_version": 3,
     "solution": false,
     "task": false
    }
   },
   "source": [
    "### ตัวอย่างการทำงาน: \n",
    "\n",
    "Number of students : **-1** <br>\n",
    "Incorrect Input. Number of students : **7** <br>\n",
    "Student 1 : **10** <br>\n",
    "Student 2 : **6.5** <br>\n",
    "Student 3 : **0** <br>\n",
    "Student 4 : **9** <br>\n",
    "Student 5 : **8.25** <br>\n",
    "Student 6 : **9.50** <br>\n",
    "Student 7 : **7.25** <br>\n",
    "Total score : 50.5 <br>"
   ]
  },
  {
   "cell_type": "code",
   "execution_count": 21,
   "metadata": {
    "deletable": false,
    "nbgrader": {
     "cell_type": "code",
     "checksum": "d1bb78e108a87113447db30f862f4f2c",
     "grade": false,
     "grade_id": "score",
     "locked": false,
     "schema_version": 3,
     "solution": true
    }
   },
   "outputs": [],
   "source": [
    "def run():\n",
    "    s = input(\"Enter username :\")\n",
    "    i =0 \n",
    "    suma = 0\n",
    "    while True:\n",
    "        if int(s) < 0 :\n",
    "            s =float(input(\"Incorrect Input. Number of students:\"))\n",
    "        if i <= int(s)-1 :\n",
    "            i+=1\n",
    "            score = float(input(\"Student :\"))\n",
    "            suma += score\n",
    "        if i==int(s):\n",
    "            break\n",
    "            \n",
    "            \n",
    "            \n",
    "    print(\"Total score :\",float(suma))\n",
    "                     \n",
    "        "
   ]
  },
  {
   "cell_type": "code",
   "execution_count": null,
   "metadata": {
    "deletable": false,
    "editable": false,
    "nbgrader": {
     "cell_type": "code",
     "checksum": "b7b03893ed0aaf1a2af60ae612b4be37",
     "grade": false,
     "grade_id": "cell-befa13e6c82bd29b",
     "locked": true,
     "schema_version": 3,
     "solution": false,
     "task": false
    },
    "scrolled": true
   },
   "outputs": [
    {
     "name": "stdout",
     "output_type": "stream",
     "text": [
      "Enter username :0\n"
     ]
    }
   ],
   "source": [
    "'''ตรวจสอบผลลัพธ์ของโปรแกรมด้วยการรันที่ cell นี้'''\n",
    "run()"
   ]
  },
  {
   "cell_type": "code",
   "execution_count": null,
   "metadata": {
    "deletable": false,
    "editable": false,
    "nbgrader": {
     "cell_type": "code",
     "checksum": "53548474a8ccc9caccd6fe16e437fcbc",
     "grade": true,
     "grade_id": "partial",
     "locked": true,
     "points": 1,
     "schema_version": 3,
     "solution": false,
     "task": false
    }
   },
   "outputs": [],
   "source": [
    "'''ตรวจสอบผลการคำนวณ'''\n",
    "from unittest.mock import patch\n",
    "from io import StringIO\n",
    "import math\n",
    "\n",
    "def test(inputs,expected_output,exact_output): \n",
    "    with patch('builtins.input', side_effect=inputs), patch('sys.stdout', new_callable=StringIO) as mock_stdout:\n",
    "        run()\n",
    "        assert mock_stdout.getvalue() == expected_output,mock_stdout.getvalue()"
   ]
  },
  {
   "cell_type": "code",
   "execution_count": null,
   "metadata": {
    "deletable": false,
    "editable": false,
    "nbgrader": {
     "cell_type": "code",
     "checksum": "3773a099a1297f6964defcb47918bf31",
     "grade": true,
     "grade_id": "cell-5646d4ae088951fe",
     "locked": true,
     "points": 1,
     "schema_version": 3,
     "solution": false,
     "task": false
    }
   },
   "outputs": [],
   "source": [
    "'''ตรวจสอบผลการคำนวณและการแสดงผลลัพธ์ให้เหมือนกับโจทย์ที่กำหนดให้'''\n",
    "'''Number of students is 3'''\n",
    "test(['3','10','6.5','0'],'Total score : 16.5\\n',exact_output=True) \n",
    "test(['3','7','4','9'],'Total score : 20.0\\n',exact_output=True) \n",
    "test(['3','6','5.5','9.8'],'Total score : 21.3\\n',exact_output=True) \n",
    "test(['3','1.5','4.5','6.5'],'Total score : 12.5\\n',exact_output=True) "
   ]
  },
  {
   "cell_type": "code",
   "execution_count": null,
   "metadata": {
    "deletable": false,
    "editable": false,
    "nbgrader": {
     "cell_type": "code",
     "checksum": "aa1527b5de67320d8deb31e0abb34a8a",
     "grade": true,
     "grade_id": "exact",
     "locked": false,
     "points": 1,
     "schema_version": 3,
     "solution": false
    }
   },
   "outputs": [],
   "source": [
    "'''ตรวจสอบผลการคำนวณและการแสดงผลลัพธ์ให้เหมือนกับโจทย์ที่กำหนดให้'''\n",
    "'''Number of students is 5'''\n",
    "test(['5','10','6.5','0','9','8.25'],'Total score : 33.75\\n',exact_output=True) \n",
    "test(['5','6','8','9','4','10'],'Total score : 37.0\\n',exact_output=True) \n",
    "test(['5','4.25','6.25','1.25','8.75','9.25'],'Total score : 29.75\\n',exact_output=True) \n",
    "test(['5','4.25','1','0','8.75','9.25'],'Total score : 23.25\\n',exact_output=True) "
   ]
  },
  {
   "cell_type": "code",
   "execution_count": null,
   "metadata": {
    "deletable": false,
    "editable": false,
    "nbgrader": {
     "cell_type": "code",
     "checksum": "fceb1f494998d0ba3c0c2cd0915b6738",
     "grade": true,
     "grade_id": "cell-cbc47179f27fefee",
     "locked": true,
     "points": 1,
     "schema_version": 3,
     "solution": false,
     "task": false
    }
   },
   "outputs": [],
   "source": [
    "'''ตรวจสอบผลการคำนวณและการแสดงผลลัพธ์ให้เหมือนกับโจทย์ที่กำหนดให้'''\n",
    "'''Number of students is 7'''\n",
    "test(['7','10','6.5','0','9','8.25','9.50','7.25'],'Total score : 50.5\\n',exact_output=True) \n",
    "test(['7','4.25','6.25','1.25','8.75','9.25','7.25','9.75'],'Total score : 46.75\\n',exact_output=True) \n",
    "test(['7','6','8','9','4','10','3','4'],'Total score : 44.0\\n',exact_output=True) "
   ]
  },
  {
   "cell_type": "code",
   "execution_count": null,
   "metadata": {
    "deletable": false,
    "editable": false,
    "nbgrader": {
     "cell_type": "code",
     "checksum": "b3dd1172de3c7d08e77e6394589ae361",
     "grade": true,
     "grade_id": "cell-4234104d92125bb2",
     "locked": true,
     "points": 1,
     "schema_version": 3,
     "solution": false,
     "task": false
    }
   },
   "outputs": [],
   "source": [
    "'''ตรวจสอบเคส inputs ติด ลบ'''\n",
    "test(['-1','-5','7','10','6.5','0','9','8.25','9.50','7.25'],'Total score : 50.5\\n',exact_output=True) \n",
    "test(['-5','7','10','6.5','0','9','8.25','9.50','7.25'],'Total score : 50.5\\n',exact_output=True)"
   ]
  },
  {
   "cell_type": "code",
   "execution_count": null,
   "metadata": {
    "deletable": false,
    "editable": false,
    "nbgrader": {
     "cell_type": "code",
     "checksum": "266133edbd65624726aeebb9dc99e546",
     "grade": true,
     "grade_id": "cell-29679434cc1cbadb",
     "locked": true,
     "points": 1,
     "schema_version": 3,
     "solution": false,
     "task": false
    }
   },
   "outputs": [],
   "source": [
    "'''ตรวจสอบผลการคำนวณและการแสดงผลลัพธ์ให้เหมือนกับโจทย์ที่กำหนดให้'''\n",
    "test(['0'],'Total score : 0.0\\n',exact_output=True)"
   ]
  },
  {
   "cell_type": "code",
   "execution_count": null,
   "metadata": {
    "deletable": false,
    "editable": false,
    "nbgrader": {
     "cell_type": "code",
     "checksum": "dcbc4fb729a90a39e4ab4f61a3a87030",
     "grade": true,
     "grade_id": "cell-714b60293955bf54",
     "locked": true,
     "points": 1,
     "schema_version": 3,
     "solution": false,
     "task": false
    }
   },
   "outputs": [],
   "source": [
    "'''เทส ลับ'''"
   ]
  }
 ],
 "metadata": {
  "kernelspec": {
   "display_name": "Python 3.9.12 ('base')",
   "language": "python",
   "name": "python3"
  },
  "language_info": {
   "codemirror_mode": {
    "name": "ipython",
    "version": 3
   },
   "file_extension": ".py",
   "mimetype": "text/x-python",
   "name": "python",
   "nbconvert_exporter": "python",
   "pygments_lexer": "ipython3",
   "version": "3.9.12"
  },
  "vscode": {
   "interpreter": {
    "hash": "d3cd42366f7171ad4ed55d4649d9273e9db99a59cbbf2caa994138578d25cf8b"
   }
  }
 },
 "nbformat": 4,
 "nbformat_minor": 1
}
