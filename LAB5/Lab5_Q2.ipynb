{
 "cells": [
  {
   "cell_type": "markdown",
   "metadata": {
    "deletable": false,
    "editable": false,
    "nbgrader": {
     "cell_type": "markdown",
     "checksum": "8f06920dfa034e50f591ac8f8c3f996d",
     "grade": false,
     "grade_id": "cell-dbf37dcea5d7dc5c",
     "locked": true,
     "schema_version": 3,
     "solution": false,
     "task": false
    }
   },
   "source": [
    "## Q2 (3 points)\n",
    "จงเขียนโปรแกรมที่วนรับชื่อผู้ใช้จนกว่าจะเป็น Lisa หรือใส่ชื่อผิดครบ 3 ครั้ง"
   ]
  },
  {
   "cell_type": "markdown",
   "metadata": {
    "deletable": false,
    "editable": false,
    "nbgrader": {
     "cell_type": "markdown",
     "checksum": "2693f84fb4657b17db4627b1b5da9074",
     "grade": false,
     "grade_id": "cell-7ae57c7b0fc2869d",
     "locked": true,
     "schema_version": 3,
     "solution": false,
     "task": false
    }
   },
   "source": [
    "### ตัวอย่างการทำงาน: \n",
    "\n",
    "Enter username : **Lisa** <br>\n",
    "Hello, Lisa"
   ]
  },
  {
   "cell_type": "markdown",
   "metadata": {
    "deletable": false,
    "editable": false,
    "nbgrader": {
     "cell_type": "markdown",
     "checksum": "2077d24a4ae42bdfd0736e3bdcfad20d",
     "grade": false,
     "grade_id": "cell-89fa11d51cba8b35",
     "locked": true,
     "schema_version": 3,
     "solution": false,
     "task": false
    }
   },
   "source": [
    "### ตัวอย่างการทำงาน: \n",
    "\n",
    "Enter username : **test** <br>\n",
    "Incorrect. Enter again : **Lisa** <br>\n",
    "Hello, Lisa"
   ]
  },
  {
   "cell_type": "markdown",
   "metadata": {
    "deletable": false,
    "editable": false,
    "nbgrader": {
     "cell_type": "markdown",
     "checksum": "31296043ace7809c14d71479920b10da",
     "grade": false,
     "grade_id": "cell-8d6f849a001e7146",
     "locked": true,
     "schema_version": 3,
     "solution": false,
     "task": false
    }
   },
   "source": [
    "### ตัวอย่างการทำงาน:\n",
    "\n",
    "Enter username : **test** <br>\n",
    "Incorrect. Enter again : **12345**  <br>\n",
    "Incorrect. Enter again : **Lisa** <br>\n",
    "Hello, Lisa"
   ]
  },
  {
   "cell_type": "markdown",
   "metadata": {
    "deletable": false,
    "editable": false,
    "nbgrader": {
     "cell_type": "markdown",
     "checksum": "f7a5474826f383815d379ab8a59530e3",
     "grade": false,
     "grade_id": "cell-1b10c564484fa711",
     "locked": true,
     "schema_version": 3,
     "solution": false,
     "task": false
    }
   },
   "source": [
    "### ตัวอย่างการทำงาน: \n",
    "\n",
    "Enter username : **test**  <br>\n",
    "Incorrect. Enter again : **12345**  <br>\n",
    "Incorrect. Enter again : **my name** <br>\n",
    "Not allowed. Incorrect name."
   ]
  },
  {
   "cell_type": "code",
   "execution_count": null,
   "metadata": {},
   "outputs": [],
   "source": []
  },
  {
   "cell_type": "code",
   "execution_count": 11,
   "metadata": {
    "deletable": false,
    "nbgrader": {
     "cell_type": "code",
     "checksum": "c68df7765c9f9404d565a96da3faaaaa",
     "grade": false,
     "grade_id": "name_limit",
     "locked": false,
     "schema_version": 3,
     "solution": true
    }
   },
   "outputs": [],
   "source": [
    "def run():\n",
    "    s = input(\"Enter username :\")\n",
    "    i =0 \n",
    "    while True:\n",
    "        if s != \"Lisa\" and i != 2:\n",
    "                s =input(\"incorrect, Enter again : \")\n",
    "                i +=1\n",
    "        elif i==2 and s!=\"Lisa\":\n",
    "                print(\"Not allowed. Incorrect name.\")\n",
    "                break\n",
    "        else:\n",
    "            print(\"Hello,\",s) \n",
    "            break"
   ]
  },
  {
   "cell_type": "code",
   "execution_count": 12,
   "metadata": {
    "deletable": false,
    "editable": false,
    "nbgrader": {
     "cell_type": "code",
     "checksum": "b7b03893ed0aaf1a2af60ae612b4be37",
     "grade": false,
     "grade_id": "cell-befa13e6c82bd29b",
     "locked": true,
     "schema_version": 3,
     "solution": false,
     "task": false
    }
   },
   "outputs": [
    {
     "name": "stdout",
     "output_type": "stream",
     "text": [
      "Enter username :'\n",
      "incorrect, Enter again : '\n",
      "incorrect, Enter again : '\n",
      "Not allowed. Incorrect name.\n"
     ]
    }
   ],
   "source": [
    "'''ตรวจสอบผลลัพธ์ของโปรแกรมด้วยการรันที่ cell นี้'''\n",
    "run()"
   ]
  },
  {
   "cell_type": "code",
   "execution_count": null,
   "metadata": {
    "deletable": false,
    "editable": false,
    "nbgrader": {
     "cell_type": "code",
     "checksum": "b4e38bff05d3a7fa3d6eca960b5139a4",
     "grade": true,
     "grade_id": "partial",
     "locked": true,
     "points": 0,
     "schema_version": 3,
     "solution": false,
     "task": false
    }
   },
   "outputs": [],
   "source": [
    "'''ตรวจสอบผลการคำนวณ'''\n",
    "from unittest.mock import patch\n",
    "from io import StringIO\n",
    "import math\n",
    "\n",
    "def test(inputs,expected_output,exact_output): \n",
    "    with patch('builtins.input', side_effect=inputs), patch('sys.stdout', new_callable=StringIO) as mock_stdout:\n",
    "        run()\n",
    "        assert mock_stdout.getvalue() == expected_output,mock_stdout.getvalue()"
   ]
  },
  {
   "cell_type": "code",
   "execution_count": null,
   "metadata": {
    "deletable": false,
    "editable": false,
    "nbgrader": {
     "cell_type": "code",
     "checksum": "6b09ba9bd1f8e335f02a49217cfa8df9",
     "grade": true,
     "grade_id": "exact",
     "locked": false,
     "points": 1,
     "schema_version": 3,
     "solution": false
    }
   },
   "outputs": [],
   "source": [
    "'''ตรวจสอบผลการคำนวณและการแสดงผลลัพธ์ให้เหมือนกับโจทย์ที่กำหนดให้'''\n",
    "test(['Lisa'],'Hello, Lisa\\n',exact_output=True) \n",
    "test(['.','Lisa'],'Hello, Lisa\\n',exact_output=True) \n",
    "test(['','Lisa'],'Hello, Lisa\\n',exact_output=True) \n",
    "test(['test','Lisa'],'Hello, Lisa\\n',exact_output=True) \n",
    "test(['Blackpink','Lisa'],'Hello, Lisa\\n',exact_output=True)  "
   ]
  },
  {
   "cell_type": "code",
   "execution_count": null,
   "metadata": {
    "deletable": false,
    "editable": false,
    "nbgrader": {
     "cell_type": "code",
     "checksum": "491e8afbe344a0ba6252a418c494c7bb",
     "grade": true,
     "grade_id": "cell-ad91ccd55eeb0c2f",
     "locked": true,
     "points": 1,
     "schema_version": 3,
     "solution": false,
     "task": false
    }
   },
   "outputs": [],
   "source": [
    "'''ตรวจสอบผลการคำนวณและการแสดงผลลัพธ์ให้เหมือนกับโจทย์ที่กำหนดให้'''\n",
    "test(['test','12345','Lisa'],'Hello, Lisa\\n',exact_output=True)\n",
    "test(['Rose','Jennie','Lisa'],'Hello, Lisa\\n',exact_output=True)\n",
    "test(['Tee','Pee','Lisa'],'Hello, Lisa\\n',exact_output=True)\n",
    "test(['Bambam','Mario','Lisa'],'Hello, Lisa\\n',exact_output=True)"
   ]
  },
  {
   "cell_type": "code",
   "execution_count": null,
   "metadata": {
    "deletable": false,
    "editable": false,
    "nbgrader": {
     "cell_type": "code",
     "checksum": "0d38ff7c1540f3c6c1c231582e93a684",
     "grade": true,
     "grade_id": "cell-a07ef84aa3313800",
     "locked": true,
     "points": 1,
     "schema_version": 3,
     "solution": false,
     "task": false
    }
   },
   "outputs": [],
   "source": [
    "'''ตรวจสอบผลการคำนวณและการแสดงผลลัพธ์ให้เหมือนกับโจทย์ที่กำหนดให้'''\n",
    "test(['test','12345','my name'],'Not allowed. Incorrect name.\\n',exact_output=True)\n",
    "test(['Bambam','Mario','Jennie'],'Not allowed. Incorrect name.\\n',exact_output=True)\n",
    "test(['xxx','56789','Jennie'],'Not allowed. Incorrect name.\\n',exact_output=True)"
   ]
  }
 ],
 "metadata": {
  "kernelspec": {
   "display_name": "Python 3 (ipykernel)",
   "language": "python",
   "name": "python3"
  },
  "language_info": {
   "codemirror_mode": {
    "name": "ipython",
    "version": 3
   },
   "file_extension": ".py",
   "mimetype": "text/x-python",
   "name": "python",
   "nbconvert_exporter": "python",
   "pygments_lexer": "ipython3",
   "version": "3.9.12"
  }
 },
 "nbformat": 4,
 "nbformat_minor": 1
}
