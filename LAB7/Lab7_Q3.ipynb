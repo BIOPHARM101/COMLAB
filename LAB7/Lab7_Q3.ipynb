{
 "cells": [
  {
   "cell_type": "markdown",
   "metadata": {
    "deletable": false,
    "editable": false,
    "nbgrader": {
     "cell_type": "markdown",
     "checksum": "27f0e80f49c79d6041bdbda15cee7102",
     "grade": false,
     "grade_id": "cell-dbf37dcea5d7dc5c",
     "locked": true,
     "schema_version": 3,
     "solution": false,
     "task": false
    }
   },
   "source": [
    "## Q3 (3 points)\n",
    "จงเขียนฟังก์ชัน f(x) ที่คำนวณ 1/x! และฟังก์ชัน summation(a,b) ที่ใช้ฟังก์ชัน f และ คำนวณผลรวมของ f(x) เมื่อ x = a, a+1,..., b (นั่นคือ 1/a! + 1/(a+1)! + ... + 1/b!) โดยที่ a ต้องไม่มากกว่า b <br>\n",
    "โดยใช้ ฟังก์ชัน factorial จาก module math <br>\n",
    " \n",
    "จากนั้นให้เขียนโปรแกรมหลักที่รับ**จำนวนเต็มบวก 2 จำนวน m และ n** (m อาจมากกว่าหรือน้อยกว่า n) แล้วเรียกใช้ฟังก์ชัน summation เพื่อ คำนวณหาผลรวมของ f(x) เมื่อ x มีค่าตั้งแต่ m ถึง n <br>\n",
    "**โดยแสดงผลลัพธ์เป็นตัวเลขทศนิยม 4 ตำแหน่ง**"
   ]
  },
  {
   "cell_type": "markdown",
   "metadata": {
    "deletable": false,
    "editable": false,
    "nbgrader": {
     "cell_type": "markdown",
     "checksum": "335253310c887f63ae8d81ad9685d15e",
     "grade": false,
     "grade_id": "cell-679ab39eeac1b48a",
     "locked": true,
     "schema_version": 3,
     "solution": false,
     "task": false
    }
   },
   "source": [
    "### ตัวอย่างการทำงาน: \n",
    "\n",
    "Enter m: **1** <br>\n",
    "Enter n: **3** <br>\n",
    "1.6667\n"
   ]
  },
  {
   "cell_type": "markdown",
   "metadata": {
    "deletable": false,
    "editable": false,
    "nbgrader": {
     "cell_type": "markdown",
     "checksum": "68bcad310b8cf5519acfd53663044702",
     "grade": false,
     "grade_id": "cell-7ae57c7b0fc2869d",
     "locked": true,
     "schema_version": 3,
     "solution": false,
     "task": false
    }
   },
   "source": [
    "### ตัวอย่างการทำงาน: \n",
    "\n",
    "Enter m: **3** <br>\n",
    "Enter n: **1** <br>\n",
    "1.6667"
   ]
  },
  {
   "cell_type": "markdown",
   "metadata": {
    "deletable": false,
    "editable": false,
    "nbgrader": {
     "cell_type": "markdown",
     "checksum": "662fb7ac8e225a1e43bd9a5c88e20f15",
     "grade": false,
     "grade_id": "cell-400409b302bb64e5",
     "locked": true,
     "schema_version": 3,
     "solution": false,
     "task": false
    }
   },
   "source": [
    "### ตัวอย่างการทำงาน: \n",
    "\n",
    "Enter m: **3** <br>\n",
    "Enter n: **6** <br>\n",
    "0.2181"
   ]
  },
  {
   "cell_type": "code",
   "execution_count": 41,
   "metadata": {
    "deletable": false,
    "nbgrader": {
     "cell_type": "code",
     "checksum": "b20de013c1a25b44a99755b00a9d2003",
     "grade": false,
     "grade_id": "answer",
     "locked": false,
     "schema_version": 3,
     "solution": true
    },
    "scrolled": false
   },
   "outputs": [],
   "source": [
    "import math\n",
    "def f(x):\n",
    "    return (1/math.factorial(x))\n",
    "def summation(a,b):\n",
    "    x = 0\n",
    "    while a<=b:\n",
    "        x += f(a)\n",
    "        a +=1\n",
    "    print(round(x,4))\n",
    "def run():\n",
    "    m = int(input(\"m : \"))\n",
    "    n = int(input(\"n : \"))\n",
    "    if m<=n:\n",
    "        return summation(m,n)\n",
    "    else:\n",
    "        return summation(n,m)"
   ]
  },
  {
   "cell_type": "code",
   "execution_count": 42,
   "metadata": {
    "deletable": false,
    "editable": false,
    "nbgrader": {
     "cell_type": "code",
     "checksum": "b7b03893ed0aaf1a2af60ae612b4be37",
     "grade": false,
     "grade_id": "cell-befa13e6c82bd29b",
     "locked": true,
     "schema_version": 3,
     "solution": false,
     "task": false
    },
    "scrolled": true
   },
   "outputs": [
    {
     "name": "stdout",
     "output_type": "stream",
     "text": [
      "m : 3\n",
      "n : 6\n",
      "0.2181\n"
     ]
    }
   ],
   "source": [
    "'''ตรวจสอบผลลัพธ์ของโปรแกรมด้วยการรันที่ cell นี้'''\n",
    "run()"
   ]
  },
  {
   "cell_type": "code",
   "execution_count": null,
   "metadata": {
    "deletable": false,
    "editable": false,
    "nbgrader": {
     "cell_type": "code",
     "checksum": "b4e38bff05d3a7fa3d6eca960b5139a4",
     "grade": true,
     "grade_id": "partial",
     "locked": true,
     "points": 0,
     "schema_version": 3,
     "solution": false,
     "task": false
    }
   },
   "outputs": [],
   "source": [
    "'''ตรวจสอบผลการคำนวณ'''\n",
    "from unittest.mock import patch\n",
    "from io import StringIO\n",
    "import math\n",
    "\n",
    "def test(inputs,expected_output,exact_output): \n",
    "    with patch('builtins.input', side_effect=inputs), patch('sys.stdout', new_callable=StringIO) as mock_stdout:\n",
    "        run()\n",
    "        assert mock_stdout.getvalue() == expected_output,mock_stdout.getvalue()"
   ]
  },
  {
   "cell_type": "code",
   "execution_count": null,
   "metadata": {
    "deletable": false,
    "editable": false,
    "nbgrader": {
     "cell_type": "code",
     "checksum": "48a83bca1151568f4332b7d3f424a5f2",
     "grade": true,
     "grade_id": "cell-4f7b8ee5a68b76a7",
     "locked": true,
     "points": 1,
     "schema_version": 3,
     "solution": false,
     "task": false
    }
   },
   "outputs": [],
   "source": [
    "'''ตรวจสอบผลการคำนวณและการแสดงผลลัพธ์ให้เหมือนกับโจทย์ที่กำหนดให้'''\n",
    "test(['1','3'],'1.6667\\n',exact_output=True)  \n",
    "test(['3','6'],'0.2181\\n',exact_output=True) \n",
    "test(['5','6'],'0.0097\\n',exact_output=True)\n",
    "test(['3','4'],'0.2083\\n',exact_output=True)"
   ]
  },
  {
   "cell_type": "code",
   "execution_count": null,
   "metadata": {
    "deletable": false,
    "editable": false,
    "nbgrader": {
     "cell_type": "code",
     "checksum": "7f0f79b5e1bd341ee172cf4eb6986ca7",
     "grade": true,
     "grade_id": "cell-9becccc26c51e026",
     "locked": true,
     "points": 1,
     "schema_version": 3,
     "solution": false,
     "task": false
    }
   },
   "outputs": [],
   "source": [
    "'''ตรวจสอบผลการคำนวณและการแสดงผลลัพธ์ให้เหมือนกับโจทย์ที่กำหนดให้'''\n",
    "test(['3','1'],'1.6667\\n',exact_output=True) \n",
    "test(['9','2'],'0.7183\\n',exact_output=True)\n",
    "test(['5','2'],'0.7167\\n',exact_output=True)"
   ]
  },
  {
   "cell_type": "code",
   "execution_count": null,
   "metadata": {
    "deletable": false,
    "editable": false,
    "nbgrader": {
     "cell_type": "code",
     "checksum": "79ac6fd00f80784c529facfa6e918aee",
     "grade": true,
     "grade_id": "exact",
     "locked": false,
     "points": 1,
     "schema_version": 3,
     "solution": false
    }
   },
   "outputs": [],
   "source": [
    "'''เทสลับ'''"
   ]
  }
 ],
 "metadata": {
  "kernelspec": {
   "display_name": "Python 3 (ipykernel)",
   "language": "python",
   "name": "python3"
  },
  "language_info": {
   "codemirror_mode": {
    "name": "ipython",
    "version": 3
   },
   "file_extension": ".py",
   "mimetype": "text/x-python",
   "name": "python",
   "nbconvert_exporter": "python",
   "pygments_lexer": "ipython3",
   "version": "3.9.12"
  }
 },
 "nbformat": 4,
 "nbformat_minor": 1
}
