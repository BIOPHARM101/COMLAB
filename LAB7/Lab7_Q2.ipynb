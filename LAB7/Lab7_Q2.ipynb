{
 "cells": [
  {
   "cell_type": "markdown",
   "metadata": {
    "deletable": false,
    "editable": false,
    "nbgrader": {
     "cell_type": "markdown",
     "checksum": "f72f88ca14c6f89742ac7377efaf1c90",
     "grade": false,
     "grade_id": "cell-dbf37dcea5d7dc5c",
     "locked": true,
     "schema_version": 3,
     "solution": false,
     "task": false
    }
   },
   "source": [
    "## Q2 (3 points)\n",
    "จงเขียนโปรแกรมที่รับตำแหน่ง (x,y) เริ่มต้นของหุ่นยนต์จากผู้ใช้ (x และ y เป็นจำนวนเต็ม) <br>\n",
    "แล้วอ่านลำดับของคำสั่งที่ให้หุ่นยนต์เดินไปทางซ้าย (L) ขวา (R) ขึ้นบน (U) ลงล่าง (D) ครั้งละ 1 หน่วย <br>\n",
    "จากไฟล์ **move\\<n\\>.txt** แล้วหาว่าเมื่อจบโปรแกรมหุ่นยนต์จะไปอยู่ที่ตำแหน่งใด โดยให้มีกำแพงที่เส้น **x=10, x=-10, y=10 และ y=-10**<br>\n",
    "ถ้าการเดินของหุ่นยนต์จะทำให้หุ่นยนต์ชนกำแพง หุ่นยนต์จะไม่เคลื่อนที่จากตำแหน่งเดิม เช่น \n",
    "เมื่อหุ่นยนต์อยู่ที่ (9,2) และได้คำสั่ง R หุ่นจะชนกำแพงที่เส้น x=10 ดังนั้นจะไม่ขยับตำแหน่ง\n",
    "**ผู้ใช้จะพิมพ์ตำแหน่งเริ่มต้นของหุ่นยนต์ที่อยู่ในกล่องเท่านั้น**"
   ]
  },
  {
   "cell_type": "markdown",
   "metadata": {
    "deletable": false,
    "editable": false,
    "nbgrader": {
     "cell_type": "markdown",
     "checksum": "d9d3d769fb7bc212283e0254a83e2889",
     "grade": false,
     "grade_id": "cell-7ae57c7b0fc2869d",
     "locked": true,
     "schema_version": 3,
     "solution": false,
     "task": false
    }
   },
   "source": [
    "### ตัวอย่างการทำงาน: \n",
    "\n",
    "ไฟล์ move3.txt: <br>\n",
    "L <br>\n",
    "L <br>\n",
    "D <br>\n",
    "R <br>\n",
    "R <br>\n",
    "R <br>\n",
    "R <br>\n",
    "----\n",
    "Choose your movefile: **move3.txt** <br>\n",
    "Initial position : **9,-9** <br>\n",
    "Robot stops at 9,-9"
   ]
  },
  {
   "cell_type": "markdown",
   "metadata": {
    "deletable": false,
    "editable": false,
    "nbgrader": {
     "cell_type": "markdown",
     "checksum": "b88ce6f847ff30d697daa8ab01602f06",
     "grade": false,
     "grade_id": "cell-89fa11d51cba8b35",
     "locked": true,
     "schema_version": 3,
     "solution": false,
     "task": false
    }
   },
   "source": [
    "### ตัวอย่างการทำงาน: \n",
    "\n",
    "ไฟล์ move3.txt:<br>\n",
    "L <br>\n",
    "L <br>\n",
    "D <br>\n",
    "R <br>\n",
    "R <br>\n",
    "R <br>\n",
    "R <br>\n",
    "---\n",
    "Choose your movefile: **move3.txt** <br>\n",
    "Initial position : **8,4** <br>\n",
    "Robot stops at 9,3"
   ]
  },
  {
   "cell_type": "markdown",
   "metadata": {
    "deletable": false,
    "editable": false,
    "nbgrader": {
     "cell_type": "markdown",
     "checksum": "fad9c5ce8002e427bba0143d87fd9b0b",
     "grade": false,
     "grade_id": "cell-8d6f849a001e7146",
     "locked": true,
     "schema_version": 3,
     "solution": false,
     "task": false
    }
   },
   "source": [
    "### ตัวอย่างการทำงาน:\n",
    "\n",
    "ไฟล์ move4.txt: <br>\n",
    "L <br>\n",
    "L <br>\n",
    "X <br>\n",
    "U <br>\n",
    "D <br>\n",
    "Z <br>\n",
    "R <br>\n",
    "----\n",
    "Choose your movefile: **move4.txt** <br>\n",
    "Initial position : **1,2** <br>\n",
    "Invalid command"
   ]
  },
  {
   "cell_type": "code",
   "execution_count": 3,
   "metadata": {
    "deletable": false,
    "nbgrader": {
     "cell_type": "code",
     "checksum": "f890af7f5634c9ae49d370cf87f48efc",
     "grade": false,
     "grade_id": "answer",
     "locked": false,
     "schema_version": 3,
     "solution": true
    }
   },
   "outputs": [],
   "source": [
    "def run():\n",
    "    choose = input(\"Choose your movefile: \")\n",
    "    if \"move\" not in choose:\n",
    "        return\n",
    "    x,y = input(\"Initial position: \").split(',')\n",
    "    x,y = int(x),int(y)\n",
    "    if x>10 or y>10 or x<-10 or y<-10:\n",
    "        print(\"Invalid command\")\n",
    "        return\n",
    "    f = open(choose,'r')\n",
    "    for i in f:\n",
    "        if \"L\" in i:\n",
    "            if x!= -9:\n",
    "                x-=1\n",
    "        elif \"R\" in i:\n",
    "            if x != 9:\n",
    "                x+=1\n",
    "        elif \"U\" in i:\n",
    "            if y != 9:\n",
    "                y+=1\n",
    "        elif \"D\" in i:\n",
    "            if y != -9:\n",
    "                y-=1\n",
    "        else:\n",
    "            print(\"Invalid command\")\n",
    "            return\n",
    "    print(\"Robot stops at \"+str(x)+\",\"+str(y))"
   ]
  },
  {
   "cell_type": "code",
   "execution_count": 4,
   "metadata": {
    "deletable": false,
    "editable": false,
    "nbgrader": {
     "cell_type": "code",
     "checksum": "b7b03893ed0aaf1a2af60ae612b4be37",
     "grade": false,
     "grade_id": "cell-befa13e6c82bd29b",
     "locked": true,
     "schema_version": 3,
     "solution": false,
     "task": false
    }
   },
   "outputs": [
    {
     "name": "stdout",
     "output_type": "stream",
     "text": [
      "Choose your movefile: move4.txt\n",
      "Initial position: 1,1\n",
      "L\n",
      "\n",
      "L\n",
      "\n",
      "D\n",
      "\n",
      "R\n",
      "\n",
      "R\n",
      "\n",
      "R\n",
      "\n",
      "R\n",
      "Robot stops at 3,0\n"
     ]
    }
   ],
   "source": [
    "'''ตรวจสอบผลลัพธ์ของโปรแกรมด้วยการรันที่ cell นี้'''\n",
    "run()"
   ]
  },
  {
   "cell_type": "code",
   "execution_count": null,
   "metadata": {
    "deletable": false,
    "editable": false,
    "nbgrader": {
     "cell_type": "code",
     "checksum": "b4e38bff05d3a7fa3d6eca960b5139a4",
     "grade": true,
     "grade_id": "partial",
     "locked": true,
     "points": 0,
     "schema_version": 3,
     "solution": false,
     "task": false
    }
   },
   "outputs": [],
   "source": [
    "'''ตรวจสอบผลการคำนวณ'''\n",
    "from unittest.mock import patch\n",
    "from io import StringIO\n",
    "import math\n",
    "\n",
    "def test(inputs,expected_output,exact_output): \n",
    "    with patch('builtins.input', side_effect=inputs), patch('sys.stdout', new_callable=StringIO) as mock_stdout:\n",
    "        run()\n",
    "        assert mock_stdout.getvalue() == expected_output,mock_stdout.getvalue()"
   ]
  },
  {
   "cell_type": "code",
   "execution_count": null,
   "metadata": {
    "deletable": false,
    "editable": false,
    "nbgrader": {
     "cell_type": "code",
     "checksum": "61a023465f06ddad00f72438377717a9",
     "grade": true,
     "grade_id": "exact",
     "locked": false,
     "points": 1,
     "schema_version": 3,
     "solution": false
    }
   },
   "outputs": [],
   "source": [
    "'''ตรวจสอบผลการคำนวณและการแสดงผลลัพธ์ให้เหมือนกับโจทย์ที่กำหนดให้'''\n",
    "'''Robot can stop at position x,y'''\n",
    "test(['move3.txt','9,-9'],'Robot stops at 9,-9\\n',exact_output=True) #ex\n",
    "test(['move3.txt','8,4'],'Robot stops at 9,3\\n',exact_output=True) #ex\n",
    "test(['move3.txt','9,5'],'Robot stops at 9,4\\n',exact_output=True) # ++\n",
    "test(['move3.txt','-5,5'],'Robot stops at -3,4\\n',exact_output=True)  #-+\n",
    "test(['move3.txt','-1,-1'],'Robot stops at 1,-2\\n',exact_output=True)  #--"
   ]
  },
  {
   "cell_type": "code",
   "execution_count": null,
   "metadata": {
    "deletable": false,
    "editable": false,
    "nbgrader": {
     "cell_type": "code",
     "checksum": "0bdd352ee64091aa402b0e77e18c16e5",
     "grade": true,
     "grade_id": "cell-a07ef84aa3313800",
     "locked": true,
     "points": 1,
     "schema_version": 3,
     "solution": false,
     "task": false
    }
   },
   "outputs": [],
   "source": [
    "'''ตรวจสอบผลการคำนวณและการแสดงผลลัพธ์ให้เหมือนกับโจทย์ที่กำหนดให้'''\n",
    "'''Invalid command'''\n",
    "test(['move4.txt','15,20'],'Invalid command\\n',exact_output=True) #\n",
    "test(['move4.txt','1,1'],'Invalid command\\n',exact_output=True) #\n",
    "test(['move4.txt','1,2'],'Invalid command\\n',exact_output=True) #ex"
   ]
  },
  {
   "cell_type": "code",
   "execution_count": null,
   "metadata": {
    "deletable": false,
    "editable": false,
    "nbgrader": {
     "cell_type": "code",
     "checksum": "b4a6aa5ca0639fd876fe5a37e0ac9680",
     "grade": true,
     "grade_id": "cell-ad91ccd55eeb0c2f",
     "locked": true,
     "points": 1,
     "schema_version": 3,
     "solution": false,
     "task": false
    }
   },
   "outputs": [],
   "source": [
    "'''เทส ลับ'''"
   ]
  }
 ],
 "metadata": {
  "kernelspec": {
   "display_name": "Python 3 (ipykernel)",
   "language": "python",
   "name": "python3"
  },
  "language_info": {
   "codemirror_mode": {
    "name": "ipython",
    "version": 3
   },
   "file_extension": ".py",
   "mimetype": "text/x-python",
   "name": "python",
   "nbconvert_exporter": "python",
   "pygments_lexer": "ipython3",
   "version": "3.9.12"
  }
 },
 "nbformat": 4,
 "nbformat_minor": 1
}
