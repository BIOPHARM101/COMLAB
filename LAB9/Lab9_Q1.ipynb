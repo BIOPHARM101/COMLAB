{
 "cells": [
  {
   "cell_type": "markdown",
   "metadata": {
    "deletable": false,
    "editable": false,
    "nbgrader": {
     "cell_type": "markdown",
     "checksum": "c3eee8ccc92969e74442362c07c36579",
     "grade": false,
     "grade_id": "cell-dbf37dcea5d7dc5c",
     "locked": true,
     "schema_version": 3,
     "solution": false,
     "task": false
    }
   },
   "source": [
    "## Q1 (5 points)\n",
    "จงเขียนโปรแกรมที่แสดงตัวเลือกให้ผู้ใช้ 6 ตัวเลือกได้แก่ <br>\n",
    "1 เพิ่มสินค้าไว้ลำดับท้ายสุดในลิสต์, <br>\n",
    "2 เปลี่ยนสินค้าในลิสต์, <br>\n",
    "3 เพิ่มสินค้าตามตำแหน่งที่ระบุในลิสต์, <br>\n",
    "4 ลบสินค้าในลิสต์, <br>\n",
    "5 แสดงสินค้าในลิสต์, <br>\n",
    "6 ออกจากโปรแกรม <br>\n",
    "\n",
    "จากนั้นวนรับตัวเลือกจากผู้ใช้และทำงานตามตัวเลือก โดยให้สร้างเป็นฟังก์ชันสำหรับแต่ละตัวเลือกและรายละเอียดสำหรับแต่ละตัวเลือกมีดังนี้<br>\n",
    "\n",
    "**การเพิ่มสินค้าไว้ลำดับท้ายสุดในลิสต์** <br>\n",
    "def add_item(item_list): <br>\n",
    "โดย item_list คือลิสต์ที่จะเพิ่มสินค้าลงไป <br>\n",
    "การทำงาน <br>\n",
    "- รับข้อมูลชื่อสินค้าที่จะเพิ่มจากผู้ใช้ <br>\n",
    "- หากสินค้านั้นยังไม่ปรากฏในลิสต์ จะเพิ่มสินค้าลงในลิสต์ แล้วแสดงข้อความว่า Item has been added <br>\n",
    "- หากสินค้านั้นปรากฏในลิสต์อยู่แล้ว จะไม่เพิ่มสินค้าซ้ำลงไป แต่จะแสดงข้อความว่า Item is already in the list  <br>\n",
    "\n",
    "**การเปลี่ยนสินค้าในลิสต์**  <br>\n",
    "def change_item(item_list):\n",
    "การทำงาน\n",
    "- รับข้อมูลชื่อสินค้าที่จะเปลี่ยนชื่อจากผู้ใช้ <br>\n",
    "- หากชื่อสินค้านั้นมีในลิสต์ ให้รับชื่อสินค้าใหม่ แล้วเปลี่ยนชื่อสินค้า จากนั้นแสดงข้อความว่า Item has been changed <br>\n",
    "- หากชื่อสินค้านั้นไม่มีในลิสต์ ให้แสดงข้อความว่า Item is not in the list <br>\n",
    "\n",
    "**เพิ่มสินค้าตามตำแหน่งที่ระบุในลิสต์**  <br>\n",
    "def insert_item(item_list):\n",
    "การทำงาน\n",
    "- รับข้อมูลชื่อสินค้าที่จะเพิ่มจากผู้ใช้<br>\n",
    "- รับตำแหน่งที่ต้องการจะเพิ่ม <br>\n",
    "- เพิ่มชื่อสินค้าตามตำแหน่งที่ระบุ <br>\n",
    "- แสดงข้อความว่า Item has been inserted<br>\n",
    "\n",
    "**ลบสินค้าในลิสต์** <br>\n",
    "def remove_item(item_list): <br>\n",
    "การทำงาน <br>\n",
    "- รับข้อมูลชื่อสินค้าที่จะลบจากผู้ใช้ <br>\n",
    "- หากชื่อสินค้านั้นมีในลิสต์ ให้ลบชื่อสินค้าออกจากลิสต์ จากนั้นแสดงข้อความว่า Item has been removed <br>\n",
    "- หากชื่อสินค้านั้นไม่มีในลิสต์ ให้แสดงข้อความว่า This item is not in the list <br>\n",
    "\n",
    "**แสดงสินค้าในลิสต์** <br>\n",
    "def show_items(item_list): <br>\n",
    "การทำงาน <br>\n",
    "- แสดงสินค้าในลิสต์ แต่หากเริ่มแรกสุดยังไม่มีสินค้าให้แสดงข้อความว่า The list is currently empty <br>\n",
    " "
   ]
  },
  {
   "cell_type": "markdown",
   "metadata": {
    "deletable": false,
    "editable": false,
    "nbgrader": {
     "cell_type": "markdown",
     "checksum": "ffa87f20ac98056be90b2d9a9d205142",
     "grade": false,
     "grade_id": "cell-e91b292e332e6674",
     "locked": true,
     "schema_version": 3,
     "solution": false,
     "task": false
    }
   },
   "source": [
    "### ตัวอย่างการทำงาน def show items and exit: \n",
    "\n",
    "What would you like to do? <br>\n",
    "1: add item <br>\n",
    "2: change item <br>\n",
    "3: insert item <br>\n",
    "4: remove item <br>\n",
    "5: show items <br>\n",
    "6: exit <br>\n",
    "---\n",
    "Enter a number: **5** <br> \n",
    "The list is currently empty <br>\n",
    "Enter a number: **6** <br>"
   ]
  },
  {
   "cell_type": "markdown",
   "metadata": {
    "deletable": false,
    "editable": false,
    "nbgrader": {
     "cell_type": "markdown",
     "checksum": "26d1c954f949b609e29a4455dda99d0e",
     "grade": false,
     "grade_id": "cell-499ab6a0d9ea06fe",
     "locked": true,
     "schema_version": 3,
     "solution": false,
     "task": false
    }
   },
   "source": [
    "### ตัวอย่างการทำงาน def add item and exit: \n",
    "What would you like to do? <br>\n",
    "1: add item <br>\n",
    "2: change item <br>\n",
    "3: insert item <br>\n",
    "4: remove item <br>\n",
    "5: show items <br>\n",
    "6: exit <br>\n",
    "---\n",
    "Enter a number: **1** <br>\n",
    "Enter item: **Pen** <br>\n",
    "Item has been added <br> \n",
    "Enter a number: **1** <br>\n",
    "Enter item: **Eraser** <br>\n",
    "Item has been added <br>\n",
    "Enter a number: **1** <br>\n",
    "Enter item: **Pen** <br>\n",
    "Item is already in the list <br>\n",
    "Enter a number: **5** <br>\n",
    "['Pen', 'Eraser'] <br>\n",
    "Enter a number: **6** <br>"
   ]
  },
  {
   "cell_type": "markdown",
   "metadata": {
    "deletable": false,
    "editable": false,
    "nbgrader": {
     "cell_type": "markdown",
     "checksum": "eb6da9375d8be1d7a54036462ff6972e",
     "grade": false,
     "grade_id": "cell-215eb9258ba379ac",
     "locked": true,
     "schema_version": 3,
     "solution": false,
     "task": false
    }
   },
   "source": [
    "### ตัวอย่างการทำงาน def change item and exit: \n",
    "What would you like to do? <br>\n",
    "1: add item <br>\n",
    "2: change item <br>\n",
    "3: insert item <br>\n",
    "4: remove item <br>\n",
    "5: show items <br>\n",
    "6: exit <br>\n",
    "---\n",
    "Enter a number: **1** <br>\n",
    "Enter item: **Pen** <br>\n",
    "Item has been added <br> \n",
    "Enter a number: **1** <br>\n",
    "Enter item: **Eraser** <br>\n",
    "Item has been added <br>\n",
    "Enter a number: **2** <br>\n",
    "Enter item you want to change: **Rubber** <br>\n",
    "Item is not in the list <br>\n",
    "Enter a number: **2** <br>\n",
    "Enter item you want to change: **Eraser** <br>\n",
    "Enter new item: **Ruler** <br>\n",
    "Item has been changed <br>\n",
    "Enter a number: **5** <br>\n",
    "['Pen', 'Ruler'] <br>\n",
    "Enter a number: **6** <br>"
   ]
  },
  {
   "cell_type": "markdown",
   "metadata": {
    "deletable": false,
    "editable": false,
    "nbgrader": {
     "cell_type": "markdown",
     "checksum": "4cd657bc066d11e05ded16ded494e697",
     "grade": false,
     "grade_id": "cell-39d603e94a813ebd",
     "locked": true,
     "schema_version": 3,
     "solution": false,
     "task": false
    }
   },
   "source": [
    "### ตัวอย่างการทำงาน def insert item  and exit: \n",
    "What would you like to do? <br>\n",
    "1: add item <br>\n",
    "2: change item <br>\n",
    "3: insert item <br>\n",
    "4: remove item <br>\n",
    "5: show items <br>\n",
    "6: exit <br>\n",
    "---\n",
    "Enter a number: **1** <br>\n",
    "Enter item: **Pen** <br>\n",
    "Item has been added <br> \n",
    "Enter a number: **1** <br>\n",
    "Enter item: **Eraser** <br>\n",
    "Item has been added <br>\n",
    "Enter a number: **3** <br>\n",
    "Enter item: **Pencil** <br>\n",
    "Enter location that you want to insert: **0** <br>\n",
    "Item has been inserted <br>\n",
    "Enter a number: **5** <br>\n",
    "['Pencil', 'Pen', 'Eraser'] <br>\n",
    "Enter a number: **6** <br>"
   ]
  },
  {
   "cell_type": "markdown",
   "metadata": {
    "deletable": false,
    "editable": false,
    "nbgrader": {
     "cell_type": "markdown",
     "checksum": "f5efe6371e9e36573674e374c0193f50",
     "grade": false,
     "grade_id": "cell-3542b8b29a515630",
     "locked": true,
     "schema_version": 3,
     "solution": false,
     "task": false
    }
   },
   "source": [
    "### ตัวอย่างการทำงาน def remove item  and exit: \n",
    "What would you like to do? <br>\n",
    "1: add item <br>\n",
    "2: change item <br>\n",
    "3: insert item <br>\n",
    "4: remove item <br>\n",
    "5: show items <br>\n",
    "6: exit <br>\n",
    "---\n",
    "Enter a number: **1** <br>\n",
    "Enter item: **Pen** <br>\n",
    "Item has been added <br> \n",
    "Enter a number: **1** <br>\n",
    "Enter item: **Eraser** <br>\n",
    "Item has been added <br>\n",
    "Enter a number: **1** <br>\n",
    "Enter item: **Pencil** <br>\n",
    "Item has been added <br>\n",
    "Enter a number: **4** <br>\n",
    "Enter item you want to remove: **Sharpener** <br>\n",
    "This item is not in the list <br>\n",
    "Enter a number: **4** <br>\n",
    "Enter item you want to remove: **Pen** <br>\n",
    "Item has been removed <br>\n",
    "Enter a number: **5** <br>\n",
    "['Eraser', 'Pencil'] <br>\n",
    "Enter a number: **6** <br>"
   ]
  },
  {
   "cell_type": "code",
   "execution_count": null,
   "metadata": {
    "deletable": false,
    "nbgrader": {
     "cell_type": "code",
     "checksum": "e36571637794cfd0bcee143f71f8778e",
     "grade": false,
     "grade_id": "name",
     "locked": false,
     "schema_version": 3,
     "solution": true
    }
   },
   "outputs": [],
   "source": [
    "def add_item(item_list) :\n",
    "    if item_list not in all_item_list:\n",
    "        all_item_list.append(item_list)    \n",
    "        print('Item has been added')\n",
    "    else:\n",
    "        print('Item is already in the list')\n",
    "def change_item(item_list) :\n",
    "    if item_list in all_item_list:\n",
    "        n=input('Enter new item: ')\n",
    "        lo=all_item_list.index(item_list)\n",
    "        all_item_list[lo]=n\n",
    "        print('Item has been changed')\n",
    "    else:\n",
    "        print('Item is not in the list')\n",
    "def insert_item(item_list) :\n",
    "    lo=int(input('Enter location that you want to insert: '))\n",
    "    all_item_list.insert(lo,item_list)\n",
    "    print('Item has been inserted')\n",
    "def remove_item(item_list) :\n",
    "    if item_list in all_item_list:\n",
    "        all_item_list.remove(item_list)\n",
    "        print('Item has been removed')\n",
    "    else:\n",
    "        print('This item is not in the list')\n",
    "def show_item(item_list) :\n",
    "    if len(all_item_list)==0:\n",
    "        print('The list is currently empty')\n",
    "    else:\n",
    "        print(all_item_list)\n",
    "\n",
    "def run():\n",
    "    print('What would you like to do?\\n1: add item\\n2: change item\\n3: insert item\\n4: remove item\\n5: show items\\n6: exit')\n",
    "    global all_item_list\n",
    "    all_item_list=[]\n",
    "    while True:\n",
    "        choice=input('Enter a number: ')\n",
    "        if choice=='1':\n",
    "            item=input('Enter item: ')\n",
    "            add_item(item)\n",
    "        if choice=='2':\n",
    "            item=input('Enter item you want to change: ')\n",
    "            change_item(item)\n",
    "        if choice=='3':\n",
    "            item=input('Enter item: ')\n",
    "            insert_item(item)\n",
    "        if choice=='4':\n",
    "            item=input('Enter itemyou want to remove: ')\n",
    "            remove_item(item)\n",
    "        if choice=='5':\n",
    "            show_item('')\n",
    "        if choice=='6':\n",
    "            break"
   ]
  },
  {
   "cell_type": "code",
   "execution_count": null,
   "metadata": {
    "deletable": false,
    "editable": false,
    "nbgrader": {
     "cell_type": "code",
     "checksum": "b7b03893ed0aaf1a2af60ae612b4be37",
     "grade": false,
     "grade_id": "cell-befa13e6c82bd29b",
     "locked": true,
     "schema_version": 3,
     "solution": false,
     "task": false
    },
    "scrolled": false
   },
   "outputs": [],
   "source": [
    "'''ตรวจสอบผลลัพธ์ของโปรแกรมด้วยการรันที่ cell นี้'''\n",
    "run()"
   ]
  },
  {
   "cell_type": "code",
   "execution_count": null,
   "metadata": {
    "deletable": false,
    "editable": false,
    "nbgrader": {
     "cell_type": "code",
     "checksum": "b4e38bff05d3a7fa3d6eca960b5139a4",
     "grade": true,
     "grade_id": "partial",
     "locked": true,
     "points": 0,
     "schema_version": 3,
     "solution": false,
     "task": false
    }
   },
   "outputs": [],
   "source": [
    "'''ตรวจสอบผลการคำนวณ'''\n",
    "from unittest.mock import patch\n",
    "from io import StringIO\n",
    "import math\n",
    "\n",
    "def test(inputs,expected_output,exact_output): \n",
    "    with patch('builtins.input', side_effect=inputs), patch('sys.stdout', new_callable=StringIO) as mock_stdout:\n",
    "        run()\n",
    "        assert mock_stdout.getvalue() == expected_output,mock_stdout.getvalue()"
   ]
  },
  {
   "cell_type": "code",
   "execution_count": null,
   "metadata": {
    "deletable": false,
    "editable": false,
    "nbgrader": {
     "cell_type": "code",
     "checksum": "230c34f816264cc790cc58ac1bac44c9",
     "grade": true,
     "grade_id": "exact",
     "locked": false,
     "points": 1,
     "schema_version": 3,
     "solution": false
    }
   },
   "outputs": [],
   "source": [
    "'''ตรวจสอบผลการคำนวณและการแสดงผลลัพธ์ให้เหมือนกับโจทย์ที่กำหนดให้'''\n",
    "'''Test function show'''\n",
    "test(['5','6'],'What would you like to do?\\n1: add item\\n2: change item\\n3: insert item\\n\\\n",
    "4: remove item\\n5: show items\\n6: exit\\nThe list is currently empty\\n',exact_output=True)"
   ]
  },
  {
   "cell_type": "code",
   "execution_count": null,
   "metadata": {
    "deletable": false,
    "editable": false,
    "nbgrader": {
     "cell_type": "code",
     "checksum": "ff7ad30017fb71c9caa4427f3a38fb68",
     "grade": true,
     "grade_id": "cell-c73870cae5a59dfa",
     "locked": true,
     "points": 1,
     "schema_version": 3,
     "solution": false,
     "task": false
    }
   },
   "outputs": [],
   "source": [
    "'''ตรวจสอบผลการคำนวณและการแสดงผลลัพธ์ให้เหมือนกับโจทย์ที่กำหนดให้'''\n",
    "'''Test function add'''\n",
    "test(['1','Pen','1','Eraser','1','Pen','5','6'],'What would you like to do?\\n1: add item\\n2: change item\\n3: insert item\\n\\\n",
    "4: remove item\\n5: show items\\n6: exit\\nItem has been added\\nItem has been added\\nItem is already in the list\\n[\\'Pen\\', \\'Eraser\\']\\n',exact_output=True)"
   ]
  },
  {
   "cell_type": "code",
   "execution_count": null,
   "metadata": {
    "deletable": false,
    "editable": false,
    "nbgrader": {
     "cell_type": "code",
     "checksum": "78e0df78578c7dd6fe0af8790f0b4eec",
     "grade": true,
     "grade_id": "cell-cbc47179f27fefee",
     "locked": true,
     "points": 1,
     "schema_version": 3,
     "solution": false,
     "task": false
    }
   },
   "outputs": [],
   "source": [
    "'''ตรวจสอบผลการคำนวณและการแสดงผลลัพธ์ให้เหมือนกับโจทย์ที่กำหนดให้'''\n",
    "'''Test function change'''\n",
    "test(['1','Pen','1','Eraser','2','Rubber','2','Eraser','Ruler','5','6'],'What would you like to do?\\n1: add item\\n2: change item\\n3: insert item\\n\\\n",
    "4: remove item\\n5: show items\\n6: exit\\nItem has been added\\nItem has been added\\nItem is not in the list\\n\\\n",
    "Item has been changed\\n[\\'Pen\\', \\'Ruler\\']\\n',exact_output=True)"
   ]
  },
  {
   "cell_type": "code",
   "execution_count": null,
   "metadata": {
    "deletable": false,
    "editable": false,
    "nbgrader": {
     "cell_type": "code",
     "checksum": "ea561d57192509905324311ba0654cc6",
     "grade": true,
     "grade_id": "cell-0ec36ba71a93f61f",
     "locked": true,
     "points": 1,
     "schema_version": 3,
     "solution": false,
     "task": false
    }
   },
   "outputs": [],
   "source": [
    "'''ตรวจสอบผลการคำนวณและการแสดงผลลัพธ์ให้เหมือนกับโจทย์ที่กำหนดให้'''\n",
    "'''Test function insert'''\n",
    "test(['1','Pen','1','Eraser','3','Pencil','0','5','6'],'What would you like to do?\\n1: add item\\n2: change item\\n3: insert item\\n\\\n",
    "4: remove item\\n5: show items\\n6: exit\\nItem has been added\\nItem has been added\\nItem has been inserted\\n[\\'Pencil\\', \\'Pen\\', \\'Eraser\\']\\n',exact_output=True)"
   ]
  },
  {
   "cell_type": "code",
   "execution_count": null,
   "metadata": {
    "deletable": false,
    "editable": false,
    "nbgrader": {
     "cell_type": "code",
     "checksum": "55e3e52053eb22719e7c5a16936c042d",
     "grade": true,
     "grade_id": "cell-f59ccd5b163fae70",
     "locked": true,
     "points": 1,
     "schema_version": 3,
     "solution": false,
     "task": false
    }
   },
   "outputs": [],
   "source": [
    "'''ตรวจสอบผลการคำนวณและการแสดงผลลัพธ์ให้เหมือนกับโจทย์ที่กำหนดให้'''\n",
    "'''Test function remove'''\n",
    "test(['1','Pen','1','Eraser','1','Pencil','4','Sharpener','4','Pen','5','6'],'What would you like to do?\\n1: add item\\n2: change item\\n3: insert item\\n\\\n",
    "4: remove item\\n5: show items\\n6: exit\\nItem has been added\\nItem has been added\\nItem has been added\\nThis item is not in the list\\nItem has been removed\\n\\\n",
    "[\\'Eraser\\', \\'Pencil\\']\\n',exact_output=True)"
   ]
  }
 ],
 "metadata": {
  "kernelspec": {
   "display_name": "Python 3 (ipykernel)",
   "language": "python",
   "name": "python3"
  },
  "language_info": {
   "codemirror_mode": {
    "name": "ipython",
    "version": 3
   },
   "file_extension": ".py",
   "mimetype": "text/x-python",
   "name": "python",
   "nbconvert_exporter": "python",
   "pygments_lexer": "ipython3",
   "version": "3.9.12"
  }
 },
 "nbformat": 4,
 "nbformat_minor": 1
}
